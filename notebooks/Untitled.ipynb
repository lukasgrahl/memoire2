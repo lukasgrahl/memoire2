{
 "cells": [
  {
   "cell_type": "code",
   "execution_count": 1,
   "id": "cb8ecec4",
   "metadata": {},
   "outputs": [],
   "source": [
    "%run init_notebook.py\n",
    "from settings import DATA_DIR, GRAPHS_DIR"
   ]
  },
  {
   "cell_type": "code",
   "execution_count": 15,
   "id": "e00bdbcd",
   "metadata": {},
   "outputs": [],
   "source": [
    "import os\n",
    "import pickle\n",
    "\n",
    "import numpy as np\n",
    "import pandas as pd\n",
    "\n",
    "import matplotlib.pyplot as plt\n",
    "\n",
    "import spacy\n",
    "import regex as re\n",
    "\n",
    "import chromadb\n",
    "\n",
    "from uuid import uuid4\n",
    "\n",
    "from itertools import chain\n",
    "from collections import Counter"
   ]
  },
  {
   "cell_type": "code",
   "execution_count": 3,
   "id": "251b3403",
   "metadata": {},
   "outputs": [],
   "source": [
    "# load ecb speeches"
   ]
  },
  {
   "cell_type": "code",
   "execution_count": 4,
   "id": "8f9b7081",
   "metadata": {},
   "outputs": [],
   "source": [
    "f = open(os.path.join(DATA_DIR, 'ecb_speeches.pickle'), 'rb')\n",
    "speeches = pickle.load(f)\n",
    "f.close()"
   ]
  },
  {
   "cell_type": "code",
   "execution_count": 7,
   "id": "b356bd58",
   "metadata": {},
   "outputs": [],
   "source": [
    "speeches = dict(zip([str(uuid4()) for i in range(0, len(speeches))], list(speeches.values())))"
   ]
  },
  {
   "cell_type": "code",
   "execution_count": 8,
   "id": "7557c90b",
   "metadata": {},
   "outputs": [],
   "source": [
    "N = -1\n",
    "documents = [v['text'] for k,v in speeches.items()]\n",
    "docs_spacy = [v['doc'] for k,v in speeches.items()]\n",
    "embeds = [list(v['doc'].vector) for k,v in speeches.items()]\n",
    "metadatas = [{'date': str(v['date']), 'title': v['title'], 'url': v['url']} for k,v in speeches.items()]\n",
    "ids = list(speeches.keys())\n",
    "dict_dates = {k: v['date'] for k,v in speeches.items()}"
   ]
  },
  {
   "cell_type": "code",
   "execution_count": 9,
   "id": "616fd78f",
   "metadata": {},
   "outputs": [],
   "source": [
    "# tf-idf"
   ]
  },
  {
   "cell_type": "code",
   "execution_count": 12,
   "id": "ceefdf93",
   "metadata": {},
   "outputs": [],
   "source": [
    "propns = {\n",
    "    ids[idx]: \n",
    "    [\n",
    "        t.lemma_ for t in docs_spacy[idx] if \n",
    "        (t.pos_ in [\"PROPN\", \"NOUN\"]) \n",
    "        and re.fullmatch(r\"[^a-zA-Z0-9]\", t.lemma_) is None\n",
    "    ] \n",
    "    for idx in range(len(docs_spacy))\n",
    "}"
   ]
  },
  {
   "cell_type": "code",
   "execution_count": 13,
   "id": "97aa8b4a",
   "metadata": {},
   "outputs": [],
   "source": [
    "from collections import Counter"
   ]
  },
  {
   "cell_type": "code",
   "execution_count": 16,
   "id": "af89e8ef",
   "metadata": {},
   "outputs": [],
   "source": [
    "tf = {}\n",
    "for idx, terms in propns.items():\n",
    "    counter = Counter(terms)\n",
    "    _freq = np.array(list(counter.values())) / sum(counter.values())\n",
    "    tf[idx] = dict(zip(counter.keys(), _freq))\n",
    "    \n",
    "bag_of_words = list(set([*chain(*[list(i.keys()) for i in list(tf.values())])]))\n",
    "lst_doc_words = [list(v.keys()) for k,v in tf.items()]\n",
    "idf = {}\n",
    "for term in bag_of_words:\n",
    "    idf[term] = np.log(len(lst_doc_words) / (1 + sum([term in d for d in lst_doc_words]))) + 1"
   ]
  },
  {
   "cell_type": "code",
   "execution_count": 21,
   "id": "65617cc9",
   "metadata": {},
   "outputs": [],
   "source": [
    "tf_idf = {idx: {k: idf[k] * v for k,v in doc.items()} for idx,doc in tf.items()}"
   ]
  },
  {
   "cell_type": "code",
   "execution_count": 56,
   "id": "96550d88",
   "metadata": {},
   "outputs": [],
   "source": [
    "df_tfidf = pd.DataFrame(tf_idf).transpose()\n",
    "df_tfidf['date'] = df_tfidf.index.map(dict_dates)\n",
    "df_tfidf.sort_values('date', inplace=True)\n",
    "df_tfidf.index.name = 'uuid'\n",
    "df_tfidf.drop('date', axis=1, inplace=True)\n",
    "# df_tfidf.reset_index(inplace=True)\n",
    "# df_tfidf.set_index(['], inplace=True)\n",
    "# df_tfidf.sort_index(inplace=True)"
   ]
  },
  {
   "cell_type": "code",
   "execution_count": 70,
   "id": "c507494f",
   "metadata": {},
   "outputs": [
    {
     "data": {
      "text/plain": [
       "President      0.004923\n",
       "Vice           0.005133\n",
       "detail         0.005514\n",
       "conference     0.008015\n",
       "expectation    0.009212\n",
       "press          0.010165\n",
       "assessment     0.011868\n",
       "interest       0.014747\n",
       "pressure       0.016466\n",
       "instrument     0.016503\n",
       "time           0.016593\n",
       "sector         0.019136\n",
       "risk           0.019165\n",
       "bank           0.020064\n",
       "condition      0.029231\n",
       "rate           0.029495\n",
       "measure        0.032313\n",
       "euro           0.033989\n",
       "price          0.034044\n",
       "term           0.034808\n",
       "area           0.038927\n",
       "economy        0.045831\n",
       "policy         0.060705\n",
       "inflation      0.063708\n",
       "dtype: float64"
      ]
     },
     "execution_count": 70,
     "metadata": {},
     "output_type": "execute_result"
    }
   ],
   "source": [
    "df_tfidf.iloc[-25:].dropna(axis=1).max().sort_values()"
   ]
  },
  {
   "cell_type": "code",
   "execution_count": 80,
   "id": "042dae2d",
   "metadata": {},
   "outputs": [
    {
     "data": {
      "text/plain": [
       "cent            0.163040\n",
       "remark          0.164352\n",
       "competition     0.186641\n",
       "planning        0.187669\n",
       "statistic       0.194949\n",
       "General         0.200574\n",
       "banknote        0.204087\n",
       "supervision     0.207210\n",
       "premise         0.207252\n",
       "Solbes          0.207602\n",
       "presentation    0.216550\n",
       "Europol         0.220888\n",
       "co              0.225203\n",
       "architect       0.228537\n",
       "breakdown       0.229335\n",
       "project         0.238941\n",
       "Rato            0.433017\n",
       "proposal        0.454882\n",
       "Mr.             0.525063\n",
       "design          0.669758\n",
       "dtype: float64"
      ]
     },
     "execution_count": 80,
     "metadata": {},
     "output_type": "execute_result"
    }
   ],
   "source": [
    "df_tfidf.max().sort_values().iloc[-20:]"
   ]
  },
  {
   "cell_type": "code",
   "execution_count": 81,
   "id": "b2735c5d",
   "metadata": {},
   "outputs": [
    {
     "data": {
      "text/plain": [
       "[<matplotlib.lines.Line2D at 0x28d0cd629d0>]"
      ]
     },
     "execution_count": 81,
     "metadata": {},
     "output_type": "execute_result"
    },
    {
     "data": {
      "image/png": "[encoded data removed]",
      "text/plain": [
       "<Figure size 640x480 with 1 Axes>"
      ]
     },
     "metadata": {},
     "output_type": "display_data"
    }
   ],
   "source": [
    "plt.plot(df_tfidf['inflation'].values)"
   ]
  },
  {
   "cell_type": "code",
   "execution_count": null,
   "id": "75b743a8",
   "metadata": {},
   "outputs": [],
   "source": []
  },
  {
   "cell_type": "code",
   "execution_count": null,
   "id": "2b53b99f",
   "metadata": {},
   "outputs": [],
   "source": []
  },
  {
   "cell_type": "code",
   "execution_count": null,
   "id": "d57a9847",
   "metadata": {},
   "outputs": [],
   "source": [
    "# chromadb embedding"
   ]
  },
  {
   "cell_type": "code",
   "execution_count": 116,
   "id": "266de4a6",
   "metadata": {},
   "outputs": [],
   "source": [
    "chroma_client = chromadb.Client()\n",
    "collection = chroma_client.get_or_create_collection(name=\"test2_collection\")"
   ]
  },
  {
   "cell_type": "code",
   "execution_count": 122,
   "id": "f48f1c94",
   "metadata": {},
   "outputs": [
    {
     "data": {
      "text/plain": [
       "266"
      ]
     },
     "execution_count": 122,
     "metadata": {},
     "output_type": "execute_result"
    }
   ],
   "source": [
    "len(metadatas)"
   ]
  },
  {
   "cell_type": "code",
   "execution_count": 123,
   "id": "35405066",
   "metadata": {},
   "outputs": [
    {
     "data": {
      "text/plain": [
       "266"
      ]
     },
     "execution_count": 123,
     "metadata": {},
     "output_type": "execute_result"
    }
   ],
   "source": [
    "len(ids)"
   ]
  },
  {
   "cell_type": "code",
   "execution_count": 124,
   "id": "594bd73b",
   "metadata": {},
   "outputs": [],
   "source": [
    "collection.add(\n",
    "#     embeddings=embeds,\n",
    "    documents=documents,\n",
    "    metadatas=metadatas,\n",
    "    ids=ids\n",
    ")"
   ]
  },
  {
   "cell_type": "code",
   "execution_count": 141,
   "id": "173227d4",
   "metadata": {},
   "outputs": [
    {
     "ename": "ValueError",
     "evalue": "You must provide one of query_embeddings, query_texts, query_images, or query_uris.",
     "output_type": "error",
     "traceback": [
      "\u001b[1;31m---------------------------------------------------------------------------\u001b[0m",
      "\u001b[1;31mValueError\u001b[0m                                Traceback (most recent call last)",
      "Cell \u001b[1;32mIn [141], line 1\u001b[0m\n\u001b[1;32m----> 1\u001b[0m results \u001b[38;5;241m=\u001b[39m \u001b[43mcollection\u001b[49m\u001b[38;5;241;43m.\u001b[39;49m\u001b[43mquery\u001b[49m\u001b[43m(\u001b[49m\n\u001b[0;32m      2\u001b[0m \u001b[38;5;66;43;03m#     query_texts=[\"rising inflation\"],\u001b[39;49;00m\n\u001b[0;32m      3\u001b[0m \u001b[43m    \u001b[49m\u001b[43mn_results\u001b[49m\u001b[38;5;241;43m=\u001b[39;49m\u001b[38;5;241;43m20\u001b[39;49m\u001b[43m,\u001b[49m\n\u001b[0;32m      4\u001b[0m \u001b[43m    \u001b[49m\u001b[43mwhere_document\u001b[49m\u001b[38;5;241;43m=\u001b[39;49m\u001b[43m{\u001b[49m\u001b[38;5;124;43m\"\u001b[39;49m\u001b[38;5;124;43m$contains\u001b[39;49m\u001b[38;5;124;43m\"\u001b[39;49m\u001b[43m:\u001b[49m\u001b[38;5;124;43m\"\u001b[39;49m\u001b[38;5;124;43minflation\u001b[39;49m\u001b[38;5;124;43m\"\u001b[39;49m\u001b[43m}\u001b[49m\n\u001b[0;32m      5\u001b[0m \u001b[43m)\u001b[49m\n",
      "File \u001b[1;32m~\\miniforge3\\envs\\mamba_env_memoire2\\Lib\\site-packages\\chromadb\\api\\models\\Collection.py:291\u001b[0m, in \u001b[0;36mCollection.query\u001b[1;34m(self, query_embeddings, query_texts, query_images, query_uris, n_results, where, where_document, include)\u001b[0m\n\u001b[0;32m    284\u001b[0m \u001b[38;5;66;03m# Users must provide only one of query_embeddings, query_texts, query_images, or query_uris\u001b[39;00m\n\u001b[0;32m    285\u001b[0m \u001b[38;5;28;01mif\u001b[39;00m \u001b[38;5;129;01mnot\u001b[39;00m (\n\u001b[0;32m    286\u001b[0m     (query_embeddings \u001b[38;5;129;01mis\u001b[39;00m \u001b[38;5;129;01mnot\u001b[39;00m \u001b[38;5;28;01mNone\u001b[39;00m)\n\u001b[0;32m    287\u001b[0m     \u001b[38;5;241m^\u001b[39m (query_texts \u001b[38;5;129;01mis\u001b[39;00m \u001b[38;5;129;01mnot\u001b[39;00m \u001b[38;5;28;01mNone\u001b[39;00m)\n\u001b[0;32m    288\u001b[0m     \u001b[38;5;241m^\u001b[39m (query_images \u001b[38;5;129;01mis\u001b[39;00m \u001b[38;5;129;01mnot\u001b[39;00m \u001b[38;5;28;01mNone\u001b[39;00m)\n\u001b[0;32m    289\u001b[0m     \u001b[38;5;241m^\u001b[39m (query_uris \u001b[38;5;129;01mis\u001b[39;00m \u001b[38;5;129;01mnot\u001b[39;00m \u001b[38;5;28;01mNone\u001b[39;00m)\n\u001b[0;32m    290\u001b[0m ):\n\u001b[1;32m--> 291\u001b[0m     \u001b[38;5;28;01mraise\u001b[39;00m \u001b[38;5;167;01mValueError\u001b[39;00m(\n\u001b[0;32m    292\u001b[0m         \u001b[38;5;124m\"\u001b[39m\u001b[38;5;124mYou must provide one of query_embeddings, query_texts, query_images, or query_uris.\u001b[39m\u001b[38;5;124m\"\u001b[39m\n\u001b[0;32m    293\u001b[0m     )\n\u001b[0;32m    295\u001b[0m valid_where \u001b[38;5;241m=\u001b[39m validate_where(where) \u001b[38;5;28;01mif\u001b[39;00m where \u001b[38;5;28;01melse\u001b[39;00m {}\n\u001b[0;32m    296\u001b[0m valid_where_document \u001b[38;5;241m=\u001b[39m (\n\u001b[0;32m    297\u001b[0m     validate_where_document(where_document) \u001b[38;5;28;01mif\u001b[39;00m where_document \u001b[38;5;28;01melse\u001b[39;00m {}\n\u001b[0;32m    298\u001b[0m )\n",
      "\u001b[1;31mValueError\u001b[0m: You must provide one of query_embeddings, query_texts, query_images, or query_uris."
     ]
    }
   ],
   "source": [
    "results = collection.query(\n",
    "    query_texts=[\"rising inflation\"],\n",
    "    n_results=20,\n",
    "    where_document={\"$contains\":\"inflation\"}\n",
    ")"
   ]
  },
  {
   "cell_type": "code",
   "execution_count": 129,
   "id": "56286bc6",
   "metadata": {},
   "outputs": [],
   "source": [
    "x = collection.get(include=['embeddings'])['embeddings']\n",
    "x = np.array(x)"
   ]
  },
  {
   "cell_type": "code",
   "execution_count": 130,
   "id": "ed7c10e0",
   "metadata": {},
   "outputs": [
    {
     "data": {
      "text/plain": [
       "(266, 384)"
      ]
     },
     "execution_count": 130,
     "metadata": {},
     "output_type": "execute_result"
    }
   ],
   "source": [
    "x.shape"
   ]
  },
  {
   "cell_type": "code",
   "execution_count": 90,
   "id": "32e0036b",
   "metadata": {},
   "outputs": [
    {
     "data": {
      "text/plain": [
       "(5, 300)"
      ]
     },
     "execution_count": 90,
     "metadata": {},
     "output_type": "execute_result"
    }
   ],
   "source": [
    "np.array(embeds).shape"
   ]
  },
  {
   "cell_type": "code",
   "execution_count": null,
   "id": "9eac8518",
   "metadata": {},
   "outputs": [],
   "source": [
    "speeches"
   ]
  }
 ],
 "metadata": {
  "kernelspec": {
   "display_name": "mamba_env_memoire2",
   "language": "python",
   "name": "mamba_env_memoire2"
  },
  "language_info": {
   "codemirror_mode": {
    "name": "ipython",
    "version": 3
   },
   "file_extension": ".py",
   "mimetype": "text/x-python",
   "name": "python",
   "nbconvert_exporter": "python",
   "pygments_lexer": "ipython3",
   "version": "3.11.7"
  }
 },
 "nbformat": 4,
 "nbformat_minor": 5
}
