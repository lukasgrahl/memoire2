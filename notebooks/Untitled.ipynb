{
 "cells": [
  {
   "cell_type": "code",
   "execution_count": 1,
   "id": "616878c3-5ffd-4c78-a352-603b121e3c38",
   "metadata": {},
   "outputs": [],
   "source": [
    "%run init_notebook.py"
   ]
  },
  {
   "cell_type": "code",
   "execution_count": 2,
   "id": "1a37f761-3bae-4d9c-a9a5-9bf9061ef0ce",
   "metadata": {},
   "outputs": [],
   "source": [
    "import scipy"
   ]
  },
  {
   "cell_type": "code",
   "execution_count": 31,
   "id": "a3b1b7f2-4be2-4e8a-8050-e323977d2868",
   "metadata": {},
   "outputs": [],
   "source": [
    "g1 = scipy.stats.norm(2, 10)\n",
    "g2 = scipy.stats.norm(3, 5)"
   ]
  },
  {
   "cell_type": "code",
   "execution_count": 32,
   "id": "fda5539b-0404-4945-9ada-9b56ec9bb5ee",
   "metadata": {},
   "outputs": [],
   "source": [
    "def mul_gaussians(g1, g2):\n",
    "    mu = (g1.std() * g2.mean() + g2.std() * g1.mean()) / (g1.std() + g2.std())\n",
    "    sig = g1.std() * g2.std() / (g1.std() + g2.std())\n",
    "    return scipy.stats.norm(mu, sig)"
   ]
  },
  {
   "cell_type": "code",
   "execution_count": 35,
   "id": "7ce42c63-55a0-416d-808e-40dbe0dc50f8",
   "metadata": {},
   "outputs": [
    {
     "data": {
      "text/plain": [
       "[(3.0, 5),\n",
       " (3.1, 5),\n",
       " (3.2, 5),\n",
       " (3.3, 5),\n",
       " (3.4, 5),\n",
       " (3.5, 5),\n",
       " (3.6, 5),\n",
       " (3.7, 5),\n",
       " (3.8, 5),\n",
       " (3.9, 5)]"
      ]
     },
     "execution_count": 35,
     "metadata": {},
     "output_type": "execute_result"
    }
   ],
   "source": [
    "signal"
   ]
  },
  {
   "cell_type": "code",
   "execution_count": 72,
   "id": "4fdc8886-7fad-43bb-a17b-9357640ec416",
   "metadata": {},
   "outputs": [
    {
     "data": {
      "text/plain": [
       "[(3.0, 2)]"
      ]
     },
     "execution_count": 72,
     "metadata": {},
     "output_type": "execute_result"
    }
   ],
   "source": [
    "obs_sig"
   ]
  },
  {
   "cell_type": "code",
   "execution_count": 108,
   "id": "ba0715a3-f2ac-4046-803f-a1fd7dcf5dbf",
   "metadata": {},
   "outputs": [
    {
     "data": {
      "text/plain": [
       "''"
      ]
     },
     "execution_count": 108,
     "metadata": {},
     "output_type": "execute_result"
    },
    {
     "data": {
      "image/png": "[encoded data removed]",
      "text/plain": [
       "<Figure size 640x480 with 1 Axes>"
      ]
     },
     "metadata": {},
     "output_type": "display_data"
    }
   ],
   "source": [
    "T = 100\n",
    "\n",
    "g0 = scipy.stats.norm(2, 1)\n",
    "\n",
    "true_sig = [(3, 2) if i <= 7 else (8, 2) for i in range(T)]\n",
    "obs_sig = [(i[0], i[1] * 5) for i in true_sig]\n",
    "g_true = scipy.stats.norm(true_sig[-1][0], true_sig[-1][1])\n",
    "\n",
    "g = g0\n",
    "for t in range(T):\n",
    "    g = mul_gaussians(g,scipy.stats.norm(obs_sig[t][0], obs_sig[t][1]))\n",
    "\n",
    "plt.hist(g0.rvs(10000), bins='fd', alpha=.5)\n",
    "plt.hist(g.rvs(10000), bins='fd', alpha=.5)\n",
    "plt.hist(g_true.rvs(10000), bins='fd', alpha=.5)\n",
    "plt.legend(['start', 'believe', 'true'])\n",
    ";"
   ]
  },
  {
   "cell_type": "code",
   "execution_count": 109,
   "id": "5952656b-c358-479e-b7a1-584938949440",
   "metadata": {},
   "outputs": [
    {
     "data": {
      "text/plain": [
       "(7.0909090909090935, 8.0)"
      ]
     },
     "execution_count": 109,
     "metadata": {},
     "output_type": "execute_result"
    }
   ],
   "source": [
    "g.mean(), g_true.mean()"
   ]
  },
  {
   "cell_type": "code",
   "execution_count": null,
   "id": "a5f8ee3e-82aa-4aa1-bc5e-ddc97dcaf617",
   "metadata": {},
   "outputs": [],
   "source": []
  },
  {
   "cell_type": "code",
   "execution_count": null,
   "id": "ef7a4926-26e5-4840-85aa-667a46378eaa",
   "metadata": {},
   "outputs": [],
   "source": []
  }
 ],
 "metadata": {
  "kernelspec": {
   "display_name": "mamba_env_memoire2",
   "language": "python",
   "name": "mamba_env_memoire2"
  },
  "language_info": {
   "codemirror_mode": {
    "name": "ipython",
    "version": 3
   },
   "file_extension": ".py",
   "mimetype": "text/x-python",
   "name": "python",
   "nbconvert_exporter": "python",
   "pygments_lexer": "ipython3",
   "version": "3.11.7"
  }
 },
 "nbformat": 4,
 "nbformat_minor": 5
}
