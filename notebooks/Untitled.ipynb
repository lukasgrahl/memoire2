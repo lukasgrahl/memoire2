{
 "cells": [
  {
   "cell_type": "code",
   "execution_count": 21,
   "id": "cd282aa7-bb77-414a-837c-bc30c9aae5fb",
   "metadata": {},
   "outputs": [],
   "source": [
    "%run init_notebook.py"
   ]
  },
  {
   "cell_type": "code",
   "execution_count": 22,
   "id": "0c0e1763-0b2c-45b6-867c-ecc691e97123",
   "metadata": {},
   "outputs": [],
   "source": [
    "from src.utils import load_pd_df, get_dt_index"
   ]
  },
  {
   "cell_type": "code",
   "execution_count": null,
   "id": "d1b65998-ae9f-4ad9-889f-3564cda52a21",
   "metadata": {},
   "outputs": [],
   "source": []
  },
  {
   "cell_type": "code",
   "execution_count": 173,
   "id": "638e7b9e-599e-47cd-b1d1-d97507366388",
   "metadata": {},
   "outputs": [],
   "source": [
    "from io import StringIO\n",
    "import sys\n",
    "\n",
    "class Capturing(list):\n",
    "    def __enter__(self):\n",
    "        self._stdout = sys.stdout\n",
    "        sys.stdout = self._stringio = StringIO()\n",
    "        return self\n",
    "\n",
    "    def __exit__(self, *args):\n",
    "        self.extend(self._stringio.getvalue().splitlines())\n",
    "        del self._stringio\n",
    "        sys.stdout = self._stdout\n",
    "\n",
    "def write_to_txt(output: str, file_name):\n",
    "    f = open(os.path.join(GRAPHS_DIR, file_name), 'w+')\n",
    "    f.write(output)\n",
    "    f.close()\n",
    "    pass"
   ]
  },
  {
   "cell_type": "code",
   "execution_count": 164,
   "id": "8f97fc74-b454-4d6c-901f-998998bd122f",
   "metadata": {},
   "outputs": [],
   "source": [
    "pi = get_dt_index(load_pd_df('de_inf_prepro.csv'))\n",
    "pi_e = load_pd_df('infl_expec.feather')\n",
    "bei = load_pd_df('bei_data.feather')"
   ]
  },
  {
   "cell_type": "code",
   "execution_count": 165,
   "id": "f4b061f9-1e48-4635-ab4b-ff491ef21ffe",
   "metadata": {},
   "outputs": [],
   "source": [
    "pi['M'] = pi.index.to_period('M').start_time\n",
    "pi_e['M'] = pi_e.index.to_period('M').start_time\n",
    "pi_e.index.name = 'date'\n",
    "bei['W'] = bei.index.to_period('W').start_time\n",
    "bei.drop('pi_de_surprise_Y', axis=1, inplace=True)\n",
    "bei = bei.reset_index().set_index('W')"
   ]
  },
  {
   "cell_type": "code",
   "execution_count": 166,
   "id": "502ecafc-7ab8-491c-9dd0-abd60f723230",
   "metadata": {},
   "outputs": [],
   "source": [
    "pi = pi.reset_index().set_index('M')[['pi_de_Y', 'pi_de_surprise_Y', 'date']]\n",
    "pi_e = pi_e.reset_index().set_index('M')[['pi_e_estimate_mean']]"
   ]
  },
  {
   "cell_type": "code",
   "execution_count": 167,
   "id": "4c876c5b-6020-44fc-a335-cf44024a0a18",
   "metadata": {},
   "outputs": [],
   "source": [
    "pi = pi.set_index(pi.date.dt.to_period('W'))\n",
    "pi.index = pi.index.start_time"
   ]
  },
  {
   "cell_type": "code",
   "execution_count": 168,
   "id": "3bb8e4be-a79c-45b5-a661-8f43d2801522",
   "metadata": {},
   "outputs": [],
   "source": [
    "pi = pi.join(pi_e)\n",
    "pi['W'] = pi.date.dt.to_period('W')"
   ]
  },
  {
   "cell_type": "code",
   "execution_count": 169,
   "id": "52b71bbb-5ca8-4bdc-8831-ad541b2f35c6",
   "metadata": {},
   "outputs": [],
   "source": [
    "pi = pi.set_index('W')\n",
    "pi.index = pi.index.start_time"
   ]
  },
  {
   "cell_type": "code",
   "execution_count": 170,
   "id": "bd012a43-1c6e-475c-8e3e-8c1fcfa7a2a7",
   "metadata": {},
   "outputs": [],
   "source": [
    "df = bei[['date', 'bei']].join(pi.drop('date', axis=1)).copy()"
   ]
  },
  {
   "cell_type": "code",
   "execution_count": 180,
   "id": "617c5068-7744-4fe5-a44e-99445bdfdbda",
   "metadata": {},
   "outputs": [],
   "source": [
    "with Capturing() as out:\n",
    "    print(df.describe().drop('date', axis=1))\n",
    "write_to_txt(\"\\n\".join(out), 'desc.txt')\n",
    "\n",
    "with Capturing() as out:\n",
    "    print(df.drop('date', axis=1).cov())\n",
    "write_to_txt(\"\\n\".join(out), 'cov.txt')"
   ]
  },
  {
   "cell_type": "code",
   "execution_count": null,
   "id": "0df46a20-83ac-4bd7-8b0b-cda3ab0251e1",
   "metadata": {},
   "outputs": [],
   "source": []
  },
  {
   "cell_type": "code",
   "execution_count": null,
   "id": "07439863-d9b8-4a56-b066-42a422710170",
   "metadata": {},
   "outputs": [],
   "source": []
  },
  {
   "cell_type": "code",
   "execution_count": null,
   "id": "725bde86-5c87-4428-a1c3-ba3f5f4281b3",
   "metadata": {},
   "outputs": [],
   "source": []
  }
 ],
 "metadata": {
  "kernelspec": {
   "display_name": "mamba_env_memoire2",
   "language": "python",
   "name": "mamba_env_memoire2"
  },
  "language_info": {
   "codemirror_mode": {
    "name": "ipython",
    "version": 3
   },
   "file_extension": ".py",
   "mimetype": "text/x-python",
   "name": "python",
   "nbconvert_exporter": "python",
   "pygments_lexer": "ipython3",
   "version": "3.11.7"
  }
 },
 "nbformat": 4,
 "nbformat_minor": 5
}
