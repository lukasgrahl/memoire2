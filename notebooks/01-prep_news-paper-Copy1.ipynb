{
 "cells": [
  {
   "cell_type": "code",
   "execution_count": 1,
   "id": "53be1dd3-1176-49b4-a634-a2d18897cf45",
   "metadata": {},
   "outputs": [],
   "source": [
    "%run init_notebook.py"
   ]
  },
  {
   "cell_type": "code",
   "execution_count": 2,
   "id": "7bd50712-1ffc-4055-ba43-6447be5b668a",
   "metadata": {},
   "outputs": [],
   "source": [
    "import spacy\n",
    "import regex as re\n",
    "\n",
    "import time\n",
    "from itertools import compress\n",
    "from collections import Counter\n",
    "from src.utils import vec_similarity, arr_min_max_scale, save_pd_df\n",
    "\n",
    "from uuid import uuid4\n",
    "import pickle"
   ]
  },
  {
   "cell_type": "code",
   "execution_count": 3,
   "id": "20e141d1-9fc9-4041-b122-86865f733213",
   "metadata": {},
   "outputs": [],
   "source": [
    "from articles import load_pickle, DICT_NARRATIVES, load_pd_df\n",
    "from src.nlp_utils import get_spacy_NLP, load_raw_data"
   ]
  },
  {
   "cell_type": "code",
   "execution_count": 4,
   "id": "5a5a2d79-0cca-4f93-9941-c50155dcfccc",
   "metadata": {},
   "outputs": [],
   "source": [
    "# load_raw_data('news_data.json')"
   ]
  },
  {
   "cell_type": "code",
   "execution_count": 5,
   "id": "182deb6a-4f4f-47c3-8da6-2f225a2d8482",
   "metadata": {},
   "outputs": [],
   "source": [
    "NLP = get_spacy_NLP('de')"
   ]
  },
  {
   "cell_type": "markdown",
   "id": "e9cf2b6e-129f-4094-9a75-d0d153921831",
   "metadata": {},
   "source": [
    "# supervised narrative topics"
   ]
  },
  {
   "cell_type": "markdown",
   "id": "3ab7dc3b-5405-475e-8ea2-a5acdbdc69ed",
   "metadata": {},
   "source": [
    "news data"
   ]
  },
  {
   "cell_type": "code",
   "execution_count": 43,
   "id": "a24b8363-2885-4a50-bf35-bc9bc15b0c39",
   "metadata": {},
   "outputs": [
    {
     "data": {
      "text/plain": [
       "2400"
      ]
     },
     "execution_count": 43,
     "metadata": {},
     "output_type": "execute_result"
    }
   ],
   "source": [
    "dict_txts = {}\n",
    "for file in [i for i in os.listdir(NEWS_TEXT_DIR) if i not in ['orig']]:\n",
    "    dict_txts[file] = load_pickle(file)\n",
    "\n",
    "len(dict_txts)"
   ]
  },
  {
   "cell_type": "markdown",
   "id": "e1eeba73-2556-4981-a450-0478103ed08d",
   "metadata": {},
   "source": [
    "ecb speeches"
   ]
  },
  {
   "cell_type": "code",
   "execution_count": 44,
   "id": "4896a7d6-c024-459d-a318-a113dc660b10",
   "metadata": {},
   "outputs": [],
   "source": [
    "# dict_txts = {}\n",
    "# for file in [i for i in os.listdir(TEXT_DIR) if i != 'orig']:\n",
    "#     dict_txts[file] = load_pickle(file)"
   ]
  },
  {
   "cell_type": "markdown",
   "id": "1c503c1f-8886-4d1a-8366-3bbab772082c",
   "metadata": {},
   "source": [
    "## analyse"
   ]
  },
  {
   "cell_type": "code",
   "execution_count": 45,
   "id": "c9e4c85b-41b7-45ec-8b9b-dae5c2c7e870",
   "metadata": {},
   "outputs": [],
   "source": [
    "LST_FREQUENT_NON_MEANING = [\n",
    "    'prozent',\n",
    "     'euro',\n",
    "     'million',\n",
    "     'milliarde',\n",
    "     'deutschland',\n",
    "     'deutsch',\n",
    "     'land',\n",
    "     'firma',\n",
    "     'frage',\n",
    "    'zahl',\n",
    "    'woche',\n",
    "    'monat',\n",
    "    'stadt',\n",
    "    'bereich',\n",
    "    'seite',\n",
    "    'datum',\n",
    "    'quartal',\n",
    "    'tonne',\n",
    "    'zeit',\n",
    "    'standort',\n",
    "]"
   ]
  },
  {
   "cell_type": "code",
   "execution_count": 46,
   "id": "c6ff7035-367b-4460-abc3-e6ca90261d92",
   "metadata": {},
   "outputs": [
    {
     "data": {
      "text/plain": [
       "True"
      ]
     },
     "execution_count": 46,
     "metadata": {},
     "output_type": "execute_result"
    }
   ],
   "source": [
    "'Covid' in \" \".join([v['text'] for v in dict_txts.values()])"
   ]
  },
  {
   "cell_type": "code",
   "execution_count": 47,
   "id": "74568ff0-e47c-4d28-9734-6bcb9918558d",
   "metadata": {},
   "outputs": [
    {
     "data": {
      "text/plain": [
       "Counter({False: 1951, True: 449})"
      ]
     },
     "execution_count": 47,
     "metadata": {},
     "output_type": "execute_result"
    }
   ],
   "source": [
    "Counter([v['is_infl'] for k, v in dict_txts.items()])"
   ]
  },
  {
   "cell_type": "code",
   "execution_count": 48,
   "id": "191af6f1-7621-4b6a-80ba-2f300b322bdb",
   "metadata": {},
   "outputs": [],
   "source": [
    "_dict = {}\n",
    "for idx, text in {k: v for k, v in dict_txts.items() if v['is_infl']}.items():\n",
    "    counter = text['counter']\n",
    "    for k, v in counter.items():\n",
    "        if k not in LST_FREQUENT_NON_MEANING:\n",
    "            if k not in _dict.keys():\n",
    "                _dict[k] = v\n",
    "            elif k in _dict.keys():\n",
    "                _dict[k] = _dict[k] + v"
   ]
  },
  {
   "cell_type": "code",
   "execution_count": 49,
   "id": "047532a4-d397-4fa7-99d1-89639ed478c7",
   "metadata": {},
   "outputs": [
    {
     "data": {
      "text/plain": [
       "[('unternehmen', 704),\n",
       " ('preis', 461),\n",
       " ('dollar', 389),\n",
       " ('bank', 287),\n",
       " ('kunde', 281),\n",
       " ('geld', 266),\n",
       " ('aktie', 265),\n",
       " ('markt', 261),\n",
       " ('usa', 259),\n",
       " ('konzern', 256)]"
      ]
     },
     "execution_count": 49,
     "metadata": {},
     "output_type": "execute_result"
    }
   ],
   "source": [
    "sorted(_dict.items(), key=lambda x: x[1], reverse=True)[:10]"
   ]
  },
  {
   "cell_type": "code",
   "execution_count": 14,
   "id": "92b69a67-2763-4b80-8e97-6244cfae442e",
   "metadata": {},
   "outputs": [],
   "source": [
    "# from scratch"
   ]
  },
  {
   "cell_type": "code",
   "execution_count": 15,
   "id": "1a960eb9-025e-4565-b331-4a84ae4a5513",
   "metadata": {},
   "outputs": [],
   "source": [
    "# lst_docs = [NLP(i['text']) for i in list(dict_txts.values())]"
   ]
  },
  {
   "cell_type": "code",
   "execution_count": 18,
   "id": "0d0b1984-8725-404c-947a-716a5dbc2416",
   "metadata": {},
   "outputs": [],
   "source": [
    "# lst_nouns = [\n",
    "#     [\n",
    "#         i for i in doc if \n",
    "#         (\n",
    "#             i.is_alpha\n",
    "#             and \n",
    "#             (\n",
    "#                 i.pos_ in ['NOUN', 'PROPN', 'ADJ']\n",
    "#                 # and i.ent_type_ == \"\"\n",
    "#             )\n",
    "#             and not (i.is_stop or i.is_punct or i.is_currency or i.is_bracket)\n",
    "#             and i.lemma_.lower() not in LST_FREQUENT_NON_MEANING\n",
    "#         )\n",
    "#     ] for doc in lst_docs\n",
    "# ]\n",
    "\n",
    "# c = sorted(Counter([i.lemma_.lower() for i in [*chain(*lst_nouns)]]).items(), key=lambda x: x[1], reverse=True)"
   ]
  },
  {
   "cell_type": "code",
   "execution_count": 19,
   "id": "e1859b28-eb12-4de3-a5a2-80fb41e3224a",
   "metadata": {},
   "outputs": [],
   "source": [
    "# sorted(_dict.items(), key=lambda x: x[1], reverse=True)"
   ]
  },
  {
   "cell_type": "markdown",
   "id": "d2dea034-00ef-4d0e-84ea-411f29c1155c",
   "metadata": {},
   "source": [
    "# narrative scores"
   ]
  },
  {
   "cell_type": "code",
   "execution_count": null,
   "id": "89c61828-7cac-44bc-b630-7e96a1c6ae1e",
   "metadata": {},
   "outputs": [],
   "source": []
  },
  {
   "cell_type": "code",
   "execution_count": 67,
   "id": "53911e97-73a0-438b-b622-5321ea5c1818",
   "metadata": {},
   "outputs": [],
   "source": [
    "df = pd.DataFrame(\n",
    "    {\n",
    "        (dkey, doc['date']) : {\n",
    "            nkey: narrative['narrative_score_det'] for nkey, narrative in doc['narratives'].items()\n",
    "        } for dkey, doc in dict_txts.items()\n",
    "    }\n",
    ").T.sort_index()\n",
    "df = df.reset_index(names=['id', 'date'])"
   ]
  },
  {
   "cell_type": "code",
   "execution_count": 68,
   "id": "b119f577-a70f-4594-b784-0f7f37aee112",
   "metadata": {},
   "outputs": [
    {
     "data": {
      "text/plain": [
       "dict_keys(['inflation', 'S_labour', 'S_supply_chain', 'S_war_energy', 'D_hh_spend', 'S_pandemic', 'M_policy'])"
      ]
     },
     "execution_count": 68,
     "metadata": {},
     "output_type": "execute_result"
    }
   ],
   "source": [
    "DICT_NARRATIVES.keys()"
   ]
  },
  {
   "cell_type": "code",
   "execution_count": 69,
   "id": "fd9d81b0-c0b7-4e34-8f9c-eb8ff5d12a67",
   "metadata": {},
   "outputs": [
    {
     "data": {
      "text/plain": [
       "<AxesSubplot: xlabel='date'>"
      ]
     },
     "execution_count": 69,
     "metadata": {},
     "output_type": "execute_result"
    },
    {
     "data": {
      "image/png": "[encoded data removed]",
      "text/plain": [
       "<Figure size 640x480 with 1 Axes>"
      ]
     },
     "metadata": {},
     "output_type": "display_data"
    }
   ],
   "source": [
    "df.groupby('date').sum()['S_war_energy'].replace({0: np.nan}).plot(lw=.5, marker='.')"
   ]
  },
  {
   "cell_type": "code",
   "execution_count": 37,
   "id": "74691627-beaf-4928-9f6f-cb62ae755b07",
   "metadata": {},
   "outputs": [],
   "source": [
    "sorted(\n",
    "    Counter([*chain(*[dict_txts[i]['narratives']['S_supply_chain']['narrative_chunk_det'] for i in dict_txts.keys()])]).items(),\n",
    "    key=lambda x: x[1],\n",
    "    reverse=True\n",
    "    );"
   ]
  },
  {
   "cell_type": "code",
   "execution_count": 39,
   "id": "4bcfda0a-7d54-4b70-8261-e569f303cb69",
   "metadata": {},
   "outputs": [
    {
     "data": {
      "text/plain": [
       "<AxesSubplot: >"
      ]
     },
     "execution_count": 39,
     "metadata": {},
     "output_type": "execute_result"
    },
    {
     "data": {
      "image/png": "[encoded data removed]",
      "text/plain": [
       "<Figure size 640x480 with 1 Axes>"
      ]
     },
     "metadata": {},
     "output_type": "display_data"
    }
   ],
   "source": [
    "df['S_supply_chain'].plot()"
   ]
  },
  {
   "cell_type": "markdown",
   "id": "b60eb239-c6f7-47a7-ae1c-e7bdc9e130df",
   "metadata": {},
   "source": [
    "# supervised BERT topic"
   ]
  },
  {
   "cell_type": "code",
   "execution_count": 34,
   "id": "f68fd6b7-0ca5-43e5-b3a5-8fa7e87e8326",
   "metadata": {},
   "outputs": [],
   "source": [
    "from bertopic import BERTopic\n",
    "from sklearn.datasets import fetch_20newsgroups"
   ]
  },
  {
   "cell_type": "code",
   "execution_count": 21,
   "id": "7d2d28f5-a93d-4d4e-b020-2e3595ac17c7",
   "metadata": {},
   "outputs": [],
   "source": [
    "from bertopic import BERTopic\n",
    "from bertopic.vectorizers import ClassTfidfTransformer\n",
    "from bertopic.dimensionality import BaseDimensionalityReduction\n",
    "from sklearn.linear_model import LogisticRegression"
   ]
  },
  {
   "cell_type": "code",
   "execution_count": 35,
   "id": "655c96c2-cd10-4b5c-8d9f-6e111d78e864",
   "metadata": {},
   "outputs": [],
   "source": [
    "docs = fetch_20newsgroups(subset='all',  remove=('headers', 'footers', 'quotes'))[\"data\"]"
   ]
  },
  {
   "cell_type": "code",
   "execution_count": 45,
   "id": "ee053ddd-a66e-423a-9921-308832c08af7",
   "metadata": {},
   "outputs": [],
   "source": [
    "lst_topic_seeds = [\n",
    "  ['term', 'condition',  'area',  'conference',  'corporation'],\n",
    "  ['risk',  'outlook',  'assessment',  'credit',  'loan'],\n",
    "  ['interest',  'prices',  'household',  'inflation',  'expectation']\n",
    "]"
   ]
  },
  {
   "cell_type": "code",
   "execution_count": 46,
   "id": "1610b063-13d1-43be-8f26-be8fc420c58b",
   "metadata": {},
   "outputs": [],
   "source": [
    "txts = [\" \".join([i.lemma_.lower() for i in doc if not (i.is_stop or i.is_punct or i.is_currency or i.is_bracket)]) for doc in lst_docs]"
   ]
  },
  {
   "cell_type": "code",
   "execution_count": 47,
   "id": "f05874d4-fec5-4d23-99c7-857b8a96cb3d",
   "metadata": {},
   "outputs": [
    {
     "ename": "ValueError",
     "evalue": "setting an array element with a sequence. The requested array has an inhomogeneous shape after 1 dimensions. The detected shape was (2,) + inhomogeneous part.",
     "output_type": "error",
     "traceback": [
      "\u001b[1;31m---------------------------------------------------------------------------\u001b[0m",
      "\u001b[1;31mValueError\u001b[0m                                Traceback (most recent call last)",
      "Cell \u001b[1;32mIn [47], line 3\u001b[0m\n\u001b[0;32m      1\u001b[0m start \u001b[38;5;241m=\u001b[39m time\u001b[38;5;241m.\u001b[39mtime()\n\u001b[0;32m      2\u001b[0m topic_model \u001b[38;5;241m=\u001b[39m BERTopic(seed_topic_list\u001b[38;5;241m=\u001b[39mlst_topic_seeds, )\n\u001b[1;32m----> 3\u001b[0m topics, probs \u001b[38;5;241m=\u001b[39m \u001b[43mtopic_model\u001b[49m\u001b[38;5;241;43m.\u001b[39;49m\u001b[43mfit_transform\u001b[49m\u001b[43m(\u001b[49m\u001b[43mtxts\u001b[49m\u001b[43m)\u001b[49m\n",
      "File \u001b[1;32m~\\miniforge3\\envs\\mamba_env_memoire2\\Lib\\site-packages\\bertopic\\_bertopic.py:385\u001b[0m, in \u001b[0;36mBERTopic.fit_transform\u001b[1;34m(self, documents, embeddings, images, y)\u001b[0m\n\u001b[0;32m    383\u001b[0m \u001b[38;5;66;03m# Reduce dimensionality\u001b[39;00m\n\u001b[0;32m    384\u001b[0m \u001b[38;5;28;01mif\u001b[39;00m \u001b[38;5;28mself\u001b[39m\u001b[38;5;241m.\u001b[39mseed_topic_list \u001b[38;5;129;01mis\u001b[39;00m \u001b[38;5;129;01mnot\u001b[39;00m \u001b[38;5;28;01mNone\u001b[39;00m \u001b[38;5;129;01mand\u001b[39;00m \u001b[38;5;28mself\u001b[39m\u001b[38;5;241m.\u001b[39membedding_model \u001b[38;5;129;01mis\u001b[39;00m \u001b[38;5;129;01mnot\u001b[39;00m \u001b[38;5;28;01mNone\u001b[39;00m:\n\u001b[1;32m--> 385\u001b[0m     y, embeddings \u001b[38;5;241m=\u001b[39m \u001b[38;5;28;43mself\u001b[39;49m\u001b[38;5;241;43m.\u001b[39;49m\u001b[43m_guided_topic_modeling\u001b[49m\u001b[43m(\u001b[49m\u001b[43membeddings\u001b[49m\u001b[43m)\u001b[49m\n\u001b[0;32m    386\u001b[0m umap_embeddings \u001b[38;5;241m=\u001b[39m \u001b[38;5;28mself\u001b[39m\u001b[38;5;241m.\u001b[39m_reduce_dimensionality(embeddings, y)\n\u001b[0;32m    388\u001b[0m \u001b[38;5;66;03m# Cluster reduced embeddings\u001b[39;00m\n",
      "File \u001b[1;32m~\\miniforge3\\envs\\mamba_env_memoire2\\Lib\\site-packages\\bertopic\\_bertopic.py:3282\u001b[0m, in \u001b[0;36mBERTopic._guided_topic_modeling\u001b[1;34m(self, embeddings)\u001b[0m\n\u001b[0;32m   3280\u001b[0m \u001b[38;5;28;01mfor\u001b[39;00m seed_topic \u001b[38;5;129;01min\u001b[39;00m \u001b[38;5;28mrange\u001b[39m(\u001b[38;5;28mlen\u001b[39m(seed_topic_list)):\n\u001b[0;32m   3281\u001b[0m     indices \u001b[38;5;241m=\u001b[39m [index \u001b[38;5;28;01mfor\u001b[39;00m index, topic \u001b[38;5;129;01min\u001b[39;00m \u001b[38;5;28menumerate\u001b[39m(y) \u001b[38;5;28;01mif\u001b[39;00m topic \u001b[38;5;241m==\u001b[39m seed_topic]\n\u001b[1;32m-> 3282\u001b[0m     embeddings[indices] \u001b[38;5;241m=\u001b[39m \u001b[43mnp\u001b[49m\u001b[38;5;241;43m.\u001b[39;49m\u001b[43maverage\u001b[49m\u001b[43m(\u001b[49m\u001b[43m[\u001b[49m\u001b[43membeddings\u001b[49m\u001b[43m[\u001b[49m\u001b[43mindices\u001b[49m\u001b[43m]\u001b[49m\u001b[43m,\u001b[49m\u001b[43m \u001b[49m\u001b[43mseed_topic_embeddings\u001b[49m\u001b[43m[\u001b[49m\u001b[43mseed_topic\u001b[49m\u001b[43m]\u001b[49m\u001b[43m]\u001b[49m\u001b[43m,\u001b[49m\u001b[43m \u001b[49m\u001b[43mweights\u001b[49m\u001b[38;5;241;43m=\u001b[39;49m\u001b[43m[\u001b[49m\u001b[38;5;241;43m3\u001b[39;49m\u001b[43m,\u001b[49m\u001b[43m \u001b[49m\u001b[38;5;241;43m1\u001b[39;49m\u001b[43m]\u001b[49m\u001b[43m)\u001b[49m\n\u001b[0;32m   3283\u001b[0m \u001b[38;5;28;01mreturn\u001b[39;00m y, embeddings\n",
      "File \u001b[1;32m~\\miniforge3\\envs\\mamba_env_memoire2\\Lib\\site-packages\\numpy\\lib\\function_base.py:511\u001b[0m, in \u001b[0;36maverage\u001b[1;34m(a, axis, weights, returned, keepdims)\u001b[0m\n\u001b[0;32m    398\u001b[0m \u001b[38;5;129m@array_function_dispatch\u001b[39m(_average_dispatcher)\n\u001b[0;32m    399\u001b[0m \u001b[38;5;28;01mdef\u001b[39;00m \u001b[38;5;21maverage\u001b[39m(a, axis\u001b[38;5;241m=\u001b[39m\u001b[38;5;28;01mNone\u001b[39;00m, weights\u001b[38;5;241m=\u001b[39m\u001b[38;5;28;01mNone\u001b[39;00m, returned\u001b[38;5;241m=\u001b[39m\u001b[38;5;28;01mFalse\u001b[39;00m, \u001b[38;5;241m*\u001b[39m,\n\u001b[0;32m    400\u001b[0m             keepdims\u001b[38;5;241m=\u001b[39mnp\u001b[38;5;241m.\u001b[39m_NoValue):\n\u001b[0;32m    401\u001b[0m \u001b[38;5;250m    \u001b[39m\u001b[38;5;124;03m\"\"\"\u001b[39;00m\n\u001b[0;32m    402\u001b[0m \u001b[38;5;124;03m    Compute the weighted average along the specified axis.\u001b[39;00m\n\u001b[0;32m    403\u001b[0m \n\u001b[1;32m   (...)\u001b[0m\n\u001b[0;32m    509\u001b[0m \u001b[38;5;124;03m           [4.5]])\u001b[39;00m\n\u001b[0;32m    510\u001b[0m \u001b[38;5;124;03m    \"\"\"\u001b[39;00m\n\u001b[1;32m--> 511\u001b[0m     a \u001b[38;5;241m=\u001b[39m \u001b[43mnp\u001b[49m\u001b[38;5;241;43m.\u001b[39;49m\u001b[43masanyarray\u001b[49m\u001b[43m(\u001b[49m\u001b[43ma\u001b[49m\u001b[43m)\u001b[49m\n\u001b[0;32m    513\u001b[0m     \u001b[38;5;28;01mif\u001b[39;00m keepdims \u001b[38;5;129;01mis\u001b[39;00m np\u001b[38;5;241m.\u001b[39m_NoValue:\n\u001b[0;32m    514\u001b[0m         \u001b[38;5;66;03m# Don't pass on the keepdims argument if one wasn't given.\u001b[39;00m\n\u001b[0;32m    515\u001b[0m         keepdims_kw \u001b[38;5;241m=\u001b[39m {}\n",
      "\u001b[1;31mValueError\u001b[0m: setting an array element with a sequence. The requested array has an inhomogeneous shape after 1 dimensions. The detected shape was (2,) + inhomogeneous part."
     ]
    }
   ],
   "source": [
    "start = time.time()\n",
    "topic_model = BERTopic(seed_topic_list=lst_topic_seeds, )\n",
    "topics, probs = topic_model.fit_transform(txts)"
   ]
  },
  {
   "cell_type": "code",
   "execution_count": null,
   "id": "45b5089f-0906-4fb3-83b9-cec826da2609",
   "metadata": {},
   "outputs": [],
   "source": [
    "time.time() - start"
   ]
  },
  {
   "cell_type": "code",
   "execution_count": null,
   "id": "1b293996-3036-490e-b9c5-9e1bb75f5a8e",
   "metadata": {},
   "outputs": [],
   "source": []
  },
  {
   "cell_type": "code",
   "execution_count": null,
   "id": "8945a4eb-6db5-41a3-a683-6f4443fce8a6",
   "metadata": {},
   "outputs": [],
   "source": [
    "df = pd.DataFrame(data=[topics, probs], index=['topic', 'prob']).T\n",
    "df.index.name = 'doc'"
   ]
  },
  {
   "cell_type": "code",
   "execution_count": null,
   "id": "f6a0957a-b96f-43a4-afa3-0de2a7a08bad",
   "metadata": {},
   "outputs": [],
   "source": [
    "df.topic.value_counts()"
   ]
  },
  {
   "cell_type": "code",
   "execution_count": null,
   "id": "b00c2fdf-7582-4b96-8dbc-4ee07612b6c5",
   "metadata": {},
   "outputs": [],
   "source": []
  }
 ],
 "metadata": {
  "kernelspec": {
   "display_name": "mamba_env_memoire2",
   "language": "python",
   "name": "mamba_env_memoire2"
  },
  "language_info": {
   "codemirror_mode": {
    "name": "ipython",
    "version": 3
   },
   "file_extension": ".py",
   "mimetype": "text/x-python",
   "name": "python",
   "nbconvert_exporter": "python",
   "pygments_lexer": "ipython3",
   "version": "3.11.7"
  }
 },
 "nbformat": 4,
 "nbformat_minor": 5
}
