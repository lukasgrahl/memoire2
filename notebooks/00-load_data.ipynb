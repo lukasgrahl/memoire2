{
 "cells": [
  {
   "cell_type": "code",
   "execution_count": 370,
   "id": "eb9dbc0b-a2f0-4c93-9c34-01ac808c9e22",
   "metadata": {},
   "outputs": [],
   "source": [
    "%run init_notebook.py"
   ]
  },
  {
   "cell_type": "code",
   "execution_count": 371,
   "id": "2878161c-5171-4e05-9a94-8cfbd7078a33",
   "metadata": {},
   "outputs": [],
   "source": [
    "import eurostat\n",
    "from src.utils import load_pd_df, get_dt_index, save_pd_df\n",
    "from pandas_datareader.fred import FredReader"
   ]
  },
  {
   "cell_type": "code",
   "execution_count": 3,
   "id": "29db529a-2a88-472a-b573-e9b5b1209d56",
   "metadata": {},
   "outputs": [],
   "source": [
    "# interest rates"
   ]
  },
  {
   "cell_type": "code",
   "execution_count": 11,
   "id": "55a638d7-f414-42a7-873e-bb474bdfcfc1",
   "metadata": {},
   "outputs": [],
   "source": [
    "depo = FredReader('ECBDFR', start=datetime(2019,1,1), end=datetime.today()).read()\n",
    "depo = depo.rename(columns={'ECBDFR': 'ecb_rate'}) / 100"
   ]
  },
  {
   "cell_type": "code",
   "execution_count": 12,
   "id": "e6b06e1f-41c7-44c2-8707-22d39dbb5edd",
   "metadata": {},
   "outputs": [],
   "source": [
    "df = pd.read_csv(os.path.join(DATA_DIR, 'ecb_interest_rates.csv'), low_memory=False)\n",
    "df = df[df['REF_AREA'] == 'DE'].dropna(axis=1)\n",
    "df['date'] = df['TIME_PERIOD'].apply(lambda x: datetime.strptime(x, \"%Y-%m\"))\n",
    "df = df[df['TITLE'] == list(set(df['TITLE']))[1]]\n",
    "df.set_index('date', inplace=True)\n",
    "\n",
    "mir = df[['OBS_VALUE']].rename(columns={'OBS_VALUE': 'mir'}) / 100"
   ]
  },
  {
   "cell_type": "code",
   "execution_count": 13,
   "id": "52eb4713-6174-4b98-967e-f4fe82986362",
   "metadata": {},
   "outputs": [],
   "source": [
    "mir = mir.join(depo)"
   ]
  },
  {
   "cell_type": "code",
   "execution_count": 14,
   "id": "322a82e7-6cc5-446e-b24b-4ad119fbead4",
   "metadata": {},
   "outputs": [],
   "source": [
    "mir = mir.ffill()"
   ]
  },
  {
   "cell_type": "code",
   "execution_count": 17,
   "id": "5822740a-2680-4fe1-8a9b-feefb8347666",
   "metadata": {},
   "outputs": [],
   "source": [
    "save_pd_df(mir, 'mir.csv')"
   ]
  },
  {
   "cell_type": "code",
   "execution_count": 10,
   "id": "c458c583-2f16-4709-b397-3a6005c1daa0",
   "metadata": {},
   "outputs": [],
   "source": [
    "# eurostat"
   ]
  },
  {
   "cell_type": "code",
   "execution_count": 11,
   "id": "be8a524b-e069-43df-a7b3-1d2413cd4b9a",
   "metadata": {},
   "outputs": [],
   "source": [
    "codes = eurostat.get_toc_df()"
   ]
  },
  {
   "cell_type": "code",
   "execution_count": 12,
   "id": "7c9fd803-8afe-4366-af9b-b949c15a7842",
   "metadata": {},
   "outputs": [
    {
     "data": {
      "text/plain": [
       "['Loan and deposit one year interest rate']"
      ]
     },
     "execution_count": 12,
     "metadata": {},
     "output_type": "execute_result"
    }
   ],
   "source": [
    "[i for i in codes['title'] if 'deposit'.lower() in i.lower()]"
   ]
  },
  {
   "cell_type": "code",
   "execution_count": null,
   "id": "47d7aaed-e185-4bf3-8d5e-35846c72fc36",
   "metadata": {},
   "outputs": [],
   "source": []
  },
  {
   "cell_type": "code",
   "execution_count": 13,
   "id": "5349e51c-afef-420d-8f5d-0ee6dc237fb7",
   "metadata": {},
   "outputs": [],
   "source": [
    "filt = [\n",
    "    'HICP - energy', \n",
    "    'HICP - food, alcohol and tobacco',\n",
    "    'Gross domestic product (GDP) at current market prices by metropolitan regions',\n",
    "    'Gross domestic product (GDP) at market prices - quarterly data',\n",
    "    'HICP - inflation rate',\n",
    "    'HICP - all items excluding energy and seasonal food',\n",
    "    'HICP - energy',\n",
    "    'HICP - monthly data (index)',\n",
    "    'Final consumption expenditure',\n",
    "    'Unemployment rate',\n",
    "    'Unemployment rate by education level',\n",
    "    'Unemployment rate (%) - monthly data',\n",
    "    'Loan and deposit one year interest rate',\n",
    "]\n",
    "filt = [i in filt for i in codes['title']]"
   ]
  },
  {
   "cell_type": "code",
   "execution_count": 4,
   "id": "32dfdab0-a836-4512-b262-155c7b1fcac7",
   "metadata": {},
   "outputs": [],
   "source": [
    "codes[filt];"
   ]
  },
  {
   "cell_type": "code",
   "execution_count": 10,
   "id": "91304b8f-f1e5-4b75-91d6-8b951573830c",
   "metadata": {},
   "outputs": [],
   "source": [
    "# overall inflation"
   ]
  },
  {
   "cell_type": "code",
   "execution_count": 11,
   "id": "f5331d14-541e-4842-ab44-47dd3226c4bf",
   "metadata": {},
   "outputs": [],
   "source": [
    "data = eurostat.get_data('med_ec2') #, filter_pars={'geo': ['DE','FR']})"
   ]
  },
  {
   "cell_type": "code",
   "execution_count": 11,
   "id": "db426671-6f62-437e-a2b4-5f946ff21bef",
   "metadata": {},
   "outputs": [],
   "source": [
    "df = pd.DataFrame(data[1:], columns=data[0]).transpose()\n",
    "df = df.loc[:, (df.loc['unit'] == 'I05') & (df.loc['coicop'] == 'CP00')]\n",
    "df.columns = [f'cpi_{i}' for i in df.loc['geo\\TIME_PERIOD'].values]\n",
    "\n",
    "cpi = df.iloc[5:].copy().dropna().astype(float)\n",
    "cpi.index = [datetime(int(i[:4]), int(i[5:7]), 1) for i in cpi.index]"
   ]
  },
  {
   "cell_type": "code",
   "execution_count": 12,
   "id": "57956631-b3e9-473a-b393-0052b9f792c6",
   "metadata": {},
   "outputs": [],
   "source": [
    "cpi['pi_de'] = np.log(cpi['cpi_DE']).diff()"
   ]
  },
  {
   "cell_type": "code",
   "execution_count": 13,
   "id": "84996f23-57bf-438d-9dfa-2c175615bf50",
   "metadata": {},
   "outputs": [],
   "source": [
    "save_pd_df(cpi, 'cpi.csv')"
   ]
  },
  {
   "cell_type": "code",
   "execution_count": 14,
   "id": "f7cb87c5-5d80-42a6-9f8c-58a53005abb1",
   "metadata": {},
   "outputs": [],
   "source": [
    "# food tobaco inflation"
   ]
  },
  {
   "cell_type": "code",
   "execution_count": 15,
   "id": "58cc1198-4f5b-42ba-981c-810a0d71f271",
   "metadata": {},
   "outputs": [],
   "source": [
    "data = eurostat.get_data('TEICP260', filter_pars={'geo': ['DE']})\n",
    "data = np.array(data)"
   ]
  },
  {
   "cell_type": "code",
   "execution_count": 16,
   "id": "53a72797-ba65-4cf2-90e8-5b72d222488f",
   "metadata": {},
   "outputs": [
    {
     "data": {
      "text/html": [
       "<div>\n",
       "<style scoped>\n",
       "    .dataframe tbody tr th:only-of-type {\n",
       "        vertical-align: middle;\n",
       "    }\n",
       "\n",
       "    .dataframe tbody tr th {\n",
       "        vertical-align: top;\n",
       "    }\n",
       "\n",
       "    .dataframe thead th {\n",
       "        text-align: right;\n",
       "    }\n",
       "</style>\n",
       "<table border=\"1\" class=\"dataframe\">\n",
       "  <thead>\n",
       "    <tr style=\"text-align: right;\">\n",
       "      <th></th>\n",
       "      <th>freq</th>\n",
       "      <th>coicop</th>\n",
       "      <th>unit</th>\n",
       "      <th>geo\\TIME_PERIOD</th>\n",
       "      <th>2023-02</th>\n",
       "      <th>2023-03</th>\n",
       "      <th>2023-04</th>\n",
       "      <th>2023-05</th>\n",
       "      <th>2023-06</th>\n",
       "      <th>2023-07</th>\n",
       "      <th>2023-08</th>\n",
       "      <th>2023-09</th>\n",
       "      <th>2023-10</th>\n",
       "      <th>2023-11</th>\n",
       "      <th>2023-12</th>\n",
       "      <th>2024-01</th>\n",
       "    </tr>\n",
       "  </thead>\n",
       "  <tbody>\n",
       "    <tr>\n",
       "      <th>0</th>\n",
       "      <td>M</td>\n",
       "      <td>FOOD</td>\n",
       "      <td>I15</td>\n",
       "      <td>DE</td>\n",
       "      <td>139.5</td>\n",
       "      <td>141.3</td>\n",
       "      <td>141.1</td>\n",
       "      <td>141.1</td>\n",
       "      <td>141.2</td>\n",
       "      <td>141.2</td>\n",
       "      <td>141.0</td>\n",
       "      <td>141.5</td>\n",
       "      <td>141.6</td>\n",
       "      <td>142.4</td>\n",
       "      <td>142.4</td>\n",
       "      <td>None</td>\n",
       "    </tr>\n",
       "    <tr>\n",
       "      <th>1</th>\n",
       "      <td>M</td>\n",
       "      <td>FOOD</td>\n",
       "      <td>PCH_M1</td>\n",
       "      <td>DE</td>\n",
       "      <td>2.0</td>\n",
       "      <td>1.3</td>\n",
       "      <td>-0.1</td>\n",
       "      <td>0.0</td>\n",
       "      <td>0.1</td>\n",
       "      <td>0.0</td>\n",
       "      <td>-0.1</td>\n",
       "      <td>0.4</td>\n",
       "      <td>0.1</td>\n",
       "      <td>0.6</td>\n",
       "      <td>0.0</td>\n",
       "      <td>0.9</td>\n",
       "    </tr>\n",
       "    <tr>\n",
       "      <th>2</th>\n",
       "      <td>M</td>\n",
       "      <td>FOOD</td>\n",
       "      <td>PCH_M12</td>\n",
       "      <td>DE</td>\n",
       "      <td>18.0</td>\n",
       "      <td>18.6</td>\n",
       "      <td>15.5</td>\n",
       "      <td>13.6</td>\n",
       "      <td>12.6</td>\n",
       "      <td>10.7</td>\n",
       "      <td>9.2</td>\n",
       "      <td>8.1</td>\n",
       "      <td>7.1</td>\n",
       "      <td>6.6</td>\n",
       "      <td>5.8</td>\n",
       "      <td>5.1</td>\n",
       "    </tr>\n",
       "  </tbody>\n",
       "</table>\n",
       "</div>"
      ],
      "text/plain": [
       "  freq coicop     unit geo\\TIME_PERIOD 2023-02 2023-03 2023-04 2023-05  \\\n",
       "0    M   FOOD      I15              DE   139.5   141.3   141.1   141.1   \n",
       "1    M   FOOD   PCH_M1              DE     2.0     1.3    -0.1     0.0   \n",
       "2    M   FOOD  PCH_M12              DE    18.0    18.6    15.5    13.6   \n",
       "\n",
       "  2023-06 2023-07 2023-08 2023-09 2023-10 2023-11 2023-12 2024-01  \n",
       "0   141.2   141.2   141.0   141.5   141.6   142.4   142.4    None  \n",
       "1     0.1     0.0    -0.1     0.4     0.1     0.6     0.0     0.9  \n",
       "2    12.6    10.7     9.2     8.1     7.1     6.6     5.8     5.1  "
      ]
     },
     "execution_count": 16,
     "metadata": {},
     "output_type": "execute_result"
    }
   ],
   "source": [
    "df = pd.DataFrame(data=data[1:], columns=data[0])\n",
    "df"
   ]
  },
  {
   "cell_type": "code",
   "execution_count": 3,
   "id": "d929bc8f-7406-4d87-85b4-b8b1f9045670",
   "metadata": {},
   "outputs": [],
   "source": [
    "# pi prognosis"
   ]
  },
  {
   "cell_type": "code",
   "execution_count": 4,
   "id": "747a9ca9-8dfd-41f8-b501-30de328b63fc",
   "metadata": {},
   "outputs": [],
   "source": [
    "df = get_dt_index(load_pd_df('ecb_prognosis_hicp_dec_2021.csv'), dt_index_col=\"DATE\").iloc[:, 1:]\n",
    "df.index.name = 'date'\n",
    "df.columns = [\"infl_forecast\"]"
   ]
  },
  {
   "cell_type": "code",
   "execution_count": 5,
   "id": "53069781-f55d-49a3-8ce5-cda62c4ef9ad",
   "metadata": {},
   "outputs": [],
   "source": [
    "df1 = load_pd_df('ecb_prognosis_hicp_jun_2021.csv')\n",
    "df1['date'] = df1.DATE.apply(lambda x: datetime(int(x[:4]), 6, 30))\n",
    "df1 = df1.drop('DATE', axis=1).set_index('date').iloc[:, 1:]\n",
    "df1.columns = [\"infl_forecast\"]\n",
    "\n",
    "df = pd.concat([df, df1], axis=0).sort_index()"
   ]
  },
  {
   "cell_type": "code",
   "execution_count": 19,
   "id": "58afe557-0b48-40ec-854a-7b43fd8a19b3",
   "metadata": {},
   "outputs": [],
   "source": [
    "save_pd_df(df, 'infl_prognonsis.csv')"
   ]
  },
  {
   "cell_type": "markdown",
   "id": "1a6eeb1f-fc81-4f63-bce2-5b8826b3f61e",
   "metadata": {},
   "source": [
    "# hhp"
   ]
  },
  {
   "cell_type": "code",
   "execution_count": 372,
   "id": "0a31ac7d-8fe4-4b01-bdac-549cacd709d8",
   "metadata": {},
   "outputs": [],
   "source": [
    "dfs = []\n",
    "for i, file in enumerate(os.listdir(os.path.join(DATA_DIR, 'hhs_csv'))):\n",
    "    try:\n",
    "        d = pd.read_csv(os.path.join(DATA_DIR, 'hhs_csv', file), encoding='unicode_escape')\n",
    "        dfs.append(d)\n",
    "    except Exception as e:\n",
    "        print(file, e)"
   ]
  },
  {
   "cell_type": "code",
   "execution_count": 373,
   "id": "ac1e1c0b",
   "metadata": {},
   "outputs": [],
   "source": [
    "# dfs, metadata = [], []\n",
    "# for i, file in enumerate(os.listdir(os.path.join(DATA_DIR, 'hhs'))):\n",
    "#     print(file)\n",
    "#     try:\n",
    "#         dta = pd.read_stata(os.path.join(DATA_DIR, 'hhs', file), )\n",
    "#         dfs.append(dta)\n",
    "#         metadata.append(metadata)\n",
    "#     except Exception as e:\n",
    "#         print(e)\n",
    "#         continue"
   ]
  },
  {
   "cell_type": "code",
   "execution_count": 374,
   "id": "a8de37c7",
   "metadata": {},
   "outputs": [],
   "source": [
    "data = pd.concat(dfs, axis=0)"
   ]
  },
  {
   "cell_type": "code",
   "execution_count": 375,
   "id": "c9daea8d-41f3-48e0-b166-e9f2edda6d7c",
   "metadata": {},
   "outputs": [
    {
     "name": "stderr",
     "output_type": "stream",
     "text": [
      "C:\\Users\\LukasGrahl\\AppData\\Local\\Temp\\ipykernel_18244\\3182224682.py:1: PerformanceWarning: DataFrame is highly fragmented.  This is usually the result of calling `frame.insert` many times, which has poor performance.  Consider joining all columns at once using pd.concat(axis=1) instead. To get a de-fragmented frame, use `newframe = frame.copy()`\n",
      "  data['date_recorded'] = data[['year', 'month', 'day']].apply(lambda x: datetime(*x.values.astype(int)), axis=1).rename('date_recorded').values\n"
     ]
    }
   ],
   "source": [
    "data['date_recorded'] = data[['year', 'month', 'day']].apply(lambda x: datetime(*x.values.astype(int)), axis=1).rename('date_recorded').values"
   ]
  },
  {
   "cell_type": "code",
   "execution_count": 376,
   "id": "a1b53dce-1c83-4bc7-859f-bf809879c2d0",
   "metadata": {},
   "outputs": [],
   "source": [
    "dict_cols_rename = {'inflexppoint': 'pi_exp', 'inflexppoint_long': 'pi_exp_long', 'expint_sav': 'i_exp', 'devinfpoint': 'pi_perc'}"
   ]
  },
  {
   "cell_type": "code",
   "execution_count": 377,
   "id": "efbc15ff",
   "metadata": {},
   "outputs": [],
   "source": [
    "dict_cols_parse = {\n",
    "    'id': float,\n",
    "    # 'riskaversion': str,\n",
    "    # 'date_recorded': \n",
    "    # 'date_forecast': \n",
    "    'i_exp': float,\n",
    "    'pi_perc': float,\n",
    "    'hhinc': str,\n",
    "    'pinc': str,\n",
    "    'pi_exp': float,\n",
    "    'eduschool': str,\n",
    " 'eduwork': str,\n",
    " 'employ': str,\n",
    " 'profession': str,\n",
    " 'hhsize': str,\n",
    " 'hhchildren': str,\n",
    " 'familystatus': str,\n",
    "    'ecbtrust': str,\n",
    " 'hhinc': str,\n",
    " 'pinc': str,\n",
    "    'homeown': str,\n",
    "    'pi_exp_long': float,\n",
    "}\n",
    "dict_cols_parse.update({f'infexprob_{i}': str for i in list(map(chr, range(97, 107)))})\n",
    "dict_cols_parse.update({f'incexp_{i}': str for i in list(map(chr, range(97, 107)))})\n",
    "dict_cols_parse.update({f'mainshopper_{i}': str for i in list(map(chr, range(97, 101)))})\n",
    "dict_cols_parse.update({f'netwealth_detail_{i}': str for i in list(map(chr, range(97, 104)))})\n",
    "dict_cols_parse.update({f'percprob_{i}': str for i in list(map(chr, range(97, 105)))})\n",
    "# dict_cols_parse.update({f'mainshopper_{i}': str for i in list(map(chr, range(97, 1007)))})\n",
    "\n",
    "lst_cols = list(dict_cols_parse.keys())\n",
    "lst_cols.extend(['date_recorded'])\n",
    "\n",
    "_ = [\n",
    "        \"don't know\",\n",
    "        'no answer',\n",
    "        'does not apply',\n",
    "        'nan',\n",
    "    ]\n",
    "dict_parse_nan = dict(zip(_, list([np.nan]) * len(_)))\n",
    "dict_parse_nan_int = {\n",
    "                '-9997.0': np.nan,\n",
    "                  '-9998.0': np.nan,\n",
    "                  '-9999.0': np.nan,\n",
    "    '-9996.0': np.nan,\n",
    "    '-6666.0': np.nan,                    \n",
    "                     }"
   ]
  },
  {
   "cell_type": "code",
   "execution_count": 378,
   "id": "4ab2f998-473d-45f8-9fb7-9f1987eda3b6",
   "metadata": {},
   "outputs": [],
   "source": [
    "dict_inc_replace = {'3.500 to 3.999 EUR': '3.500 to 3.999 EUR',\n",
    " '2.000 to 2.499 EUR': '2.000 to 2.499 EUR',\n",
    " '500 to 999 EUR': '500 to 999 EUR',\n",
    " '3000 - < 3500 EUR': '3.000 to 3.499 EUR',\n",
    " '3500 - < 4000 EUR': '3.500 to 3.999 EUR',\n",
    " 'under 500 EUR': 'under 500 EUR',\n",
    " '> 4499 EUR': '5.000 to 5.999 EUR',\n",
    " '1000 - < 1500 EUR': '1.000 to 1.499 EUR',\n",
    " '2000 - < 2500 EUR': '2.000 to 2.499 EUR',\n",
    " np.nan: np.nan,\n",
    " '< 500 EUR': 'under 500 EUR',\n",
    " '3.000 to 3.499 EUR': '3.000 to 3.499 EUR',\n",
    " '6.000 to 7.999 EUR': '6.000 to 7.999 EUR',\n",
    " '4000 - < 4500 EUR': '4.000 to 4.999 EUR',\n",
    " '4.000 to 4.999 EUR': '4.000 to 4.999 EUR',\n",
    " '5.000 to 5.999 EUR': '5.000 to 5.999 EUR',\n",
    " '10.000 EUR and more': '10.000 EUR and more',\n",
    " '6.000 EUR and more': '6.000 to 7.999 EUR',\n",
    " '2500 - < 3000 EUR': '2.500 to 2.999 EUR',\n",
    " '8.000 to 9.999 EUR': '8.000 to 9.999 EUR',\n",
    " '1500 - < 2000 EUR': '1.500 to 1.999 EUR',\n",
    " '1.500 to 1.999 EUR': '1.500 to 1.999 EUR',\n",
    " '500 - < 1000 EUR': '500 to 999 EUR',\n",
    "  '500 bis 999 EUR': '500 to 999 EUR',\n",
    " '2.500 to 2.999 EUR': '2.500 to 2.999 EUR',\n",
    " '1.000 to 1.499 EUR': '1.000 to 1.499 EUR'}\n",
    "dict_inc_replace.update(dict_parse_nan)"
   ]
  },
  {
   "cell_type": "code",
   "execution_count": 379,
   "id": "186c7832-e141-4e33-949e-327598f952aa",
   "metadata": {},
   "outputs": [],
   "source": [
    "data = data.rename(columns=dict_cols_rename)"
   ]
  },
  {
   "cell_type": "markdown",
   "id": "d1500c09-5663-4358-ae2f-9e42fb344303",
   "metadata": {},
   "source": [
    "# df"
   ]
  },
  {
   "cell_type": "code",
   "execution_count": 448,
   "id": "d0c2b4af-3c4d-49ae-9ce6-3ef801fa505e",
   "metadata": {},
   "outputs": [],
   "source": [
    "def get_var_time_delta(df_in: pd.DataFrame, col: str, index: list = ['id', 'date_recorded']):\n",
    "    sub = df_in.sort_values(index[1]).set_index(index)[col].unstack().copy().astype(float) + 1\n",
    "    sub = (sub.ffill(axis=1).diff(axis=1).stack()).rename(f'{col}_delta')\n",
    "    return df_in.set_index(index).join(sub).reset_index()"
   ]
  },
  {
   "cell_type": "code",
   "execution_count": 449,
   "id": "d274629e-1b35-470e-bd82-2ad49ed74f31",
   "metadata": {},
   "outputs": [],
   "source": [
    "df = data[lst_cols].copy()\n",
    "df = df.drop_duplicates()\n",
    "df = df.reset_index(drop=True)"
   ]
  },
  {
   "cell_type": "code",
   "execution_count": 450,
   "id": "9591f4ac-e071-4415-b4ae-a3226552f097",
   "metadata": {},
   "outputs": [],
   "source": [
    "df['date_forecast'] = df.date_recorded + timedelta(days=365)"
   ]
  },
  {
   "cell_type": "code",
   "execution_count": 451,
   "id": "5c0a60a1-3610-465a-a325-0b886e1f88a3",
   "metadata": {},
   "outputs": [],
   "source": [
    "# inflation"
   ]
  },
  {
   "cell_type": "code",
   "execution_count": 452,
   "id": "ba086d51-c1fe-4181-961c-9fb31b9437eb",
   "metadata": {},
   "outputs": [],
   "source": [
    "cols = [i for i in dict_cols_parse if sum([term in i for term in ['infexprob', 'incexp']]) > 0]\n",
    "for col in cols:\n",
    "    df[col] = df[col].apply(lambda x: dict_parse_nan_int[str(x)] if str(x) in dict_parse_nan_int.keys() else x)"
   ]
  },
  {
   "cell_type": "code",
   "execution_count": 453,
   "id": "231d7903-64d3-4a7c-9a87-c322c2bbe938",
   "metadata": {},
   "outputs": [],
   "source": [
    "# parse nans"
   ]
  },
  {
   "cell_type": "code",
   "execution_count": 465,
   "id": "0e903f79-5e9f-4f5c-a4d7-2f2382c33cbc",
   "metadata": {},
   "outputs": [],
   "source": [
    "for col in ['pi_exp', 'pi_perc', 'i_exp', 'pi_exp_long',]:\n",
    "    df = df.drop(col, axis=1).join(df[col].apply(lambda x: dict_parse_nan_int[str(x)] if str(x) in dict_parse_nan_int.keys() else x))"
   ]
  },
  {
   "cell_type": "code",
   "execution_count": 387,
   "id": "b6d50dcf-7dc8-4050-bacd-bd9dfc12c295",
   "metadata": {},
   "outputs": [],
   "source": [
    "for col in ['profession', 'ecbtrust', 'hhsize', 'homeown']:\n",
    "    df[col] = df[col].astype(float).apply(lambda x: dict_parse_nan_int[str(x)] if str(x) in dict_parse_nan_int.keys() else x)"
   ]
  },
  {
   "cell_type": "code",
   "execution_count": 388,
   "id": "08c72270-a568-44ee-811e-0a675d0aae92",
   "metadata": {},
   "outputs": [],
   "source": [
    "for col in ['hhinc', 'pinc']:\n",
    "    df[col] = df[col].astype(float).apply(lambda x: dict_parse_nan_int[str(x)] if str(x) in dict_parse_nan_int.keys() else x)"
   ]
  },
  {
   "cell_type": "code",
   "execution_count": 389,
   "id": "cd712fa1-fede-4789-b24a-c9211ef4f58e",
   "metadata": {},
   "outputs": [],
   "source": [
    "dict_profession_int_txt = {\n",
    "    1: \"Arbeiter(in), auch in der Landwirtschaft\",\n",
    "2: \"Angestellte(r)\",\n",
    "3: \"Beamtin / Beamter, einschl. Richter / Richterin und Berufssoldaten / Berufssoldatinnen / Zeitsoldaten / Zeitsoldatinnen\",\n",
    "4: \"Selbständige(r) oder Unternehmer (in) (einschl. selbständiger Landwirte / Landwirtinnen) ohne abhängig Beschäftigte\",\n",
    "5: \"Selbständige(r) oder Unternehmer (in) (einschl. selbständiger Landwirte / Landwirtinnen) mit abhängig Beschäftigten\",\n",
    "6: \"Auszubildende(r) / Praktikant(in)\",\n",
    "7: \"Unbezahlte(r) mithelfende(r) Familienangehörige(r)\",\n",
    "8: \"Sonstiges\"\n",
    "}"
   ]
  },
  {
   "cell_type": "code",
   "execution_count": 390,
   "id": "745752ac-756e-4311-ad29-1c9cd9ca4595",
   "metadata": {},
   "outputs": [],
   "source": [
    "df['profession_txt'] = df['profession'].map(dict_profession_int_txt)"
   ]
  },
  {
   "cell_type": "code",
   "execution_count": 391,
   "id": "ba51b997-5fbf-475a-b41b-0402fa0f2116",
   "metadata": {},
   "outputs": [],
   "source": [
    "for col in [\n",
    "    *[i for i in df.columns if 'mainshopper' in i],\n",
    "    *[i for i in df.columns if 'netwealth' in i],\n",
    "    *[i for i in df.columns if 'percprob' in i]\n",
    "]:\n",
    "    df[col] = df[col].astype(float).apply(lambda x: dict_parse_nan_int[str(x)] if str(x) in dict_parse_nan_int.keys() else x)"
   ]
  },
  {
   "cell_type": "code",
   "execution_count": 392,
   "id": "a7ca3f8b-a45e-4fdd-baf9-c3899989e34f",
   "metadata": {},
   "outputs": [],
   "source": [
    "# ecb trust"
   ]
  },
  {
   "cell_type": "code",
   "execution_count": 393,
   "id": "a26bf6be-8b5f-446b-9536-f0eb5ea7ae93",
   "metadata": {},
   "outputs": [],
   "source": [
    "dict_ecb_trust = {\n",
    "    \"do not trust at all\": 0,\n",
    "    \"0 do not trust at all\": 0,\n",
    "    \"I do not know the ECB\": 0,\n",
    "    \"fully trust\": 10,\n",
    "    \"10 trust completely\": 10,\n",
    "    \"ECB unknown\": 0,    \n",
    "    \"trust completely\": 10\n",
    "}"
   ]
  },
  {
   "cell_type": "code",
   "execution_count": 394,
   "id": "578232c0-17d2-4edb-a5a7-24abaf6733c7",
   "metadata": {},
   "outputs": [],
   "source": [
    "df = get_var_time_delta(df, 'ecbtrust')"
   ]
  },
  {
   "cell_type": "code",
   "execution_count": 395,
   "id": "48b71709-0a99-4d27-8cd1-f939485d5837",
   "metadata": {},
   "outputs": [],
   "source": [
    "# income"
   ]
  },
  {
   "cell_type": "code",
   "execution_count": 396,
   "id": "15083203-9761-48e8-84eb-12606968751f",
   "metadata": {},
   "outputs": [],
   "source": [
    "dict_hhinc_int_midpoint = {\n",
    "    1: 250, # \"unter 500 Euro\",\n",
    "    2: 750, # \"500 bis 999 Euro\",\n",
    "    3: 1250, #\"1000 bis 1.499 Euro\",\n",
    "    4: 1750, #\"1.500 bis 1.999 Euro\",\n",
    "    5: 2250, #\"2.000 bis 2.499 Euro\",\n",
    "    6: 2750, #\"2.500 bis 2.999 Euro\",\n",
    "    7: 3250, #\"3.000 bis 3.499 Euro\",\n",
    "    8: 3750, #\"3.500 bis 3.999 Euro\",\n",
    "    9: 4250, #\"4.000 bis 4.999 Euro\",\n",
    "    10: 5500, #\"5.000 bis 5.999 Euro\",\n",
    "    11: 7000, #\"6.000 bis 7.999 Euro\",\n",
    "    12: 9000, #\"8.000 bis 9.999 Euro\",\n",
    "    13: 12000, #\"10.000 Euro und mehr\",\n",
    "}\n",
    "dict_pinc_int_midpoint = {\n",
    "    1: 250, #unter 500 Euro\n",
    "2: 750, # 500 bis 999 Euro\n",
    "3: 1250, # 1000 bis 1.499 Euro\n",
    "4: 1750, # 1.500 bis 1.999 Euro\n",
    "5: 2250, # 2.000 bis 2.499 Euro\n",
    "6: 2750, # 2.500 bis 2.999 Euro\n",
    "7: 3250, # 3.000 bis 3.499 Euro\n",
    "8: 3750, # 3.500 bis 3.999 Euro\n",
    "9: 4500, # 4.000 bis 4.999 Euro\n",
    "10: 5500, # 5.000 bis 5.999 Euro\n",
    "11: 7000, # 6.000 Euro und mehr\n",
    "}"
   ]
  },
  {
   "cell_type": "code",
   "execution_count": 397,
   "id": "679915fa-6c14-4586-99cb-e71cfeaebd84",
   "metadata": {},
   "outputs": [],
   "source": [
    "df['hhinc_midpoint'] = df['hhinc'].map(dict_hhinc_int_midpoint)"
   ]
  },
  {
   "cell_type": "code",
   "execution_count": 398,
   "id": "3f6c6e27-c838-4977-adbc-fc78a3726f08",
   "metadata": {},
   "outputs": [],
   "source": [
    "df['pinc_midpoint'] = df['pinc'].map(dict_pinc_int_midpoint)"
   ]
  },
  {
   "cell_type": "code",
   "execution_count": 399,
   "id": "3d440617-23c0-4062-bcae-649ac8fe6e34",
   "metadata": {},
   "outputs": [],
   "source": [
    "# df['pinc_midpoint'] = df['pinc'].map(dict_hhinc_int_midpoint)\n",
    "df = df.sort_values('date_recorded')\n",
    "sub = df.set_index(['id', 'date_recorded',])['pinc_midpoint'].unstack()\n",
    "sub = sub.ffill(axis=1).diff(axis=1).stack().rename('pinc_delta')\n",
    "df = df.set_index(['id', 'date_recorded']).join(sub).reset_index()"
   ]
  },
  {
   "cell_type": "code",
   "execution_count": 400,
   "id": "b1378947-dd12-4414-96e9-eb517dbfdd60",
   "metadata": {},
   "outputs": [],
   "source": [
    "# df['hhinc_midpoint'] = df['hhinc'].map(dict_hhinc_midpoint)\n",
    "df = df.sort_values('date_recorded')\n",
    "sub = df.set_index(['id', 'date_recorded',])['hhinc_midpoint'].unstack()\n",
    "sub = sub.ffill(axis=1).diff(axis=1).stack().rename('hhinc_delta')\n",
    "df = df.set_index(['id', 'date_recorded']).join(sub).reset_index()"
   ]
  },
  {
   "cell_type": "code",
   "execution_count": 401,
   "id": "055972e6-ff7b-4179-b4f2-6096c5a8aeb7",
   "metadata": {},
   "outputs": [],
   "source": [
    "# employement educ"
   ]
  },
  {
   "cell_type": "code",
   "execution_count": 402,
   "id": "9bacb572-c3f7-4728-b77a-27fd48bb707a",
   "metadata": {},
   "outputs": [],
   "source": [
    "dict_eduschool_int_txt = {\n",
    "    1: \"derzeit noch Schüler / Schülerin\",\n",
    "2: \"Hauptschule / Volksschulabschluss\",\n",
    "3: \"Mittlere Reife / Realschulabschluss\",\n",
    "4: \"Abschluss Polytechnische Oberschule, 10. Klasse\",\n",
    "5: \"Fachhochschulreife, Abschluss einer Fachoberschule\",\n",
    "6: \"Allgemeine oder fachgebundene Hochschulreife / Abitur (Gymnasium bzw. EOS auch EOS mit Lehre)\",\n",
    "7: \"anderer Schulabschluss\",\n",
    "8: \"kein Schulabschluss (und aktuell kein Schüler / keine Schülerin)\"\n",
    "}"
   ]
  },
  {
   "cell_type": "code",
   "execution_count": 403,
   "id": "87f66a0f-4176-4ae7-b3ed-e47c1ecd7889",
   "metadata": {},
   "outputs": [],
   "source": [
    "dict_eduwork_int_txt = {\n",
    "    1: \"derzeit in Ausbildung bzw. Studium (noch keinen Bachelorabschluss erreicht)\",\n",
    "2: \"beruflich-betriebliche Ausbildung (Lehre) abgeschlossen\",\n",
    "3: \"beruflich-schulische Ausbildung (Berufsfachschule, Höhere Handelsschule) abgeschlossen\",\n",
    "4: \"Ausbildung an einer Fachschule, Technikerschule, Berufs- oder Fachakademie abgeschlossen, Meisterschule mit kurzer Vorbereitungszeit (bis zu 880: Stunden) abgeschlossen\",\n",
    "5: \"Abschluss einer Meisterschule mit langer Vorbereitungszeit von mehr als 880: Stunden\",\n",
    "6: \"Bachelor, Fachhochschulabschluss, Ingenieurschule abgeschlossen\",\n",
    "7: \"Diplom- oder Masterabschluss, Lehrerausbildung abgeschlossen\",\n",
    "8: \"Promotion / Habilitation abgeschlossen\",\n",
    "9: \"anderer beruflicher Abschluss\",\n",
    "10: \"kein Ausbildungsabschluss (und aktuell nicht in Ausbildung / im Studium)\"\n",
    "}"
   ]
  },
  {
   "cell_type": "code",
   "execution_count": 404,
   "id": "4e9cff7d-d499-4c3a-a666-1d072a7085a7",
   "metadata": {},
   "outputs": [],
   "source": [
    "dict_employ_int_txt = {\n",
    "    1: \"Erwerbstätig (auch Lehre) in Vollzeit\",\n",
    "2: \"Erwerbstätig Teilzeit (auch Altersteilzeit)\",\n",
    "3: \"geringfügig oder unregelmäßig beschäftigt (auch bezahltes Praktikum sowie Eingliederungsmaßnahmen)\",\n",
    "4: \"in Mutterschutz / in Elternzeit / länger krankgeschrieben / sonstige Beurlaubung. Die Rückkehr zurErwerbstätigkeit ist geplant\",\n",
    "5: \"Arbeitslos (offiziell gemeldet)\",\n",
    "6: \"in der Schule, Studium oder unbezahltes Praktikum\",\n",
    "7: \"Rentner(in) oder Pensionär(in)\",\n",
    "8: \"Frührentner(in) oder Vorruheständler(in) (auch Arbeitsunfähige, Berufsunfähige, Erwerbsunfähige oder -geminderte, Dienstunfähige)\",\n",
    "9: \"Bundesfreiwilligendienst / Freiwilliges Jahr\",\n",
    "10: \"Hausfrau / Hausmann\",\n",
    "11: \"sonstige Nichterwerbstätigkeit\",\n",
    "}\n"
   ]
  },
  {
   "cell_type": "code",
   "execution_count": 405,
   "id": "0a1d3bca-e39a-4042-946f-23c1f6e53075",
   "metadata": {},
   "outputs": [],
   "source": [
    "df['eduschool_txt'] = df['eduschool'].map(dict_eduschool_int_txt)\n",
    "df['eduwork_txt'] = df['eduwork'].map(dict_eduwork_int_txt)\n",
    "df['employ_txt'] = df['employ'].map(dict_employ_int_txt)"
   ]
  },
  {
   "cell_type": "code",
   "execution_count": 406,
   "id": "f6db4450-f327-4c91-9c5e-714f735d2931",
   "metadata": {},
   "outputs": [],
   "source": [
    "df['is_unempl'] = df['employ'] == 5"
   ]
  },
  {
   "cell_type": "code",
   "execution_count": 407,
   "id": "c7a4c15c-ce0b-4922-b29f-60f2d00305e6",
   "metadata": {},
   "outputs": [],
   "source": [
    "df = get_var_time_delta(df, 'is_unempl')\n",
    "df['is_unempl_delta'] = df.is_unempl_delta * (-1)"
   ]
  },
  {
   "cell_type": "code",
   "execution_count": 408,
   "id": "989261f4-53bb-4162-879a-18cfed1f0ad8",
   "metadata": {},
   "outputs": [],
   "source": [
    "# a-d cats"
   ]
  },
  {
   "cell_type": "code",
   "execution_count": 409,
   "id": "408af2c0-21a8-4505-b77c-5dbceb392172",
   "metadata": {},
   "outputs": [],
   "source": [
    "df['is_food_shop'] = ~(df['mainshopper_a'] == 3)\n",
    "df['is_invest_shop'] = ~(df['mainshopper_b'] == 3)\n",
    "df['is_invest_manag'] = ~(df['mainshopper_d'] == 3)"
   ]
  },
  {
   "cell_type": "code",
   "execution_count": 410,
   "id": "8592029b-89dc-4267-8a7c-716f617db16b",
   "metadata": {},
   "outputs": [],
   "source": [
    "# wealth"
   ]
  },
  {
   "cell_type": "code",
   "execution_count": 411,
   "id": "1e4b0832-769e-42a8-b62f-9f96828f946c",
   "metadata": {},
   "outputs": [],
   "source": [
    "df['wealth_bank'] = df['netwealth_detail_a'] #map(dict_networth_mid_point)\n",
    "df['debt'] = df['netwealth_detail_g'] #.map(dict_debt_midpoint)"
   ]
  },
  {
   "cell_type": "code",
   "execution_count": 412,
   "id": "a78f5fc0-070e-413a-a77d-6f4ad567e21f",
   "metadata": {},
   "outputs": [],
   "source": [
    "df = get_var_time_delta(df, 'debt')\n",
    "df = get_var_time_delta(df, 'wealth_bank')"
   ]
  },
  {
   "cell_type": "code",
   "execution_count": 413,
   "id": "248cf936-8217-4d5d-9c0d-aaa403d5d714",
   "metadata": {},
   "outputs": [],
   "source": [
    "# homeown"
   ]
  },
  {
   "cell_type": "code",
   "execution_count": 415,
   "id": "d5f8c749-ba7f-4436-aef5-7235d8df9254",
   "metadata": {},
   "outputs": [],
   "source": [
    "df['is_homeown'] = df['homeown'] != 1"
   ]
  },
  {
   "cell_type": "code",
   "execution_count": 416,
   "id": "143b09a0-f086-42a9-897f-5bfe35046100",
   "metadata": {},
   "outputs": [],
   "source": [
    "df = get_var_time_delta(df, 'is_homeown')\n",
    "df['is_homeown_delta'] = df.is_homeown_delta * (-1)"
   ]
  },
  {
   "cell_type": "code",
   "execution_count": 417,
   "id": "46920388-10c7-4691-99e1-51b94fedab05",
   "metadata": {},
   "outputs": [],
   "source": [
    "# perceived problems"
   ]
  },
  {
   "cell_type": "code",
   "execution_count": 418,
   "id": "6c81ea42-1ce9-4898-bf90-310039031043",
   "metadata": {},
   "outputs": [],
   "source": [
    "df['percprob_covid'] = df['percprob_b']\n",
    "df['percprob_reces'] = df['percprob_d']\n",
    "df['percprob_war'] = df['percprob_e']"
   ]
  },
  {
   "cell_type": "code",
   "execution_count": 419,
   "id": "b37055df-c61c-4e51-a5c5-90ae1d42ed13",
   "metadata": {},
   "outputs": [],
   "source": [
    "# save"
   ]
  },
  {
   "cell_type": "code",
   "execution_count": 467,
   "id": "43339466-e94a-4052-9724-4629c6c27056",
   "metadata": {},
   "outputs": [
    {
     "data": {
      "text/plain": [
       "count    45440.000000\n",
       "mean         2.328433\n",
       "std          1.878436\n",
       "min          1.000000\n",
       "25%          1.000000\n",
       "50%          1.000000\n",
       "75%          3.000000\n",
       "max         10.000000\n",
       "Name: pi_perc, dtype: float64"
      ]
     },
     "execution_count": 467,
     "metadata": {},
     "output_type": "execute_result"
    }
   ],
   "source": [
    "df[['id', 'date_recorded', 'pi_perc']].drop_duplicates().dropna().groupby('id').pi_perc.count().describe()"
   ]
  },
  {
   "cell_type": "code",
   "execution_count": 368,
   "id": "d978458b-bcbd-4b19-a3c4-f29428412581",
   "metadata": {},
   "outputs": [],
   "source": [
    "df = df.astype({k: v for k, v in dict_cols_parse.items() if k in df.columns})\n",
    "df = df.replace({'nan': np.nan})"
   ]
  },
  {
   "cell_type": "code",
   "execution_count": 369,
   "id": "43d19764-4a39-4927-ac9b-c3463058807c",
   "metadata": {},
   "outputs": [],
   "source": [
    "df.to_feather(os.path.join(DATA_DIR, 'hhp.feather'))"
   ]
  },
  {
   "cell_type": "code",
   "execution_count": null,
   "id": "77963a6b-ecf1-4517-ad1c-3e7a0b6da301",
   "metadata": {},
   "outputs": [],
   "source": []
  }
 ],
 "metadata": {
  "kernelspec": {
   "display_name": "mamba_env_memoire2",
   "language": "python",
   "name": "mamba_env_memoire2"
  },
  "language_info": {
   "codemirror_mode": {
    "name": "ipython",
    "version": 3
   },
   "file_extension": ".py",
   "mimetype": "text/x-python",
   "name": "python",
   "nbconvert_exporter": "python",
   "pygments_lexer": "ipython3",
   "version": "3.11.7"
  }
 },
 "nbformat": 4,
 "nbformat_minor": 5
}
