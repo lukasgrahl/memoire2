{
 "cells": [
  {
   "cell_type": "code",
   "execution_count": 1,
   "id": "cd282aa7-bb77-414a-837c-bc30c9aae5fb",
   "metadata": {},
   "outputs": [],
   "source": [
    "%run init_notebook.py"
   ]
  },
  {
   "cell_type": "code",
   "execution_count": 2,
   "id": "0c0e1763-0b2c-45b6-867c-ecc691e97123",
   "metadata": {},
   "outputs": [],
   "source": [
    "from src.utils import load_pd_df, get_dt_index"
   ]
  },
  {
   "cell_type": "code",
   "execution_count": 4,
   "id": "8f97fc74-b454-4d6c-901f-998998bd122f",
   "metadata": {},
   "outputs": [],
   "source": [
    "pi = get_dt_index(load_pd_df('de_inf_prepro.csv'))\n",
    "pi_e = load_pd_df('infl_expec.feather')\n",
    "bei = load_pd_df('bei_data.feather')"
   ]
  },
  {
   "cell_type": "code",
   "execution_count": 5,
   "id": "f4b061f9-1e48-4635-ab4b-ff491ef21ffe",
   "metadata": {},
   "outputs": [],
   "source": [
    "pi['M'] = pi.index.to_period('M').start_time\n",
    "pi_e['M'] = pi_e.index.to_period('M').start_time\n",
    "pi_e.index.name = 'date'\n",
    "bei['W'] = bei.index.to_period('W').start_time\n",
    "bei.drop('pi_de_surprise_Y', axis=1, inplace=True)\n",
    "bei = bei.reset_index().set_index('W')"
   ]
  },
  {
   "cell_type": "code",
   "execution_count": 6,
   "id": "502ecafc-7ab8-491c-9dd0-abd60f723230",
   "metadata": {},
   "outputs": [],
   "source": [
    "pi = pi.reset_index().set_index('M')[['pi_de_Y', 'pi_de_surprise_Y', 'date']]\n",
    "pi_e = pi_e.reset_index().set_index('M')[['pi_e_estimate_mean']]"
   ]
  },
  {
   "cell_type": "code",
   "execution_count": 7,
   "id": "4c876c5b-6020-44fc-a335-cf44024a0a18",
   "metadata": {},
   "outputs": [],
   "source": [
    "pi = pi.set_index(pi.date.dt.to_period('W'))\n",
    "pi.index = pi.index.start_time"
   ]
  },
  {
   "cell_type": "code",
   "execution_count": 8,
   "id": "3bb8e4be-a79c-45b5-a661-8f43d2801522",
   "metadata": {},
   "outputs": [],
   "source": [
    "pi = pi.join(pi_e)\n",
    "pi['W'] = pi.date.dt.to_period('W')"
   ]
  },
  {
   "cell_type": "code",
   "execution_count": 9,
   "id": "52b71bbb-5ca8-4bdc-8831-ad541b2f35c6",
   "metadata": {},
   "outputs": [],
   "source": [
    "pi = pi.set_index('W')\n",
    "pi.index = pi.index.start_time"
   ]
  },
  {
   "cell_type": "code",
   "execution_count": 10,
   "id": "bd012a43-1c6e-475c-8e3e-8c1fcfa7a2a7",
   "metadata": {},
   "outputs": [],
   "source": [
    "df = bei[['date', 'bei']].join(pi.drop('date', axis=1)).copy()"
   ]
  },
  {
   "cell_type": "code",
   "execution_count": 12,
   "id": "84100bf1-cb57-445d-9e2e-5e88acdad400",
   "metadata": {},
   "outputs": [],
   "source": [
    "df.describe().drop('date', axis=1).to_csv(os.path.join(GRAPHS_DIR, 'desc.csv'))\n",
    "df.drop('date', axis=1).cov().to_csv(os.path.join(GRAPHS_DIR, 'cov.csv'))"
   ]
  },
  {
   "cell_type": "code",
   "execution_count": 13,
   "id": "336ee1e0-a189-4c74-8029-9c885b0de3c3",
   "metadata": {},
   "outputs": [
    {
     "data": {
      "text/html": [
       "<div>\n",
       "<style scoped>\n",
       "    .dataframe tbody tr th:only-of-type {\n",
       "        vertical-align: middle;\n",
       "    }\n",
       "\n",
       "    .dataframe tbody tr th {\n",
       "        vertical-align: top;\n",
       "    }\n",
       "\n",
       "    .dataframe thead th {\n",
       "        text-align: right;\n",
       "    }\n",
       "</style>\n",
       "<table border=\"1\" class=\"dataframe\">\n",
       "  <thead>\n",
       "    <tr style=\"text-align: right;\">\n",
       "      <th></th>\n",
       "      <th>bei</th>\n",
       "      <th>pi_de_Y</th>\n",
       "      <th>pi_de_surprise_Y</th>\n",
       "      <th>pi_e_estimate_mean</th>\n",
       "    </tr>\n",
       "  </thead>\n",
       "  <tbody>\n",
       "    <tr>\n",
       "      <th>bei</th>\n",
       "      <td>0.000029</td>\n",
       "      <td>0.000158</td>\n",
       "      <td>0.000163</td>\n",
       "      <td>0.000085</td>\n",
       "    </tr>\n",
       "    <tr>\n",
       "      <th>pi_de_Y</th>\n",
       "      <td>0.000158</td>\n",
       "      <td>0.001128</td>\n",
       "      <td>0.001166</td>\n",
       "      <td>0.000605</td>\n",
       "    </tr>\n",
       "    <tr>\n",
       "      <th>pi_de_surprise_Y</th>\n",
       "      <td>0.000163</td>\n",
       "      <td>0.001166</td>\n",
       "      <td>0.001210</td>\n",
       "      <td>0.000601</td>\n",
       "    </tr>\n",
       "    <tr>\n",
       "      <th>pi_e_estimate_mean</th>\n",
       "      <td>0.000085</td>\n",
       "      <td>0.000605</td>\n",
       "      <td>0.000601</td>\n",
       "      <td>0.000486</td>\n",
       "    </tr>\n",
       "  </tbody>\n",
       "</table>\n",
       "</div>"
      ],
      "text/plain": [
       "                         bei   pi_de_Y  pi_de_surprise_Y  pi_e_estimate_mean\n",
       "bei                 0.000029  0.000158          0.000163            0.000085\n",
       "pi_de_Y             0.000158  0.001128          0.001166            0.000605\n",
       "pi_de_surprise_Y    0.000163  0.001166          0.001210            0.000601\n",
       "pi_e_estimate_mean  0.000085  0.000605          0.000601            0.000486"
      ]
     },
     "execution_count": 13,
     "metadata": {},
     "output_type": "execute_result"
    }
   ],
   "source": [
    "df.drop('date', axis=1).cov()"
   ]
  },
  {
   "cell_type": "code",
   "execution_count": 180,
   "id": "617c5068-7744-4fe5-a44e-99445bdfdbda",
   "metadata": {},
   "outputs": [],
   "source": [
    "with Capturing() as out:\n",
    "    print(df.describe().drop('date', axis=1))\n",
    "write_to_txt(\"\\n\".join(out), 'desc.txt')\n",
    "\n",
    "with Capturing() as out:\n",
    "    print(df.drop('date', axis=1).cov())\n",
    "write_to_txt(\"\\n\".join(out), 'cov.txt')"
   ]
  },
  {
   "cell_type": "code",
   "execution_count": null,
   "id": "0df46a20-83ac-4bd7-8b0b-cda3ab0251e1",
   "metadata": {},
   "outputs": [],
   "source": []
  },
  {
   "cell_type": "code",
   "execution_count": null,
   "id": "07439863-d9b8-4a56-b066-42a422710170",
   "metadata": {},
   "outputs": [],
   "source": []
  },
  {
   "cell_type": "code",
   "execution_count": null,
   "id": "725bde86-5c87-4428-a1c3-ba3f5f4281b3",
   "metadata": {},
   "outputs": [],
   "source": []
  }
 ],
 "metadata": {
  "kernelspec": {
   "display_name": "mamba_env_memoire2",
   "language": "python",
   "name": "mamba_env_memoire2"
  },
  "language_info": {
   "codemirror_mode": {
    "name": "ipython",
    "version": 3
   },
   "file_extension": ".py",
   "mimetype": "text/x-python",
   "name": "python",
   "nbconvert_exporter": "python",
   "pygments_lexer": "ipython3",
   "version": "3.11.7"
  }
 },
 "nbformat": 4,
 "nbformat_minor": 5
}
