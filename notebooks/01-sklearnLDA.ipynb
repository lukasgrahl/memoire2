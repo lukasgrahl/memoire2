{
 "cells": [
  {
   "cell_type": "code",
   "execution_count": 3,
   "id": "a76389c9-0186-470e-8318-7e5e383d87fd",
   "metadata": {},
   "outputs": [],
   "source": [
    "%run init_notebook.py"
   ]
  },
  {
   "cell_type": "code",
   "execution_count": 4,
   "id": "94e0241d-cc9b-450f-afdc-98478d2b1c67",
   "metadata": {},
   "outputs": [],
   "source": [
    "from src.nlp_lists import DICT_NARRATIVES, LST_FREQUENT_NON_MEANING"
   ]
  },
  {
   "cell_type": "code",
   "execution_count": 11,
   "id": "131a6891-9fdd-40da-819a-81e54e564b9d",
   "metadata": {},
   "outputs": [],
   "source": [
    "import pickle\n",
    "import spacy\n",
    "\n",
    "import numpy as np\n",
    "\n",
    "from sklearn.feature_extraction.text import CountVectorizer\n",
    "from sklearn.feature_extraction.text import TfidfVectorizer\n",
    "from sklearn.decomposition import LatentDirichletAllocation\n",
    "from sklearn.model_selection import RandomizedSearchCV\n",
    "\n",
    "import time\n",
    "import gc\n",
    "\n",
    "from scipy.stats import uniform"
   ]
  },
  {
   "cell_type": "code",
   "execution_count": 6,
   "id": "f936d77f-4e2f-44c6-9360-7af5b2af8355",
   "metadata": {},
   "outputs": [],
   "source": [
    "from src.utils import load_pickle\n",
    "from src.nlp_utils import get_lda_n_top_words, PTWGuidedLatentDirichletAllocation"
   ]
  },
  {
   "cell_type": "markdown",
   "id": "b45d7866-9fa8-407c-91ee-386d67b2c9df",
   "metadata": {},
   "source": [
    "# load data"
   ]
  },
  {
   "cell_type": "code",
   "execution_count": 7,
   "id": "5e397c38-8dd8-4397-9168-9f4ed2b9147b",
   "metadata": {},
   "outputs": [],
   "source": [
    "lst_files = [i for i in os.listdir(NEWS_TEXT_DIR) if i not in ['orig']]\n",
    "lst_files = [lst_files[i] for i in np.random.randint(0, high=len(lst_files), size=5_000)]"
   ]
  },
  {
   "cell_type": "code",
   "execution_count": 8,
   "id": "7eeaed17-7c0c-4dfe-9bb7-ab83c70c682d",
   "metadata": {},
   "outputs": [
    {
     "data": {
      "text/plain": [
       "4552"
      ]
     },
     "execution_count": 8,
     "metadata": {},
     "output_type": "execute_result"
    }
   ],
   "source": [
    "dict_txts = {}\n",
    "for file in lst_files:\n",
    "    dict_txts[file.split('.')[0]] = load_pickle(file)\n",
    "len(dict_txts)"
   ]
  },
  {
   "cell_type": "code",
   "execution_count": 9,
   "id": "348fa7dc-9e5d-43c7-a686-be16d2d99019",
   "metadata": {},
   "outputs": [],
   "source": [
    "lst_noun_tokens = [list(i['counter_nouns'].keys()) for i in dict_txts.values()] # i['date'] >= datetime(2012,1,1).date()]\n",
    "lst_noun_tokens = [[i for i in lst if i not in LST_FREQUENT_NON_MEANING] for lst in lst_noun_tokens]"
   ]
  },
  {
   "cell_type": "markdown",
   "id": "e38c3870-2302-4159-888c-447a0b179d6a",
   "metadata": {},
   "source": [
    "# vectorize"
   ]
  },
  {
   "cell_type": "code",
   "execution_count": 12,
   "id": "7e551c94-c29e-4b99-96e1-dfb46a1829d4",
   "metadata": {},
   "outputs": [],
   "source": [
    "voc = list(set([*chain(*lst_noun_tokens)]))\n",
    "vectorizer = CountVectorizer(ngram_range=(1,1), vocabulary=voc,)\n",
    "vec = vectorizer.fit_transform([\" \".join(i) for i in lst_noun_tokens])\n",
    "X = vec.toarray()\n",
    "dict_txt2vec = vectorizer.vocabulary_"
   ]
  },
  {
   "cell_type": "code",
   "execution_count": 13,
   "id": "b92d7959-162a-4a9f-9fb7-a23c34915de3",
   "metadata": {},
   "outputs": [
    {
     "data": {
      "text/plain": [
       "1075094"
      ]
     },
     "execution_count": 13,
     "metadata": {},
     "output_type": "execute_result"
    }
   ],
   "source": [
    "del lst_noun_tokens, dict_txts\n",
    "gc.collect()"
   ]
  },
  {
   "cell_type": "markdown",
   "id": "df5a6a1c-c224-43f2-bc19-f69d218f17dc",
   "metadata": {},
   "source": [
    "# lda sklearn"
   ]
  },
  {
   "cell_type": "code",
   "execution_count": 10,
   "id": "acfc8a25-67cd-4b5c-a8e4-1c05c18e997f",
   "metadata": {},
   "outputs": [],
   "source": [
    "lda = LatentDirichletAllocation(\n",
    "    n_components=len(DICT_NARRATIVES),\n",
    "    learning_decay=.8,\n",
    "    learning_offset=10,\n",
    "    learning_method='online',\n",
    "    batch_size=5_000,\n",
    "    random_state=101\n",
    ")\n",
    "out_lda = lda.fit(X)"
   ]
  },
  {
   "cell_type": "code",
   "execution_count": 11,
   "id": "bd7e163d-b4e9-40c3-938f-3b26d76644de",
   "metadata": {},
   "outputs": [],
   "source": [
    "cv = RandomizedSearchCV(lda, dict(learning_decay=uniform(.6,.2)))"
   ]
  },
  {
   "cell_type": "code",
   "execution_count": 12,
   "id": "5bfdd721-96b3-4018-8f15-55f80534b5ad",
   "metadata": {},
   "outputs": [],
   "source": [
    "cv_out = cv.fit(vec.toarray())"
   ]
  },
  {
   "cell_type": "code",
   "execution_count": 13,
   "id": "561a50c5-6212-404b-a859-ada5893e77e0",
   "metadata": {},
   "outputs": [],
   "source": [
    "out_lda_cv = cv_out.best_estimator_"
   ]
  },
  {
   "cell_type": "code",
   "execution_count": 14,
   "id": "3a372e86-63b1-453e-bb4c-38629ad9f33c",
   "metadata": {},
   "outputs": [
    {
     "name": "stdout",
     "output_type": "stream",
     "text": [
      "\n",
      "Topic 0\n",
      "preis grund plus bayer lieferkette schuld sorge usa wachstum online\n",
      "\n",
      "Topic 1\n",
      "unternehmen markt auto dollar thomas gesellschaft schritt autobauer autoindustrie sorge\n",
      "\n",
      "Topic 2\n",
      "unternehmen automobilindustrie energiepreis beamtenfachhochschule analyst märz module wähler dauer fertigung\n",
      "\n",
      "Topic 3\n",
      "fall folge unternehmen dax märz problem lücke investor zukunft energie\n",
      "\n",
      "Topic 4\n",
      "preis konkurrent marktanteil unternehmen ziel maschinenbau minus diess kauf erholung\n",
      "\n",
      "Topic 5\n",
      "wachstumsrate kahongya benzinmotor jeffrey kongo kind unternehmensführung angeln laufshirt kodak\n",
      "\n",
      "Topic 6\n",
      "energie geschäftsmodell geschäft grund konzentration marke fall nachhaltigkeit gegenteil partnerschaft\n",
      "\n",
      "Topic 7\n",
      "börse green muttergesellschaft nahrungsergänzungsmittel mitgefühl wissenschaftler unternehmen manfred strompreis sonderkündigungsrecht\n",
      "\n",
      "Topic 8\n",
      "preis wirtschaft unternehmen holidays verständnis welt frühjahrsprognose bylademmxxx iw höhe\n"
     ]
    }
   ],
   "source": [
    "get_lda_n_top_words(voc, out_lda_cv)"
   ]
  },
  {
   "cell_type": "code",
   "execution_count": 15,
   "id": "919e27b1-e14d-476d-a2e6-5e07523198af",
   "metadata": {},
   "outputs": [],
   "source": [
    "df = pd.DataFrame(out_lda.transform(X), index=[i['date'] for i in dict_txts.values()])\n",
    "df.sort_index(inplace=True)"
   ]
  },
  {
   "cell_type": "code",
   "execution_count": 16,
   "id": "ea182528-1b6e-492e-a040-2720e4d198ce",
   "metadata": {},
   "outputs": [
    {
     "data": {
      "text/plain": [
       "<AxesSubplot: >"
      ]
     },
     "execution_count": 16,
     "metadata": {},
     "output_type": "execute_result"
    },
    {
     "data": {
      "image/png": "[encoded data removed]",
      "text/plain": [
       "<Figure size 1000x300 with 1 Axes>"
      ]
     },
     "metadata": {},
     "output_type": "display_data"
    }
   ],
   "source": [
    "df[0].plot(figsize=(10,3))"
   ]
  },
  {
   "cell_type": "markdown",
   "id": "b6298094-8f58-484c-9072-a1514085aecd",
   "metadata": {},
   "source": [
    "# lda prior"
   ]
  },
  {
   "cell_type": "code",
   "execution_count": 14,
   "id": "7360a089-4e71-429e-b980-1ac8ada97897",
   "metadata": {},
   "outputs": [],
   "source": [
    "lst_topic_seeds = [[*chain(*list(v.values()))] for k, v in DICT_NARRATIVES.items()]\n",
    "lst_topic_seeds_num = [[dict_txt2vec[w] for w in topic if w in dict_txt2vec.keys()] for topic in lst_topic_seeds]"
   ]
  },
  {
   "cell_type": "code",
   "execution_count": 16,
   "id": "45d20b2a-783f-4476-a852-dacdeb48fbee",
   "metadata": {},
   "outputs": [],
   "source": [
    "plda = PTWGuidedLatentDirichletAllocation(\n",
    "    n_components=len(lst_topic_seeds),\n",
    "    learning_decay=.8,\n",
    "    learning_offset=10,\n",
    "    learning_method='online',\n",
    "    batch_size=2_000,\n",
    "    random_state=101,\n",
    "    ptws=lst_topic_seeds_num,\n",
    "    n_jobs=-1,\n",
    ")\n",
    "plda_out = plda.fit(vec.toarray())"
   ]
  },
  {
   "cell_type": "code",
   "execution_count": 19,
   "id": "a8c216cd-5753-45f9-a2fc-00adb2b51e18",
   "metadata": {},
   "outputs": [
    {
     "name": "stdout",
     "output_type": "stream",
     "text": [
      "\n",
      "Topic 0\n",
      "inflation kaufpreis inflationsrate potrafke unternehmen teilnehmend verbraucherpreis usa markt wirtschaft\n",
      "\n",
      "Topic 1\n",
      "mitarbeiter beschäftigter lohn arbeitnehmer gehalt arbeitslosigkeit arbeitslosenquote arbeitslosenzahl unternehmen arbeitnehmerin\n",
      "\n",
      "Topic 2\n",
      "kosten produktion hersteller handel lieferkette import börse mwh gaspreis füllstand\n",
      "\n",
      "Topic 3\n",
      "russland ukraine krieg sanktion konflikt usa moskau unternehmen wirtschaft putin\n",
      "\n",
      "Topic 4\n",
      "unternehmen preis markt geld problem usa europa grund wirtschaft mensch\n",
      "\n",
      "Topic 5\n",
      "kunde nachfrage verbraucher haushalt ausgabe konsum angebot unternehmen markt anbieter\n",
      "\n",
      "Topic 6\n",
      "pandemie corona virus covid markt unternehmen geld mensch nordbad seifert\n",
      "\n",
      "Topic 7\n",
      "zins zentralbank notenbank ezb geldpolitik fed leitzins zinserhöhung anleihe währungshüter\n",
      "\n",
      "Topic 8\n",
      "krise rezession unternehmen geld markt usa europa wirtschaft wachstum problem\n"
     ]
    }
   ],
   "source": [
    "get_lda_n_top_words(voc, plda_out)"
   ]
  },
  {
   "cell_type": "code",
   "execution_count": 21,
   "id": "ac010dd7-e448-4339-8815-d374225024ce",
   "metadata": {},
   "outputs": [],
   "source": [
    "cv_plda = RandomizedSearchCV(plda,\n",
    "                             dict(\n",
    "                                 learning_decay=uniform(.7,.1),\n",
    "                                 learning_offset=uniform(10, 90),\n",
    "                                 # batch_size=2_000,\n",
    "                             ),\n",
    "                             n_iter=30,\n",
    "                             n_jobs=-1,\n",
    "                             random_state=101,                             \n",
    "                            )"
   ]
  },
  {
   "cell_type": "code",
   "execution_count": null,
   "id": "6602d129-ab82-4194-b35c-325cef8a58b0",
   "metadata": {},
   "outputs": [],
   "source": [
    "cv_plda_out = cv_plda.fit(X)\n",
    "out_plda_cv = cv_plda_out.best_estimator_"
   ]
  },
  {
   "cell_type": "code",
   "execution_count": null,
   "id": "c30e4390-b4c5-4800-aa2e-d26e55b801f7",
   "metadata": {},
   "outputs": [],
   "source": [
    "get_lda_n_top_words(voc, out_plda_cv)"
   ]
  },
  {
   "cell_type": "code",
   "execution_count": null,
   "id": "6e02453f-c063-4b81-928c-486cc6fd1dff",
   "metadata": {},
   "outputs": [],
   "source": []
  },
  {
   "cell_type": "code",
   "execution_count": null,
   "id": "6fd9ddb4-c210-4916-9715-f551985f6161",
   "metadata": {},
   "outputs": [],
   "source": [
    "df = pd.DataFrame(out_plda_cv.transform(X), columns=DICT_NARRATIVES.keys(), index=[i['date'] for i in dict_txts.values()])\n",
    "df.sort_index(inplace=True)"
   ]
  },
  {
   "cell_type": "code",
   "execution_count": null,
   "id": "3a4b6f10-c855-4dea-a458-58ec99d2c02d",
   "metadata": {},
   "outputs": [],
   "source": [
    "fig, axes = plt.subplots(df.shape[1], 1, figsize=(14, 2*df.shape[1]))\n",
    "for idx, ax in enumerate(axes.ravel()):\n",
    "    ax.plot(df.iloc[:, idx], lw=.5, marker='.')\n",
    "    ax.set_title(df.columns[idx])\n",
    "plt.tight_layout()"
   ]
  },
  {
   "cell_type": "code",
   "execution_count": null,
   "id": "fd6f41bc-5495-464e-be7c-32b5a6ed6bd7",
   "metadata": {},
   "outputs": [],
   "source": []
  }
 ],
 "metadata": {
  "kernelspec": {
   "display_name": "mamba_env_memoire2",
   "language": "python",
   "name": "mamba_env_memoire2"
  },
  "language_info": {
   "codemirror_mode": {
    "name": "ipython",
    "version": 3
   },
   "file_extension": ".py",
   "mimetype": "text/x-python",
   "name": "python",
   "nbconvert_exporter": "python",
   "pygments_lexer": "ipython3",
   "version": "3.11.7"
  }
 },
 "nbformat": 4,
 "nbformat_minor": 5
}
