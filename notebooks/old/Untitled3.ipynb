{
 "cells": [
  {
   "cell_type": "code",
   "execution_count": 1,
   "id": "676171be-fcc1-4936-8759-ce7ad3dbb533",
   "metadata": {},
   "outputs": [],
   "source": [
    "%run init_notebook.py"
   ]
  },
  {
   "cell_type": "code",
   "execution_count": 2,
   "id": "f04e5121-256f-4dd4-82ac-0dd9a5983390",
   "metadata": {},
   "outputs": [],
   "source": [
    "from src.utils import load_pd_df, get_dt_index\n",
    "from src.processing import pd_join_dfs, pd_groupby, xcorr\n",
    "from src.statsmodels import *\n",
    "import scipy"
   ]
  },
  {
   "cell_type": "code",
   "execution_count": 3,
   "id": "94018fb9-d60a-418f-b050-3ce4bde32919",
   "metadata": {},
   "outputs": [],
   "source": [
    "import warnings\n",
    "from statsmodels.tools.sm_exceptions import ValueWarning\n",
    "warnings.simplefilter('ignore', ValueWarning)"
   ]
  },
  {
   "cell_type": "code",
   "execution_count": null,
   "id": "2ac836c1-442e-4e9c-b8ff-f92b008117ae",
   "metadata": {},
   "outputs": [],
   "source": []
  }
 ],
 "metadata": {
  "kernelspec": {
   "display_name": "mamba_env_memoire2",
   "language": "python",
   "name": "mamba_env_memoire2"
  },
  "language_info": {
   "codemirror_mode": {
    "name": "ipython",
    "version": 3
   },
   "file_extension": ".py",
   "mimetype": "text/x-python",
   "name": "python",
   "nbconvert_exporter": "python",
   "pygments_lexer": "ipython3",
   "version": "3.11.7"
  }
 },
 "nbformat": 4,
 "nbformat_minor": 5
}
