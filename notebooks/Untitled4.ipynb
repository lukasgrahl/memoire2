{
 "cells": [
  {
   "cell_type": "code",
   "execution_count": null,
   "id": "41ca6c27-f5b9-4d5a-94e9-5c8fa8c1c361",
   "metadata": {},
   "outputs": [],
   "source": []
  }
 ],
 "metadata": {
  "kernelspec": {
   "display_name": "",
   "name": ""
  },
  "language_info": {
   "name": ""
  }
 },
 "nbformat": 4,
 "nbformat_minor": 5
}
