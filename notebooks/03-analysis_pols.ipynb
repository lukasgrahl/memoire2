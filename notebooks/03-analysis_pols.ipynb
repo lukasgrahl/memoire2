{
 "cells": [
  {
   "cell_type": "code",
   "execution_count": 1,
   "id": "be0292f3-93fa-4b17-9987-9d55cf353b80",
   "metadata": {},
   "outputs": [],
   "source": [
    "%run init_notebook.py\n"
   ]
  },
  {
   "cell_type": "code",
   "execution_count": 2,
   "id": "7829122e-1654-4f8c-9bba-b677c4f49ce8",
   "metadata": {},
   "outputs": [],
   "source": [
    "from src.utils import load_pd_df, get_dt_index\n",
    "from src.processing import pd_join_dfs, pd_groupby, xcorr\n",
    "from src.statsmodels import *\n",
    "import scipy"
   ]
  },
  {
   "cell_type": "code",
   "execution_count": 3,
   "id": "3b3c441e-1c2f-4e54-809c-9516bba7434a",
   "metadata": {},
   "outputs": [],
   "source": [
    "import warnings\n",
    "from statsmodels.tools.sm_exceptions import ValueWarning\n",
    "warnings.simplefilter('ignore', ValueWarning)"
   ]
  },
  {
   "cell_type": "code",
   "execution_count": 4,
   "id": "bb9c3dc7-dde5-4c5a-a191-9bbedeb2a8cd",
   "metadata": {},
   "outputs": [],
   "source": [
    "from src.utils import load_pd_df, save_pd_df, get_dt_index, pd_join_freq, Capturing, cross_corr, pd_df_astype, save_fig, get_stars\n",
    "from src.processing import pd_groupby, pd_join_dfs, adf_test_summary, hausman, plt_stacked_bar, get_individual_perc_error\n",
    "from src.pymc_modelling import get_samp\n",
    "\n",
    "from statsmodels.stats.diagnostic import het_white, het_breuschpagan\n",
    "import statsmodels.api as sm\n",
    "from statsmodels.stats.stattools import durbin_watson\n",
    "\n",
    "from linearmodels.panel import PanelOLS\n",
    "from statsmodels.regression.linear_model import OLS\n",
    "from statsmodels.tsa.arima.model import ARIMA\n",
    "from linearmodels import RandomEffects\n",
    "from statsmodels.tsa.vector_ar.var_model import VAR\n",
    "from statsmodels.tsa.vector_ar.svar_model import SVAR\n",
    "from statsmodels.tsa.ar_model import ar_select_order\n",
    "from statsmodels.tsa.vector_ar.vecm import select_order\n",
    "\n",
    "from statsmodels.iolib.summary2 import summary_col"
   ]
  },
  {
   "cell_type": "code",
   "execution_count": 5,
   "id": "f5e34ed2-ee95-4549-aa18-5ad55d2d0cee",
   "metadata": {},
   "outputs": [],
   "source": [
    "from statsmodels.tsa.vector_ar.var_model import VAR\n",
    "from statsmodels.tsa.vector_ar.vecm import VECM, select_coint_rank, select_order\n",
    "from statsmodels.tsa.stattools import adfuller"
   ]
  },
  {
   "cell_type": "code",
   "execution_count": 8,
   "id": "85ef6d0e-e38c-49f4-a203-d8e9ebbd0634",
   "metadata": {},
   "outputs": [],
   "source": [
    "df_micro = load_pd_df(\"df_analysis_micro.feather\")"
   ]
  },
  {
   "cell_type": "code",
   "execution_count": 9,
   "id": "24c2a925-13ef-4816-9c64-7b97614b7afa",
   "metadata": {},
   "outputs": [],
   "source": [
    "DICT_PARSE_COLS.update(\n",
    "    {\n",
    "        'T_pca_sum': float,\n",
    "        'T_pca_sum_diff': float,\n",
    "        'pi_de_surprise_Y': float,\n",
    "        'pi_de_estimate_Y': float,\n",
    "        'delta_pe_error': float,\n",
    "        'hhinc_midpoint': 'categoryO',\n",
    "    }\n",
    ")"
   ]
  },
  {
   "cell_type": "code",
   "execution_count": 10,
   "id": "75f25705-3295-4bc4-9b3f-5911d4a856fe",
   "metadata": {},
   "outputs": [],
   "source": [
    "df_micro = pd_df_astype(df_micro, DICT_PARSE_COLS)"
   ]
  },
  {
   "cell_type": "markdown",
   "id": "65fa0fde-1991-43b6-82d8-f5039d3519f0",
   "metadata": {},
   "source": [
    "## panel structure sparsity and distance analysis"
   ]
  },
  {
   "cell_type": "code",
   "execution_count": 11,
   "id": "3764a469-6e1f-4c3d-870e-c0869b7f3bbd",
   "metadata": {},
   "outputs": [
    {
     "data": {
      "text/plain": [
       "377"
      ]
     },
     "execution_count": 11,
     "metadata": {},
     "output_type": "execute_result"
    }
   ],
   "source": [
    "ind_cols = ['id', 'week_recorded']\n",
    "sub = df[['pi_perc'] + ind_cols].copy().reset_index(drop=True).drop_duplicates()\n",
    "\n",
    "filt = sub.groupby(ind_cols).pi_perc.last().unstack().count(axis=1) > 7\n",
    "sub = sub.loc[sub.id.isin(list(filt[filt].index))].set_index(ind_cols).sort_index()\n",
    "sub = sub.dropna()\n",
    "filt.sum()"
   ]
  },
  {
   "cell_type": "code",
   "execution_count": 12,
   "id": "0f18cad8-11c3-4214-bece-e3ffda2e72b2",
   "metadata": {},
   "outputs": [
    {
     "ename": "KeyError",
     "evalue": "\"Columns not found: 'pi_perc_error'\"",
     "output_type": "error",
     "traceback": [
      "\u001b[1;31m---------------------------------------------------------------------------\u001b[0m",
      "\u001b[1;31mKeyError\u001b[0m                                  Traceback (most recent call last)",
      "Cell \u001b[1;32mIn [12], line 1\u001b[0m\n\u001b[1;32m----> 1\u001b[0m dist \u001b[38;5;241m=\u001b[39m \u001b[43mdf\u001b[49m\u001b[38;5;241;43m.\u001b[39;49m\u001b[43mgroupby\u001b[49m\u001b[43m(\u001b[49m\u001b[38;5;124;43m'\u001b[39;49m\u001b[38;5;124;43mid\u001b[39;49m\u001b[38;5;124;43m'\u001b[39;49m\u001b[43m)\u001b[49m\u001b[43m[\u001b[49m\n\u001b[0;32m      2\u001b[0m \u001b[43m    \u001b[49m\u001b[43m[\u001b[49m\u001b[38;5;124;43m'\u001b[39;49m\u001b[38;5;124;43mhhinc_midpoint\u001b[39;49m\u001b[38;5;124;43m'\u001b[39;49m\u001b[43m,\u001b[49m\u001b[43m \u001b[49m\u001b[38;5;124;43m'\u001b[39;49m\u001b[38;5;124;43mpi_perc_error\u001b[39;49m\u001b[38;5;124;43m'\u001b[39;49m\u001b[43m,\u001b[49m\u001b[43m \u001b[49m\u001b[38;5;124;43m'\u001b[39;49m\u001b[38;5;124;43mdebt\u001b[39;49m\u001b[38;5;124;43m'\u001b[39;49m\u001b[43m,\u001b[49m\u001b[43m \u001b[49m\u001b[38;5;124;43m'\u001b[39;49m\u001b[38;5;124;43mwealth_bank\u001b[39;49m\u001b[38;5;124;43m'\u001b[39;49m\u001b[43m,\u001b[49m\u001b[43m \u001b[49m\u001b[38;5;124;43m'\u001b[39;49m\u001b[38;5;124;43msavings_planned\u001b[39;49m\u001b[38;5;124;43m'\u001b[39;49m\u001b[43m,\u001b[49m\u001b[43m \u001b[49m\u001b[38;5;124;43m'\u001b[39;49m\u001b[38;5;124;43meduschool\u001b[39;49m\u001b[38;5;124;43m'\u001b[39;49m\u001b[43m,\u001b[49m\u001b[43m \u001b[49m\u001b[38;5;124;43m'\u001b[39;49m\u001b[38;5;124;43mhhsize\u001b[39;49m\u001b[38;5;124;43m'\u001b[39;49m\u001b[43m,\u001b[49m\u001b[43m \u001b[49m\u001b[38;5;124;43m'\u001b[39;49m\u001b[38;5;124;43mecbtrust\u001b[39;49m\u001b[38;5;124;43m'\u001b[39;49m\u001b[43m]\u001b[49m\n\u001b[0;32m      3\u001b[0m \u001b[43m                       \u001b[49m\u001b[43m]\u001b[49m\u001b[38;5;241m.\u001b[39mlast()\u001b[38;5;241m.\u001b[39mastype(\u001b[38;5;28mfloat\u001b[39m)\n\u001b[0;32m      5\u001b[0m dist \u001b[38;5;241m=\u001b[39m dist\u001b[38;5;241m.\u001b[39mloc[sub\u001b[38;5;241m.\u001b[39mindex\u001b[38;5;241m.\u001b[39mget_level_values(\u001b[38;5;241m0\u001b[39m)]\n\u001b[0;32m      6\u001b[0m dist \u001b[38;5;241m=\u001b[39m dist\u001b[38;5;241m.\u001b[39mloc[\u001b[38;5;241m~\u001b[39mdist\u001b[38;5;241m.\u001b[39mindex\u001b[38;5;241m.\u001b[39mduplicated()]\n",
      "File \u001b[1;32m~\\miniforge3\\envs\\mamba_env_memoire2\\Lib\\site-packages\\pandas\\core\\groupby\\generic.py:1951\u001b[0m, in \u001b[0;36mDataFrameGroupBy.__getitem__\u001b[1;34m(self, key)\u001b[0m\n\u001b[0;32m   1944\u001b[0m \u001b[38;5;28;01mif\u001b[39;00m \u001b[38;5;28misinstance\u001b[39m(key, \u001b[38;5;28mtuple\u001b[39m) \u001b[38;5;129;01mand\u001b[39;00m \u001b[38;5;28mlen\u001b[39m(key) \u001b[38;5;241m>\u001b[39m \u001b[38;5;241m1\u001b[39m:\n\u001b[0;32m   1945\u001b[0m     \u001b[38;5;66;03m# if len == 1, then it becomes a SeriesGroupBy and this is actually\u001b[39;00m\n\u001b[0;32m   1946\u001b[0m     \u001b[38;5;66;03m# valid syntax, so don't raise\u001b[39;00m\n\u001b[0;32m   1947\u001b[0m     \u001b[38;5;28;01mraise\u001b[39;00m \u001b[38;5;167;01mValueError\u001b[39;00m(\n\u001b[0;32m   1948\u001b[0m         \u001b[38;5;124m\"\u001b[39m\u001b[38;5;124mCannot subset columns with a tuple with more than one element. \u001b[39m\u001b[38;5;124m\"\u001b[39m\n\u001b[0;32m   1949\u001b[0m         \u001b[38;5;124m\"\u001b[39m\u001b[38;5;124mUse a list instead.\u001b[39m\u001b[38;5;124m\"\u001b[39m\n\u001b[0;32m   1950\u001b[0m     )\n\u001b[1;32m-> 1951\u001b[0m \u001b[38;5;28;01mreturn\u001b[39;00m \u001b[38;5;28;43msuper\u001b[39;49m\u001b[43m(\u001b[49m\u001b[43m)\u001b[49m\u001b[38;5;241;43m.\u001b[39;49m\u001b[38;5;21;43m__getitem__\u001b[39;49m\u001b[43m(\u001b[49m\u001b[43mkey\u001b[49m\u001b[43m)\u001b[49m\n",
      "File \u001b[1;32m~\\miniforge3\\envs\\mamba_env_memoire2\\Lib\\site-packages\\pandas\\core\\base.py:239\u001b[0m, in \u001b[0;36mSelectionMixin.__getitem__\u001b[1;34m(self, key)\u001b[0m\n\u001b[0;32m    237\u001b[0m     \u001b[38;5;28;01mif\u001b[39;00m \u001b[38;5;28mlen\u001b[39m(\u001b[38;5;28mself\u001b[39m\u001b[38;5;241m.\u001b[39mobj\u001b[38;5;241m.\u001b[39mcolumns\u001b[38;5;241m.\u001b[39mintersection(key)) \u001b[38;5;241m!=\u001b[39m \u001b[38;5;28mlen\u001b[39m(\u001b[38;5;28mset\u001b[39m(key)):\n\u001b[0;32m    238\u001b[0m         bad_keys \u001b[38;5;241m=\u001b[39m \u001b[38;5;28mlist\u001b[39m(\u001b[38;5;28mset\u001b[39m(key)\u001b[38;5;241m.\u001b[39mdifference(\u001b[38;5;28mself\u001b[39m\u001b[38;5;241m.\u001b[39mobj\u001b[38;5;241m.\u001b[39mcolumns))\n\u001b[1;32m--> 239\u001b[0m         \u001b[38;5;28;01mraise\u001b[39;00m \u001b[38;5;167;01mKeyError\u001b[39;00m(\u001b[38;5;124mf\u001b[39m\u001b[38;5;124m\"\u001b[39m\u001b[38;5;124mColumns not found: \u001b[39m\u001b[38;5;132;01m{\u001b[39;00m\u001b[38;5;28mstr\u001b[39m(bad_keys)[\u001b[38;5;241m1\u001b[39m:\u001b[38;5;241m-\u001b[39m\u001b[38;5;241m1\u001b[39m]\u001b[38;5;132;01m}\u001b[39;00m\u001b[38;5;124m\"\u001b[39m)\n\u001b[0;32m    240\u001b[0m     \u001b[38;5;28;01mreturn\u001b[39;00m \u001b[38;5;28mself\u001b[39m\u001b[38;5;241m.\u001b[39m_gotitem(\u001b[38;5;28mlist\u001b[39m(key), ndim\u001b[38;5;241m=\u001b[39m\u001b[38;5;241m2\u001b[39m)\n\u001b[0;32m    242\u001b[0m \u001b[38;5;28;01melse\u001b[39;00m:\n",
      "\u001b[1;31mKeyError\u001b[0m: \"Columns not found: 'pi_perc_error'\""
     ]
    }
   ],
   "source": [
    "dist = df.groupby('id')[\n",
    "    ['hhinc_midpoint', 'pi_perc_error', 'debt', 'wealth_bank', 'savings_planned', 'eduschool', 'hhsize', 'ecbtrust']\n",
    "                       ].last().astype(float)\n",
    "\n",
    "dist = dist.loc[sub.index.get_level_values(0)]\n",
    "dist = dist.loc[~dist.index.duplicated()]\n",
    "dist = scipy.spatial.distance.cdist(dist, dist)\n",
    "\n",
    "dist[np.isnan(dist)] = np.array(list([0] * np.isnan(dist).sum()))\n",
    "dist = dist.mean(axis=0)"
   ]
  },
  {
   "cell_type": "code",
   "execution_count": null,
   "id": "1e20a3fb-2ba4-4a94-b862-682943cddb7c",
   "metadata": {},
   "outputs": [],
   "source": [
    "A = ~sub.unstack().isna()\n",
    "A = (A * ((dist - dist.min()) / (dist.max() - dist.min()))[:, None]).replace({0: np.nan})\n",
    "A.columns = A.columns.get_level_values(1)\n",
    "\n",
    "# fig = plt.figure(figsize=(16,5))\n",
    "fig, ax = get_fig_subplots()\n",
    "fig.suptitle('Distribution of respondents over time, Euclidean distance from mean respondent in shades')\n",
    "fig.tight_layout()\n",
    "sns.heatmap(A, xticklabels=False, yticklabels=False, ax=ax, cmap='winter')\n",
    "save_fig(fig, \"pols_dist_matrix.png\")"
   ]
  },
  {
   "cell_type": "markdown",
   "id": "b32ee543-0ac9-464b-91b2-b607a6a903d3",
   "metadata": {},
   "source": [
    "## POLS: How do news affect inflation perception on an individual level?"
   ]
  },
  {
   "cell_type": "markdown",
   "id": "d8c42828-410b-4108-95d1-1918428c912d",
   "metadata": {},
   "source": [
    "Investigate the effect of news $N_t$ on inflation perception $\\pi^p_{i,t}$:\n",
    "$$ \\pi^p_{i,t} = \\alpha_i + \\beta N_t + \\gamma X_{i,t} + \\epsilon_{i,t} $$"
   ]
  },
  {
   "cell_type": "code",
   "execution_count": 15,
   "id": "1721df69-84c9-40c8-a984-2bce8476a698",
   "metadata": {},
   "outputs": [],
   "source": [
    "cols = ['T_sum_diff_lag', 'hhinc_midpoint', 'pi_de_surprise_Y', 'pi_de_estimate_Y', 'is_unempl',]  #'debt',]\n",
    "ind_cols = ['id', 'week_recorded']\n",
    "dep_col = ['pi_perc']"
   ]
  },
  {
   "cell_type": "code",
   "execution_count": 16,
   "id": "c7a14284-d24c-479e-88af-022f4a80cdc5",
   "metadata": {},
   "outputs": [
    {
     "data": {
      "text/plain": [
       "((2960, 6), 473)"
      ]
     },
     "execution_count": 16,
     "metadata": {},
     "output_type": "execute_result"
    }
   ],
   "source": [
    "sub = df_micro[ind_cols + cols + dep_col].copy().reset_index(drop=True)\n",
    "filt = sub.groupby(ind_cols)[dep_col + cols].last()\n",
    "filt = filt.dropna().reset_index().groupby('id').count().min(axis=1) > 5\n",
    "sub = sub.loc[sub.id.isin(set(filt[filt].index))].set_index(ind_cols).sort_index().dropna()\n",
    "sub = pd_df_astype(sub)\n",
    "\n",
    "sub.shape, filt.sum()"
   ]
  },
  {
   "cell_type": "code",
   "execution_count": 17,
   "id": "3fc4394b-8bd9-468b-aecb-b72039d77a21",
   "metadata": {},
   "outputs": [],
   "source": [
    "m_fe1 = PanelOLS(sub[dep_col], sub[cols], entity_effects=True, ).fit(cov_type='clustered', cluster_entity=True)\n",
    "m_re = RandomEffects(sub[dep_col], sub[cols]).fit()"
   ]
  },
  {
   "cell_type": "code",
   "execution_count": 18,
   "id": "e6a8ef53-512c-424d-b327-c4449cfc5d34",
   "metadata": {},
   "outputs": [
    {
     "name": "stderr",
     "output_type": "stream",
     "text": [
      "C:\\Users\\LukasGrahl\\AppData\\Local\\Temp\\ipykernel_3404\\3742255664.py:4: AbsorbingEffectWarning: \n",
      "Variables have been fully absorbed and have removed from the regression:\n",
      "\n",
      "hhinc_midpoint.12000.0\n",
      "\n",
      "  entity_effects=True, drop_absorbed=True, check_rank=False).fit(cov_type=\"clustered\", cluster_entity=True)\n"
     ]
    }
   ],
   "source": [
    "dist, filt = get_cooks_distance(sub[cols].values.astype(float), m_fe1.resids.values, flt_largest_perc=90.)\n",
    "sub2 = sub.drop(sub.loc[filt].index.get_level_values(0))\n",
    "m_fe12 = PanelOLS(sub2[dep_col], sub2[cols],\n",
    "                   entity_effects=True, drop_absorbed=True, check_rank=False).fit(cov_type=\"clustered\", cluster_entity=True)"
   ]
  },
  {
   "cell_type": "code",
   "execution_count": 19,
   "id": "0753e6d9-307a-40de-8c9c-f9bdabf8cafa",
   "metadata": {},
   "outputs": [
    {
     "data": {
      "text/html": [
       "<div>\n",
       "<style scoped>\n",
       "    .dataframe tbody tr th:only-of-type {\n",
       "        vertical-align: middle;\n",
       "    }\n",
       "\n",
       "    .dataframe tbody tr th {\n",
       "        vertical-align: top;\n",
       "    }\n",
       "\n",
       "    .dataframe thead tr th {\n",
       "        text-align: left;\n",
       "    }\n",
       "</style>\n",
       "<table border=\"1\" class=\"dataframe\">\n",
       "  <thead>\n",
       "    <tr>\n",
       "      <th></th>\n",
       "      <th colspan=\"2\" halign=\"left\">print</th>\n",
       "    </tr>\n",
       "    <tr>\n",
       "      <th></th>\n",
       "      <th>pi_perc</th>\n",
       "      <th>pi_perc_1</th>\n",
       "    </tr>\n",
       "  </thead>\n",
       "  <tbody>\n",
       "    <tr>\n",
       "      <th>T_sum_diff_lag</th>\n",
       "      <td>-0.287 *** [-3.86]</td>\n",
       "      <td>-0.128 ** [-2.166]</td>\n",
       "    </tr>\n",
       "    <tr>\n",
       "      <th>hhinc_midpoint.2250.0</th>\n",
       "      <td>-0.01  [-0.679]</td>\n",
       "      <td>-0.024 ** [-1.969]</td>\n",
       "    </tr>\n",
       "    <tr>\n",
       "      <th>is_unempl</th>\n",
       "      <td>-0.007  [-0.735]</td>\n",
       "      <td>-0.008 ** [-2.292]</td>\n",
       "    </tr>\n",
       "    <tr>\n",
       "      <th>pi_de_estimate_Y</th>\n",
       "      <td>1.619 *** [46.332]</td>\n",
       "      <td>1.707 *** [64.431]</td>\n",
       "    </tr>\n",
       "    <tr>\n",
       "      <th>pi_de_surprise_Y</th>\n",
       "      <td>-0.648 *** [-18.329]</td>\n",
       "      <td>-0.65 *** [-26.529]</td>\n",
       "    </tr>\n",
       "    <tr>\n",
       "      <th>N</th>\n",
       "      <td>2960.0</td>\n",
       "      <td>1797.0</td>\n",
       "    </tr>\n",
       "    <tr>\n",
       "      <th>R^2</th>\n",
       "      <td>0.496</td>\n",
       "      <td>0.742</td>\n",
       "    </tr>\n",
       "    <tr>\n",
       "      <th>R^2 between</th>\n",
       "      <td>0.793</td>\n",
       "      <td>0.671</td>\n",
       "    </tr>\n",
       "  </tbody>\n",
       "</table>\n",
       "</div>"
      ],
      "text/plain": [
       "                                      print                     \n",
       "                                    pi_perc            pi_perc_1\n",
       "T_sum_diff_lag           -0.287 *** [-3.86]   -0.128 ** [-2.166]\n",
       "hhinc_midpoint.2250.0       -0.01  [-0.679]   -0.024 ** [-1.969]\n",
       "is_unempl                  -0.007  [-0.735]   -0.008 ** [-2.292]\n",
       "pi_de_estimate_Y         1.619 *** [46.332]   1.707 *** [64.431]\n",
       "pi_de_surprise_Y       -0.648 *** [-18.329]  -0.65 *** [-26.529]\n",
       "N                                    2960.0               1797.0\n",
       "R^2                                   0.496                0.742\n",
       "R^2 between                           0.793                0.671"
      ]
     },
     "execution_count": 19,
     "metadata": {},
     "output_type": "execute_result"
    }
   ],
   "source": [
    "out = get_statsmodels_summary([m_fe1, m_fe12], ['print'], seperator=\" \", is_filt_sig=True)\n",
    "out"
   ]
  },
  {
   "cell_type": "code",
   "execution_count": 20,
   "id": "708db4fc-27eb-4e3a-9913-821d6320dbb6",
   "metadata": {},
   "outputs": [],
   "source": [
    "# plt.scatter(m_fe.predict().values, m_fe.resids.values)"
   ]
  },
  {
   "cell_type": "code",
   "execution_count": 21,
   "id": "d271fe03-3388-4e62-905c-ab54fc10772d",
   "metadata": {},
   "outputs": [
    {
     "name": "stdout",
     "output_type": "stream",
     "text": [
      "{'LM-Stat': 9.731528055959817, 'LM p-val': 0.08320964876006931, 'F-Stat': 1.9487673173256976, 'F p-val': 0.08317198492149712}\n"
     ]
    }
   ],
   "source": [
    "# H0: Homoscedasticity is present\n",
    "_ = sm.add_constant(pd.concat([m_fe1.resids, sub[cols]], axis=1))\n",
    "labels = ['LM-Stat', 'LM p-val', 'F-Stat', 'F p-val'] \n",
    "print(dict(zip(labels, het_breuschpagan(_[['residual']], _.drop('residual', axis=1)))))"
   ]
  },
  {
   "cell_type": "code",
   "execution_count": 22,
   "id": "f37f839f-f58b-4d1a-93ea-a3ce1606ad94",
   "metadata": {},
   "outputs": [
    {
     "name": "stdout",
     "output_type": "stream",
     "text": [
      "2.0038560253492794\n"
     ]
    }
   ],
   "source": [
    "durbin_watson_test_results = durbin_watson(m_fe1.resids) \n",
    "print(durbin_watson_test_results)"
   ]
  },
  {
   "cell_type": "code",
   "execution_count": 23,
   "id": "6e81bb1d-c824-4737-b40c-ad7d8e3e58e8",
   "metadata": {},
   "outputs": [
    {
     "name": "stdout",
     "output_type": "stream",
     "text": [
      "chi-Squared: 14.719913142667025\n",
      "degrees of freedom: 16\n",
      "p-Value: 0.545240206035982\n"
     ]
    }
   ],
   "source": [
    "# H0: RE is to be preferred\n",
    "hausman_results = hausman(m_fe1, m_re)\n",
    "print('chi-Squared: ' + str(hausman_results[0]))\n",
    "print('degrees of freedom: ' + str(hausman_results[1]))\n",
    "print('p-Value: ' + str(hausman_results[2]))"
   ]
  },
  {
   "cell_type": "markdown",
   "id": "727a7def-bebb-42c3-9eaf-4e86294e714c",
   "metadata": {},
   "source": [
    "# Exp 2"
   ]
  },
  {
   "cell_type": "markdown",
   "id": "f807d4ce-faec-4f19-b775-4915c6cc1cb6",
   "metadata": {},
   "source": [
    "Influence of news on future change in inflation $\\pi^e_{i,t} - \\pi^p_{i,t}$\n",
    "$$ \\pi^e_{i,t} - \\pi^p_{i,t} = \\alpha_i + \\beta N_t + \\gamma X_{i,t} + \\epsilon_{i,t} $$"
   ]
  },
  {
   "cell_type": "code",
   "execution_count": 24,
   "id": "75192424-cd5e-45b5-9698-47500c6a520d",
   "metadata": {},
   "outputs": [],
   "source": [
    "cols = ['T_sum_diff_lag', 'hhinc_midpoint', 'pi_de_surprise_Y', 'pi_de_estimate_Y', 'debt', 'is_unempl', 'wealth_bank',]  #'debt',]\n",
    "ind_cols = ['id', 'week_recorded']\n",
    "dep_col = ['delta_pe']"
   ]
  },
  {
   "cell_type": "code",
   "execution_count": 25,
   "id": "5243ddbd-e6f8-43a5-b53b-9a0e9f388498",
   "metadata": {},
   "outputs": [
    {
     "data": {
      "text/plain": [
       "((2982, 8), 715)"
      ]
     },
     "execution_count": 25,
     "metadata": {},
     "output_type": "execute_result"
    }
   ],
   "source": [
    "sub = df_micro[ind_cols + cols + dep_col].copy().reset_index(drop=True)\n",
    "filt = sub.groupby(ind_cols)[dep_col + cols].last()\n",
    "filt = filt.dropna().reset_index().groupby('id').count().min(axis=1) > 3\n",
    "sub = sub.loc[sub.id.isin(set(filt[filt].index))].set_index(ind_cols).sort_index().dropna()\n",
    "sub = pd_df_astype(sub)\n",
    "sub.shape, filt.sum()"
   ]
  },
  {
   "cell_type": "code",
   "execution_count": 26,
   "id": "87ddecb8-f7c7-4365-8579-35367492fca5",
   "metadata": {},
   "outputs": [],
   "source": [
    "m_fe2 = PanelOLS(sub[dep_col], sub[cols], entity_effects=True).fit(cov_type='clustered', cluster_entity=True)\n",
    "m_re = RandomEffects(sub[dep_col], sub[cols]).fit()\n",
    "# print(m_fe2)"
   ]
  },
  {
   "cell_type": "code",
   "execution_count": 27,
   "id": "691facec-b79e-4f87-8079-d54b7f0689af",
   "metadata": {},
   "outputs": [
    {
     "name": "stderr",
     "output_type": "stream",
     "text": [
      "C:\\Users\\LukasGrahl\\AppData\\Local\\Temp\\ipykernel_3404\\3177373305.py:4: AbsorbingEffectWarning: \n",
      "Variables have been fully absorbed and have removed from the regression:\n",
      "\n",
      "debt.9.0\n",
      "\n",
      "  entity_effects=True, drop_absorbed=True, check_rank=False).fit(cov_type=\"clustered\", cluster_entity=True)\n"
     ]
    }
   ],
   "source": [
    "dist, filt = get_cooks_distance(sub[cols].values.astype(float), m_fe2.resids.values, flt_largest_perc=80.)\n",
    "sub2 = sub.drop(sub.loc[filt].index.get_level_values(0))\n",
    "m_fe22 = PanelOLS(sub2[dep_col], sub2[cols],\n",
    "                   entity_effects=True, drop_absorbed=True, check_rank=False).fit(cov_type=\"clustered\", cluster_entity=True)"
   ]
  },
  {
   "cell_type": "code",
   "execution_count": 28,
   "id": "09f2c6dc-28ee-4e68-b1a2-f985b9ffb22e",
   "metadata": {},
   "outputs": [
    {
     "data": {
      "text/html": [
       "<div>\n",
       "<style scoped>\n",
       "    .dataframe tbody tr th:only-of-type {\n",
       "        vertical-align: middle;\n",
       "    }\n",
       "\n",
       "    .dataframe tbody tr th {\n",
       "        vertical-align: top;\n",
       "    }\n",
       "\n",
       "    .dataframe thead tr th {\n",
       "        text-align: left;\n",
       "    }\n",
       "</style>\n",
       "<table border=\"1\" class=\"dataframe\">\n",
       "  <thead>\n",
       "    <tr>\n",
       "      <th></th>\n",
       "      <th colspan=\"2\" halign=\"left\">print</th>\n",
       "    </tr>\n",
       "    <tr>\n",
       "      <th></th>\n",
       "      <th>delta_pe</th>\n",
       "      <th>delta_pe_1</th>\n",
       "    </tr>\n",
       "  </thead>\n",
       "  <tbody>\n",
       "    <tr>\n",
       "      <th>hhinc_midpoint.2750.0</th>\n",
       "      <td>0.009 ** [2.452]</td>\n",
       "      <td>0.009 *** [8.838]</td>\n",
       "    </tr>\n",
       "    <tr>\n",
       "      <th>is_unempl</th>\n",
       "      <td>-0.004 ** [-2.202]</td>\n",
       "      <td>-0.004 *** [-3.118]</td>\n",
       "    </tr>\n",
       "    <tr>\n",
       "      <th>hhinc_midpoint.9000.0</th>\n",
       "      <td>0.011 *** [2.659]</td>\n",
       "      <td>0.011 *** [6.391]</td>\n",
       "    </tr>\n",
       "    <tr>\n",
       "      <th>hhinc_midpoint.750.0</th>\n",
       "      <td>0.007 * [1.88]</td>\n",
       "      <td>0.014 *** [5.621]</td>\n",
       "    </tr>\n",
       "    <tr>\n",
       "      <th>hhinc_midpoint.7000.0</th>\n",
       "      <td>0.011 *** [2.965]</td>\n",
       "      <td>0.011 *** [6.98]</td>\n",
       "    </tr>\n",
       "    <tr>\n",
       "      <th>hhinc_midpoint.5500.0</th>\n",
       "      <td>0.01 *** [2.764]</td>\n",
       "      <td>0.011 *** [7.304]</td>\n",
       "    </tr>\n",
       "    <tr>\n",
       "      <th>hhinc_midpoint.4250.0</th>\n",
       "      <td>0.011 *** [2.953]</td>\n",
       "      <td>0.011 *** [9.04]</td>\n",
       "    </tr>\n",
       "    <tr>\n",
       "      <th>hhinc_midpoint.3750.0</th>\n",
       "      <td>0.009 ** [2.559]</td>\n",
       "      <td>0.01 *** [8.028]</td>\n",
       "    </tr>\n",
       "    <tr>\n",
       "      <th>hhinc_midpoint.3250.0</th>\n",
       "      <td>0.011 *** [2.959]</td>\n",
       "      <td>0.011 *** [9.887]</td>\n",
       "    </tr>\n",
       "    <tr>\n",
       "      <th>pi_de_estimate_Y</th>\n",
       "      <td>0.706 *** [79.958]</td>\n",
       "      <td>0.759 *** [67.353]</td>\n",
       "    </tr>\n",
       "    <tr>\n",
       "      <th>pi_de_surprise_Y</th>\n",
       "      <td>-0.756 *** [-104.121]</td>\n",
       "      <td>-0.797 *** [-89.998]</td>\n",
       "    </tr>\n",
       "    <tr>\n",
       "      <th>hhinc_midpoint.1750.0</th>\n",
       "      <td>0.008 ** [2.343]</td>\n",
       "      <td>0.011 *** [10.79]</td>\n",
       "    </tr>\n",
       "    <tr>\n",
       "      <th>hhinc_midpoint.1250.0</th>\n",
       "      <td>0.009 ** [2.446]</td>\n",
       "      <td>0.012 *** [12.125]</td>\n",
       "    </tr>\n",
       "    <tr>\n",
       "      <th>hhinc_midpoint.12000.0</th>\n",
       "      <td>0.01 ** [2.12]</td>\n",
       "      <td>0.006 *** [3.723]</td>\n",
       "    </tr>\n",
       "    <tr>\n",
       "      <th>debt.8.0</th>\n",
       "      <td>0.001  [0.893]</td>\n",
       "      <td>0.004 *** [2.662]</td>\n",
       "    </tr>\n",
       "    <tr>\n",
       "      <th>debt.4.0</th>\n",
       "      <td>-0.002 ** [-2.211]</td>\n",
       "      <td>-0.001  [-1.31]</td>\n",
       "    </tr>\n",
       "    <tr>\n",
       "      <th>T_sum_diff_lag</th>\n",
       "      <td>2.217 *** [37.911]</td>\n",
       "      <td>2.536 *** [33.03]</td>\n",
       "    </tr>\n",
       "    <tr>\n",
       "      <th>hhinc_midpoint.2250.0</th>\n",
       "      <td>0.008 ** [2.336]</td>\n",
       "      <td>0.009 *** [11.202]</td>\n",
       "    </tr>\n",
       "    <tr>\n",
       "      <th>R^2 between</th>\n",
       "      <td>-5.578</td>\n",
       "      <td>-6.771</td>\n",
       "    </tr>\n",
       "    <tr>\n",
       "      <th>R^2</th>\n",
       "      <td>0.785</td>\n",
       "      <td>0.898</td>\n",
       "    </tr>\n",
       "    <tr>\n",
       "      <th>N</th>\n",
       "      <td>2982.0</td>\n",
       "      <td>1275.0</td>\n",
       "    </tr>\n",
       "  </tbody>\n",
       "</table>\n",
       "</div>"
      ],
      "text/plain": [
       "                                        print                      \n",
       "                                     delta_pe            delta_pe_1\n",
       "hhinc_midpoint.2750.0        0.009 ** [2.452]     0.009 *** [8.838]\n",
       "is_unempl                  -0.004 ** [-2.202]   -0.004 *** [-3.118]\n",
       "hhinc_midpoint.9000.0       0.011 *** [2.659]     0.011 *** [6.391]\n",
       "hhinc_midpoint.750.0           0.007 * [1.88]     0.014 *** [5.621]\n",
       "hhinc_midpoint.7000.0       0.011 *** [2.965]      0.011 *** [6.98]\n",
       "hhinc_midpoint.5500.0        0.01 *** [2.764]     0.011 *** [7.304]\n",
       "hhinc_midpoint.4250.0       0.011 *** [2.953]      0.011 *** [9.04]\n",
       "hhinc_midpoint.3750.0        0.009 ** [2.559]      0.01 *** [8.028]\n",
       "hhinc_midpoint.3250.0       0.011 *** [2.959]     0.011 *** [9.887]\n",
       "pi_de_estimate_Y           0.706 *** [79.958]    0.759 *** [67.353]\n",
       "pi_de_surprise_Y        -0.756 *** [-104.121]  -0.797 *** [-89.998]\n",
       "hhinc_midpoint.1750.0        0.008 ** [2.343]     0.011 *** [10.79]\n",
       "hhinc_midpoint.1250.0        0.009 ** [2.446]    0.012 *** [12.125]\n",
       "hhinc_midpoint.12000.0         0.01 ** [2.12]     0.006 *** [3.723]\n",
       "debt.8.0                       0.001  [0.893]     0.004 *** [2.662]\n",
       "debt.4.0                   -0.002 ** [-2.211]       -0.001  [-1.31]\n",
       "T_sum_diff_lag             2.217 *** [37.911]     2.536 *** [33.03]\n",
       "hhinc_midpoint.2250.0        0.008 ** [2.336]    0.009 *** [11.202]\n",
       "R^2 between                            -5.578                -6.771\n",
       "R^2                                     0.785                 0.898\n",
       "N                                      2982.0                1275.0"
      ]
     },
     "execution_count": 28,
     "metadata": {},
     "output_type": "execute_result"
    }
   ],
   "source": [
    "get_statsmodels_summary([m_fe2, m_fe22], ['print'], seperator=\" \", is_filt_sig=True)"
   ]
  },
  {
   "cell_type": "code",
   "execution_count": 29,
   "id": "e073b524-8770-4e2c-8216-01f0012c0c8d",
   "metadata": {},
   "outputs": [
    {
     "name": "stdout",
     "output_type": "stream",
     "text": [
      "{'LM-Stat': 43.181886376026625, 'LM p-val': 3.076435191493403e-07, 'F-Stat': 6.242690823174869, 'F p-val': 2.77045765767781e-07}\n"
     ]
    }
   ],
   "source": [
    "# H0: Homoscedasticity is present\n",
    "_ = sm.add_constant(pd.concat([m_fe2.resids, sub[cols]], axis=1))\n",
    "labels = ['LM-Stat', 'LM p-val', 'F-Stat', 'F p-val'] \n",
    "print(dict(zip(labels, het_breuschpagan(_[['residual']], _.drop('residual', axis=1)))))"
   ]
  },
  {
   "cell_type": "code",
   "execution_count": 30,
   "id": "42aa8a20-9313-4df3-b0e1-2bb10ed29f13",
   "metadata": {},
   "outputs": [
    {
     "name": "stdout",
     "output_type": "stream",
     "text": [
      "2.3842923018574034\n"
     ]
    }
   ],
   "source": [
    "durbin_watson_test_results = durbin_watson(m_fe2.resids) \n",
    "print(durbin_watson_test_results)"
   ]
  },
  {
   "cell_type": "code",
   "execution_count": 31,
   "id": "8cd9ba43-bc1c-4616-92e3-f28676e8ee1b",
   "metadata": {},
   "outputs": [
    {
     "name": "stdout",
     "output_type": "stream",
     "text": [
      "chi-Squared: 41.04889561436247\n",
      "degrees of freedom: 34\n",
      "p-Value: 0.18898709599459806\n"
     ]
    }
   ],
   "source": [
    "# H0: RE is to be preferred\n",
    "hausman_results = hausman(m_fe2, m_re)\n",
    "print('chi-Squared: ' + str(hausman_results[0]))\n",
    "print('degrees of freedom: ' + str(hausman_results[1]))\n",
    "print('p-Value: ' + str(hausman_results[2]))"
   ]
  },
  {
   "cell_type": "markdown",
   "id": "61280b9b-2b8a-4502-a481-2f597d362ad8",
   "metadata": {},
   "source": [
    "# Exp 3"
   ]
  },
  {
   "cell_type": "markdown",
   "id": "cc2aa14a-8029-46f3-8cba-6fb7760e7772",
   "metadata": {},
   "source": [
    "Influence of news on expectation:\n",
    "$$ \\pi^e_{i,t} = \\alpha_i + \\beta N_t + \\gamma X_{i,t} + \\epsilon_{i,t} $$"
   ]
  },
  {
   "cell_type": "code",
   "execution_count": 32,
   "id": "fe357ff2-32cf-40e6-aaad-dcf6293d2e1f",
   "metadata": {},
   "outputs": [],
   "source": [
    "# cols = ['T_sum_diff_lag', 'hhinc_midpoint', 'pi_de_Y',]# 'debt',] # 'is_unempl', ] #'wealth_bank'] #, 'eduwork']\n",
    "cols = ['T_sum_diff_lag', 'hhinc_midpoint', 'pi_de_surprise_Y', 'pi_de_estimate_Y', ]\n",
    "ind_cols = ['id', 'week_recorded']\n",
    "dep_col = ['pi_exp']"
   ]
  },
  {
   "cell_type": "code",
   "execution_count": 33,
   "id": "87429a69-41ae-4571-9e41-778a812db339",
   "metadata": {},
   "outputs": [
    {
     "data": {
      "text/plain": [
       "((29619, 5), 4300)"
      ]
     },
     "execution_count": 33,
     "metadata": {},
     "output_type": "execute_result"
    }
   ],
   "source": [
    "sub = df_micro[ind_cols + cols + dep_col].copy().reset_index(drop=True)\n",
    "filt = sub.groupby(ind_cols)[dep_col + cols].last()\n",
    "filt = filt.dropna().reset_index().groupby('id').count().min(axis=1) > 5\n",
    "sub = sub.loc[sub.id.isin(set(filt[filt].index))].set_index(ind_cols).sort_index().dropna()\n",
    "sub = pd_df_astype(sub)\n",
    "sub.shape, filt.sum()"
   ]
  },
  {
   "cell_type": "code",
   "execution_count": 34,
   "id": "8c06d800-312a-468b-bf35-ab8c10dfda81",
   "metadata": {},
   "outputs": [],
   "source": [
    "m_fe3 = PanelOLS(sub[dep_col], sub[cols], entity_effects=True).fit(cov_type='clustered', cluster_entity=True)\n",
    "m_re = RandomEffects(sub[dep_col], sub[cols]).fit()"
   ]
  },
  {
   "cell_type": "code",
   "execution_count": 35,
   "id": "d4b40d1e-1791-4464-9a38-b41cfb9e949a",
   "metadata": {},
   "outputs": [],
   "source": [
    "dist, filt = get_cooks_distance(sub[cols].values.astype(float), m_fe3.resids.values, flt_largest_perc=90.)\n",
    "sub2 = sub.drop(sub.loc[filt].index.get_level_values(0))\n",
    "m_fe32 = PanelOLS(sub2[dep_col], sub2[cols],\n",
    "                   entity_effects=True, drop_absorbed=True, check_rank=False).fit(cov_type=\"clustered\", cluster_entity=True)"
   ]
  },
  {
   "cell_type": "code",
   "execution_count": 36,
   "id": "0d217311-5456-434e-9564-c8dd39d4f7ec",
   "metadata": {},
   "outputs": [
    {
     "data": {
      "text/html": [
       "<div>\n",
       "<style scoped>\n",
       "    .dataframe tbody tr th:only-of-type {\n",
       "        vertical-align: middle;\n",
       "    }\n",
       "\n",
       "    .dataframe tbody tr th {\n",
       "        vertical-align: top;\n",
       "    }\n",
       "\n",
       "    .dataframe thead tr th {\n",
       "        text-align: left;\n",
       "    }\n",
       "</style>\n",
       "<table border=\"1\" class=\"dataframe\">\n",
       "  <thead>\n",
       "    <tr>\n",
       "      <th></th>\n",
       "      <th colspan=\"2\" halign=\"left\">print</th>\n",
       "    </tr>\n",
       "    <tr>\n",
       "      <th></th>\n",
       "      <th>pi_exp</th>\n",
       "      <th>pi_exp_1</th>\n",
       "    </tr>\n",
       "  </thead>\n",
       "  <tbody>\n",
       "    <tr>\n",
       "      <th>T_sum_diff_lag</th>\n",
       "      <td>-0.199 *** [-6.784]</td>\n",
       "      <td>-0.205 *** [-8.93]</td>\n",
       "    </tr>\n",
       "    <tr>\n",
       "      <th>hhinc_midpoint.2250.0</th>\n",
       "      <td>-0.003  [-0.805]</td>\n",
       "      <td>-0.005 ** [-2.253]</td>\n",
       "    </tr>\n",
       "    <tr>\n",
       "      <th>hhinc_midpoint.2750.0</th>\n",
       "      <td>-0.003  [-0.82]</td>\n",
       "      <td>-0.005 ** [-2.561]</td>\n",
       "    </tr>\n",
       "    <tr>\n",
       "      <th>hhinc_midpoint.3250.0</th>\n",
       "      <td>-0.003  [-0.706]</td>\n",
       "      <td>-0.005 ** [-2.201]</td>\n",
       "    </tr>\n",
       "    <tr>\n",
       "      <th>hhinc_midpoint.3750.0</th>\n",
       "      <td>-0.002  [-0.595]</td>\n",
       "      <td>-0.004 ** [-1.972]</td>\n",
       "    </tr>\n",
       "    <tr>\n",
       "      <th>hhinc_midpoint.4250.0</th>\n",
       "      <td>-0.004  [-0.854]</td>\n",
       "      <td>-0.005 ** [-2.229]</td>\n",
       "    </tr>\n",
       "    <tr>\n",
       "      <th>hhinc_midpoint.5500.0</th>\n",
       "      <td>-0.003  [-0.819]</td>\n",
       "      <td>-0.005 ** [-2.134]</td>\n",
       "    </tr>\n",
       "    <tr>\n",
       "      <th>hhinc_midpoint.750.0</th>\n",
       "      <td>-0.003  [-0.601]</td>\n",
       "      <td>-0.006 *** [-2.581]</td>\n",
       "    </tr>\n",
       "    <tr>\n",
       "      <th>pi_de_estimate_Y</th>\n",
       "      <td>0.983 *** [72.192]</td>\n",
       "      <td>1.089 *** [99.872]</td>\n",
       "    </tr>\n",
       "    <tr>\n",
       "      <th>pi_de_surprise_Y</th>\n",
       "      <td>0.18 *** [13.707]</td>\n",
       "      <td>0.133 *** [12.84]</td>\n",
       "    </tr>\n",
       "    <tr>\n",
       "      <th>N</th>\n",
       "      <td>29619.0</td>\n",
       "      <td>16826.0</td>\n",
       "    </tr>\n",
       "    <tr>\n",
       "      <th>R^2</th>\n",
       "      <td>0.444</td>\n",
       "      <td>0.68</td>\n",
       "    </tr>\n",
       "    <tr>\n",
       "      <th>R^2 between</th>\n",
       "      <td>0.808</td>\n",
       "      <td>0.846</td>\n",
       "    </tr>\n",
       "  </tbody>\n",
       "</table>\n",
       "</div>"
      ],
      "text/plain": [
       "                                     print                     \n",
       "                                    pi_exp             pi_exp_1\n",
       "T_sum_diff_lag         -0.199 *** [-6.784]   -0.205 *** [-8.93]\n",
       "hhinc_midpoint.2250.0     -0.003  [-0.805]   -0.005 ** [-2.253]\n",
       "hhinc_midpoint.2750.0      -0.003  [-0.82]   -0.005 ** [-2.561]\n",
       "hhinc_midpoint.3250.0     -0.003  [-0.706]   -0.005 ** [-2.201]\n",
       "hhinc_midpoint.3750.0     -0.002  [-0.595]   -0.004 ** [-1.972]\n",
       "hhinc_midpoint.4250.0     -0.004  [-0.854]   -0.005 ** [-2.229]\n",
       "hhinc_midpoint.5500.0     -0.003  [-0.819]   -0.005 ** [-2.134]\n",
       "hhinc_midpoint.750.0      -0.003  [-0.601]  -0.006 *** [-2.581]\n",
       "pi_de_estimate_Y        0.983 *** [72.192]   1.089 *** [99.872]\n",
       "pi_de_surprise_Y         0.18 *** [13.707]    0.133 *** [12.84]\n",
       "N                                  29619.0              16826.0\n",
       "R^2                                  0.444                 0.68\n",
       "R^2 between                          0.808                0.846"
      ]
     },
     "execution_count": 36,
     "metadata": {},
     "output_type": "execute_result"
    }
   ],
   "source": [
    "get_statsmodels_summary([m_fe3, m_fe32], ['print'], seperator=\" \", is_filt_sig=True)"
   ]
  },
  {
   "cell_type": "code",
   "execution_count": 37,
   "id": "9a580593-6c35-4689-accd-d65dc717f95b",
   "metadata": {},
   "outputs": [
    {
     "name": "stdout",
     "output_type": "stream",
     "text": [
      "{'LM-Stat': 133.96010088206506, 'LM p-val': 5.5375183496182e-28, 'F-Stat': 33.636502113400134, 'F p-val': 4.810430376888195e-28}\n"
     ]
    }
   ],
   "source": [
    "# H0: Homoscedasticity is present\n",
    "_ = sm.add_constant(pd.concat([m_fe3.resids, sub[cols]], axis=1))\n",
    "labels = ['LM-Stat', 'LM p-val', 'F-Stat', 'F p-val'] \n",
    "print(dict(zip(labels, het_breuschpagan(_[['residual']], _.drop('residual', axis=1)))))"
   ]
  },
  {
   "cell_type": "code",
   "execution_count": 38,
   "id": "c485b7bf-a691-4d95-b79c-4d2db7a58321",
   "metadata": {},
   "outputs": [
    {
     "name": "stdout",
     "output_type": "stream",
     "text": [
      "1.9851732576410788\n"
     ]
    }
   ],
   "source": [
    "durbin_watson_test_results = durbin_watson(m_fe3.resids) \n",
    "print(durbin_watson_test_results)"
   ]
  },
  {
   "cell_type": "code",
   "execution_count": 39,
   "id": "6c7f810b-d6f1-47fe-81ab-02f56a00a0a8",
   "metadata": {},
   "outputs": [
    {
     "name": "stdout",
     "output_type": "stream",
     "text": [
      "chi-Squared: 52.75638146924047\n",
      "degrees of freedom: 15\n",
      "p-Value: 4.232641067169811e-06\n"
     ]
    }
   ],
   "source": [
    "# H0: RE is to be preferred\n",
    "hausman_results = hausman(m_fe3, m_re)\n",
    "print('chi-Squared: ' + str(hausman_results[0]))\n",
    "print('degrees of freedom: ' + str(hausman_results[1]))\n",
    "print('p-Value: ' + str(hausman_results[2]))"
   ]
  },
  {
   "cell_type": "markdown",
   "id": "bfa5ff56-69e6-4641-9d29-7b9268b8a326",
   "metadata": {},
   "source": [
    "## Exp 4"
   ]
  },
  {
   "cell_type": "code",
   "execution_count": 40,
   "id": "3153bf83-445a-4ce7-9c8b-1646615758ec",
   "metadata": {},
   "outputs": [],
   "source": [
    "cols = ['T_sum_diff_lag', 'hhinc_midpoint', 'pi_de_surprise_Y', 'pi_de_estimate_Y', ] #'debt', 'is_unempl', 'wealth_bank',]  #'debt',]\n",
    "ind_cols = ['id', 'week_recorded']\n",
    "dep_col = ['pi_perc_error']"
   ]
  },
  {
   "cell_type": "code",
   "execution_count": 41,
   "id": "47f77116-abb0-4937-ab36-0140a91e5d85",
   "metadata": {},
   "outputs": [
    {
     "data": {
      "text/plain": [
       "((8055, 5), 1492)"
      ]
     },
     "execution_count": 41,
     "metadata": {},
     "output_type": "execute_result"
    }
   ],
   "source": [
    "sub = df_micro[ind_cols + cols + dep_col].copy().reset_index(drop=True)\n",
    "filt = sub.groupby(ind_cols)[dep_col + cols].last()\n",
    "filt = filt.dropna().reset_index().groupby('id').count().min(axis=1) > 4\n",
    "sub = sub.loc[sub.id.isin(set(filt[filt].index))].set_index(ind_cols).sort_index().dropna()\n",
    "sub.shape, filt.sum()"
   ]
  },
  {
   "cell_type": "code",
   "execution_count": 42,
   "id": "1a26f2f8-7ff6-4ce2-be0f-8ce516540be3",
   "metadata": {},
   "outputs": [],
   "source": [
    "m_fe4 = PanelOLS(sub[dep_col], sub[cols], entity_effects=True).fit(cov_type='clustered', cluster_entity=True)\n",
    "m_re = RandomEffects(sub[dep_col], sub[cols]).fit()"
   ]
  },
  {
   "cell_type": "code",
   "execution_count": 43,
   "id": "752d81cf-0788-4ba2-b490-bf5c0d33cc15",
   "metadata": {},
   "outputs": [],
   "source": [
    "# plt.scatter(m_fe4.predict().values, m_fe4.resids.values)"
   ]
  },
  {
   "cell_type": "code",
   "execution_count": 44,
   "id": "5673a3bb-f3df-43d0-9709-99ac3df3d459",
   "metadata": {},
   "outputs": [
    {
     "name": "stdout",
     "output_type": "stream",
     "text": [
      "{'LM-Stat': 53.327093922171194, 'LM p-val': 7.279080972342227e-11, 'F-Stat': 13.412292376616799, 'F p-val': 6.769040249195835e-11}\n"
     ]
    }
   ],
   "source": [
    "# H0: Homoscedasticity is present\n",
    "_ = sm.add_constant(pd.concat([m_fe4.resids, sub[cols]], axis=1))\n",
    "labels = ['LM-Stat', 'LM p-val', 'F-Stat', 'F p-val'] \n",
    "print(dict(zip(labels, het_breuschpagan(_[['residual']], _.drop('residual', axis=1)))))"
   ]
  },
  {
   "cell_type": "code",
   "execution_count": 45,
   "id": "c8de7724-ca1a-4236-8817-91d330392f75",
   "metadata": {},
   "outputs": [
    {
     "name": "stdout",
     "output_type": "stream",
     "text": [
      "2.1854819389607507\n"
     ]
    }
   ],
   "source": [
    "durbin_watson_test_results = durbin_watson(m_fe4.resids) \n",
    "print(durbin_watson_test_results)"
   ]
  },
  {
   "cell_type": "code",
   "execution_count": 46,
   "id": "4e1437de-8b19-43fc-a1d1-e78c587248da",
   "metadata": {},
   "outputs": [
    {
     "name": "stdout",
     "output_type": "stream",
     "text": [
      "chi-Squared: 19.294110136226617\n",
      "degrees of freedom: 15\n",
      "p-Value: 0.20071428682485978\n"
     ]
    }
   ],
   "source": [
    "# H0: RE is to be preferred\n",
    "hausman_results = hausman(m_fe4, m_re)\n",
    "print('chi-Squared: ' + str(hausman_results[0]))\n",
    "print('degrees of freedom: ' + str(hausman_results[1]))\n",
    "print('p-Value: ' + str(hausman_results[2]))"
   ]
  },
  {
   "cell_type": "markdown",
   "id": "3e3ff03a-f6cc-43e5-a76c-767dc11b5fbd",
   "metadata": {},
   "source": [
    "## Exp 5"
   ]
  },
  {
   "cell_type": "code",
   "execution_count": 47,
   "id": "2e6d15bb-7e55-43a5-99a2-1b24d3317027",
   "metadata": {},
   "outputs": [],
   "source": [
    "cols = ['T_sum_diff_lag', 'hhinc_midpoint', 'pi_de_surprise_Y', 'pi_de_estimate_Y', ] #'debt', 'is_unempl', 'wealth_bank',]  #'debt',]\n",
    "ind_cols = ['id', 'week_recorded']\n",
    "dep_col = ['delta_pe_error']"
   ]
  },
  {
   "cell_type": "code",
   "execution_count": 48,
   "id": "8847218d-b66c-4a74-a6c5-66a33dfe0c33",
   "metadata": {},
   "outputs": [
    {
     "data": {
      "text/plain": [
       "((45794, 5), 7279)"
      ]
     },
     "execution_count": 48,
     "metadata": {},
     "output_type": "execute_result"
    }
   ],
   "source": [
    "sub = df_micro[ind_cols + cols + dep_col].copy().reset_index(drop=True)\n",
    "filt = sub.groupby(ind_cols)[dep_col + cols].last()\n",
    "filt = filt.dropna().reset_index().groupby('id').count().min(axis=1) > 4\n",
    "sub = sub.loc[sub.id.isin(set(filt[filt].index))].set_index(ind_cols).sort_index().dropna()\n",
    "sub.shape, filt.sum()"
   ]
  },
  {
   "cell_type": "code",
   "execution_count": 49,
   "id": "82fd920d-1c47-4223-b033-b5392413ac11",
   "metadata": {},
   "outputs": [],
   "source": [
    "sub = sub.loc[~sub.duplicated()]"
   ]
  },
  {
   "cell_type": "code",
   "execution_count": 50,
   "id": "1206cd6e-1a9a-4ff5-a467-63644fcf2743",
   "metadata": {},
   "outputs": [],
   "source": [
    "m_fe5 = PanelOLS(sub[dep_col], sub[cols], entity_effects=True).fit(cov_type='clustered', cluster_entity=True)\n",
    "m_re = RandomEffects(sub[dep_col], sub[cols]).fit()\n",
    "# print(m_fe5)"
   ]
  },
  {
   "cell_type": "code",
   "execution_count": 51,
   "id": "4ab97333-1814-45cf-bbe0-03ea656ab8cb",
   "metadata": {},
   "outputs": [],
   "source": [
    "# plt.scatter(m_fe.predict().values, m_fe.resids.values)"
   ]
  },
  {
   "cell_type": "code",
   "execution_count": 52,
   "id": "1a23fc64-8189-4136-92a6-722d2c696056",
   "metadata": {},
   "outputs": [
    {
     "name": "stdout",
     "output_type": "stream",
     "text": [
      "{'LM-Stat': 40.1161500548235, 'LM p-val': 4.0955041155242976e-08, 'F-Stat': 10.153400377756073, 'F p-val': 3.676614306987792e-08}\n"
     ]
    }
   ],
   "source": [
    "# H0: Homoscedasticity is present\n",
    "_ = sm.add_constant(pd.concat([m_fe5.resids, sub[cols]], axis=1))\n",
    "labels = ['LM-Stat', 'LM p-val', 'F-Stat', 'F p-val'] \n",
    "print(dict(zip(labels, het_breuschpagan(_[['residual']], _.drop('residual', axis=1)))))"
   ]
  },
  {
   "cell_type": "code",
   "execution_count": 53,
   "id": "89c621f5-b1b6-4b07-89bd-347b5160d6d1",
   "metadata": {},
   "outputs": [
    {
     "name": "stdout",
     "output_type": "stream",
     "text": [
      "2.3733566765306287\n"
     ]
    }
   ],
   "source": [
    "durbin_watson_test_results = durbin_watson(m_fe5.resids) \n",
    "print(durbin_watson_test_results)"
   ]
  },
  {
   "cell_type": "code",
   "execution_count": 54,
   "id": "8af820e5-bbb5-4c2e-bda4-067e9805ba93",
   "metadata": {},
   "outputs": [
    {
     "name": "stdout",
     "output_type": "stream",
     "text": [
      "chi-Squared: 60.15484977939887\n",
      "degrees of freedom: 15\n",
      "p-Value: 2.3720837561939567e-07\n"
     ]
    }
   ],
   "source": [
    "# H0: RE is to be preferred\n",
    "hausman_results = hausman(m_fe5, m_re)\n",
    "print('chi-Squared: ' + str(hausman_results[0]))\n",
    "print('degrees of freedom: ' + str(hausman_results[1]))\n",
    "print('p-Value: ' + str(hausman_results[2]))"
   ]
  },
  {
   "cell_type": "markdown",
   "id": "4fba78f4-e4b4-4fbd-88a7-17b30aa018a7",
   "metadata": {},
   "source": [
    "## summary"
   ]
  },
  {
   "cell_type": "code",
   "execution_count": 55,
   "id": "e1b8b97d-607d-4611-aaeb-5241df2a1209",
   "metadata": {},
   "outputs": [],
   "source": [
    "lst_fes = [m_fe1, m_fe2, m_fe3, m_fe4, m_fe5]\n",
    "out = get_statsmodels_summary(lst_fes, seperator=\" \", is_filt_sig=True)\n",
    "save_pd_df(out, 'tab_pols.csv', GRAPHS_DIR)"
   ]
  },
  {
   "cell_type": "code",
   "execution_count": 56,
   "id": "4d21c328-4601-4451-a174-37ca70586248",
   "metadata": {},
   "outputs": [
    {
     "data": {
      "text/html": [
       "<div>\n",
       "<style scoped>\n",
       "    .dataframe tbody tr th:only-of-type {\n",
       "        vertical-align: middle;\n",
       "    }\n",
       "\n",
       "    .dataframe tbody tr th {\n",
       "        vertical-align: top;\n",
       "    }\n",
       "\n",
       "    .dataframe thead th {\n",
       "        text-align: right;\n",
       "    }\n",
       "</style>\n",
       "<table border=\"1\" class=\"dataframe\">\n",
       "  <thead>\n",
       "    <tr style=\"text-align: right;\">\n",
       "      <th></th>\n",
       "      <th>delta_pe</th>\n",
       "      <th>delta_pe_error</th>\n",
       "      <th>pi_exp</th>\n",
       "      <th>pi_perc</th>\n",
       "      <th>pi_perc_error</th>\n",
       "    </tr>\n",
       "  </thead>\n",
       "  <tbody>\n",
       "    <tr>\n",
       "      <th>hhinc_midpoint.2750.0</th>\n",
       "      <td>0.009 ** [2.452]</td>\n",
       "      <td>0.004  [0.937]</td>\n",
       "      <td>-0.003  [-0.82]</td>\n",
       "      <td>-0.006  [-0.447]</td>\n",
       "      <td>0.002  [0.17]</td>\n",
       "    </tr>\n",
       "    <tr>\n",
       "      <th>is_unempl</th>\n",
       "      <td>-0.004 ** [-2.202]</td>\n",
       "      <td>NaN</td>\n",
       "      <td>NaN</td>\n",
       "      <td>-0.007  [-0.735]</td>\n",
       "      <td>NaN</td>\n",
       "    </tr>\n",
       "    <tr>\n",
       "      <th>hhinc_midpoint.9000.0</th>\n",
       "      <td>0.011 *** [2.659]</td>\n",
       "      <td>0.002  [0.556]</td>\n",
       "      <td>-0.002  [-0.416]</td>\n",
       "      <td>-0.004  [-0.261]</td>\n",
       "      <td>0.007  [0.664]</td>\n",
       "    </tr>\n",
       "    <tr>\n",
       "      <th>hhinc_midpoint.7000.0</th>\n",
       "      <td>0.011 *** [2.965]</td>\n",
       "      <td>0.007 * [1.798]</td>\n",
       "      <td>-0.003  [-0.699]</td>\n",
       "      <td>-0.004  [-0.283]</td>\n",
       "      <td>0.004  [0.385]</td>\n",
       "    </tr>\n",
       "    <tr>\n",
       "      <th>hhinc_midpoint.5500.0</th>\n",
       "      <td>0.01 *** [2.764]</td>\n",
       "      <td>0.007 * [1.682]</td>\n",
       "      <td>-0.003  [-0.819]</td>\n",
       "      <td>-0.006  [-0.404]</td>\n",
       "      <td>0.005  [0.503]</td>\n",
       "    </tr>\n",
       "    <tr>\n",
       "      <th>hhinc_midpoint.4250.0</th>\n",
       "      <td>0.011 *** [2.953]</td>\n",
       "      <td>0.007  [1.56]</td>\n",
       "      <td>-0.004  [-0.854]</td>\n",
       "      <td>-0.006  [-0.374]</td>\n",
       "      <td>0.004  [0.364]</td>\n",
       "    </tr>\n",
       "    <tr>\n",
       "      <th>hhinc_midpoint.3750.0</th>\n",
       "      <td>0.009 ** [2.559]</td>\n",
       "      <td>0.003  [0.762]</td>\n",
       "      <td>-0.002  [-0.595]</td>\n",
       "      <td>-0.004  [-0.279]</td>\n",
       "      <td>0.002  [0.239]</td>\n",
       "    </tr>\n",
       "    <tr>\n",
       "      <th>hhinc_midpoint.3250.0</th>\n",
       "      <td>0.011 *** [2.959]</td>\n",
       "      <td>0.004  [0.891]</td>\n",
       "      <td>-0.003  [-0.706]</td>\n",
       "      <td>-0.006  [-0.386]</td>\n",
       "      <td>0.004  [0.41]</td>\n",
       "    </tr>\n",
       "    <tr>\n",
       "      <th>pi_de_estimate_Y</th>\n",
       "      <td>0.706 *** [79.958]</td>\n",
       "      <td>-1.077 *** [-38.988]</td>\n",
       "      <td>0.983 *** [72.192]</td>\n",
       "      <td>1.619 *** [46.332]</td>\n",
       "      <td>0.116 *** [4.783]</td>\n",
       "    </tr>\n",
       "    <tr>\n",
       "      <th>pi_de_surprise_Y</th>\n",
       "      <td>-0.756 *** [-104.121]</td>\n",
       "      <td>-0.995 *** [-40.972]</td>\n",
       "      <td>0.18 *** [13.707]</td>\n",
       "      <td>-0.648 *** [-18.329]</td>\n",
       "      <td>-1.156 *** [-52.196]</td>\n",
       "    </tr>\n",
       "    <tr>\n",
       "      <th>hhinc_midpoint.1750.0</th>\n",
       "      <td>0.008 ** [2.343]</td>\n",
       "      <td>0.002  [0.396]</td>\n",
       "      <td>-0.002  [-0.57]</td>\n",
       "      <td>-0.009  [-0.61]</td>\n",
       "      <td>-0.002  [-0.193]</td>\n",
       "    </tr>\n",
       "    <tr>\n",
       "      <th>hhinc_midpoint.1250.0</th>\n",
       "      <td>0.009 ** [2.446]</td>\n",
       "      <td>-0.002  [-0.425]</td>\n",
       "      <td>-0.002  [-0.444]</td>\n",
       "      <td>-0.001  [-0.103]</td>\n",
       "      <td>-0.002  [-0.234]</td>\n",
       "    </tr>\n",
       "    <tr>\n",
       "      <th>hhinc_midpoint.12000.0</th>\n",
       "      <td>0.01 ** [2.12]</td>\n",
       "      <td>0.001  [0.193]</td>\n",
       "      <td>-0.004  [-0.828]</td>\n",
       "      <td>-0.004  [-0.254]</td>\n",
       "      <td>0.009  [0.923]</td>\n",
       "    </tr>\n",
       "    <tr>\n",
       "      <th>debt.4.0</th>\n",
       "      <td>-0.002 ** [-2.211]</td>\n",
       "      <td>NaN</td>\n",
       "      <td>NaN</td>\n",
       "      <td>NaN</td>\n",
       "      <td>NaN</td>\n",
       "    </tr>\n",
       "    <tr>\n",
       "      <th>T_sum_diff_lag</th>\n",
       "      <td>2.217 *** [37.911]</td>\n",
       "      <td>0.164 ** [2.151]</td>\n",
       "      <td>-0.199 *** [-6.784]</td>\n",
       "      <td>-0.287 *** [-3.86]</td>\n",
       "      <td>-0.087 * [-1.705]</td>\n",
       "    </tr>\n",
       "    <tr>\n",
       "      <th>hhinc_midpoint.2250.0</th>\n",
       "      <td>0.008 ** [2.336]</td>\n",
       "      <td>0.003  [0.737]</td>\n",
       "      <td>-0.003  [-0.805]</td>\n",
       "      <td>-0.01  [-0.679]</td>\n",
       "      <td>-0.0  [-0.007]</td>\n",
       "    </tr>\n",
       "    <tr>\n",
       "      <th>R^2 between</th>\n",
       "      <td>-5.578</td>\n",
       "      <td>0.979</td>\n",
       "      <td>0.808</td>\n",
       "      <td>0.793</td>\n",
       "      <td>-2.616</td>\n",
       "    </tr>\n",
       "    <tr>\n",
       "      <th>R^2</th>\n",
       "      <td>0.785</td>\n",
       "      <td>0.865</td>\n",
       "      <td>0.444</td>\n",
       "      <td>0.496</td>\n",
       "      <td>0.44</td>\n",
       "    </tr>\n",
       "    <tr>\n",
       "      <th>N</th>\n",
       "      <td>2982.0</td>\n",
       "      <td>2872.0</td>\n",
       "      <td>29619.0</td>\n",
       "      <td>2960.0</td>\n",
       "      <td>8055.0</td>\n",
       "    </tr>\n",
       "  </tbody>\n",
       "</table>\n",
       "</div>"
      ],
      "text/plain": [
       "                                     delta_pe        delta_pe_error  \\\n",
       "hhinc_midpoint.2750.0        0.009 ** [2.452]        0.004  [0.937]   \n",
       "is_unempl                  -0.004 ** [-2.202]                   NaN   \n",
       "hhinc_midpoint.9000.0       0.011 *** [2.659]        0.002  [0.556]   \n",
       "hhinc_midpoint.7000.0       0.011 *** [2.965]       0.007 * [1.798]   \n",
       "hhinc_midpoint.5500.0        0.01 *** [2.764]       0.007 * [1.682]   \n",
       "hhinc_midpoint.4250.0       0.011 *** [2.953]         0.007  [1.56]   \n",
       "hhinc_midpoint.3750.0        0.009 ** [2.559]        0.003  [0.762]   \n",
       "hhinc_midpoint.3250.0       0.011 *** [2.959]        0.004  [0.891]   \n",
       "pi_de_estimate_Y           0.706 *** [79.958]  -1.077 *** [-38.988]   \n",
       "pi_de_surprise_Y        -0.756 *** [-104.121]  -0.995 *** [-40.972]   \n",
       "hhinc_midpoint.1750.0        0.008 ** [2.343]        0.002  [0.396]   \n",
       "hhinc_midpoint.1250.0        0.009 ** [2.446]      -0.002  [-0.425]   \n",
       "hhinc_midpoint.12000.0         0.01 ** [2.12]        0.001  [0.193]   \n",
       "debt.4.0                   -0.002 ** [-2.211]                   NaN   \n",
       "T_sum_diff_lag             2.217 *** [37.911]      0.164 ** [2.151]   \n",
       "hhinc_midpoint.2250.0        0.008 ** [2.336]        0.003  [0.737]   \n",
       "R^2 between                            -5.578                 0.979   \n",
       "R^2                                     0.785                 0.865   \n",
       "N                                      2982.0                2872.0   \n",
       "\n",
       "                                     pi_exp               pi_perc  \\\n",
       "hhinc_midpoint.2750.0       -0.003  [-0.82]      -0.006  [-0.447]   \n",
       "is_unempl                               NaN      -0.007  [-0.735]   \n",
       "hhinc_midpoint.9000.0      -0.002  [-0.416]      -0.004  [-0.261]   \n",
       "hhinc_midpoint.7000.0      -0.003  [-0.699]      -0.004  [-0.283]   \n",
       "hhinc_midpoint.5500.0      -0.003  [-0.819]      -0.006  [-0.404]   \n",
       "hhinc_midpoint.4250.0      -0.004  [-0.854]      -0.006  [-0.374]   \n",
       "hhinc_midpoint.3750.0      -0.002  [-0.595]      -0.004  [-0.279]   \n",
       "hhinc_midpoint.3250.0      -0.003  [-0.706]      -0.006  [-0.386]   \n",
       "pi_de_estimate_Y         0.983 *** [72.192]    1.619 *** [46.332]   \n",
       "pi_de_surprise_Y          0.18 *** [13.707]  -0.648 *** [-18.329]   \n",
       "hhinc_midpoint.1750.0       -0.002  [-0.57]       -0.009  [-0.61]   \n",
       "hhinc_midpoint.1250.0      -0.002  [-0.444]      -0.001  [-0.103]   \n",
       "hhinc_midpoint.12000.0     -0.004  [-0.828]      -0.004  [-0.254]   \n",
       "debt.4.0                                NaN                   NaN   \n",
       "T_sum_diff_lag          -0.199 *** [-6.784]    -0.287 *** [-3.86]   \n",
       "hhinc_midpoint.2250.0      -0.003  [-0.805]       -0.01  [-0.679]   \n",
       "R^2 between                           0.808                 0.793   \n",
       "R^2                                   0.444                 0.496   \n",
       "N                                   29619.0                2960.0   \n",
       "\n",
       "                               pi_perc_error  \n",
       "hhinc_midpoint.2750.0          0.002  [0.17]  \n",
       "is_unempl                                NaN  \n",
       "hhinc_midpoint.9000.0         0.007  [0.664]  \n",
       "hhinc_midpoint.7000.0         0.004  [0.385]  \n",
       "hhinc_midpoint.5500.0         0.005  [0.503]  \n",
       "hhinc_midpoint.4250.0         0.004  [0.364]  \n",
       "hhinc_midpoint.3750.0         0.002  [0.239]  \n",
       "hhinc_midpoint.3250.0          0.004  [0.41]  \n",
       "pi_de_estimate_Y           0.116 *** [4.783]  \n",
       "pi_de_surprise_Y        -1.156 *** [-52.196]  \n",
       "hhinc_midpoint.1750.0       -0.002  [-0.193]  \n",
       "hhinc_midpoint.1250.0       -0.002  [-0.234]  \n",
       "hhinc_midpoint.12000.0        0.009  [0.923]  \n",
       "debt.4.0                                 NaN  \n",
       "T_sum_diff_lag             -0.087 * [-1.705]  \n",
       "hhinc_midpoint.2250.0         -0.0  [-0.007]  \n",
       "R^2 between                           -2.616  \n",
       "R^2                                     0.44  \n",
       "N                                     8055.0  "
      ]
     },
     "execution_count": 56,
     "metadata": {},
     "output_type": "execute_result"
    }
   ],
   "source": [
    "out"
   ]
  },
  {
   "cell_type": "code",
   "execution_count": null,
   "id": "56068bb6-2648-4007-977d-22c5fdc8a52b",
   "metadata": {},
   "outputs": [],
   "source": []
  }
 ],
 "metadata": {
  "kernelspec": {
   "display_name": "mamba_env_memoire2",
   "language": "python",
   "name": "mamba_env_memoire2"
  },
  "language_info": {
   "codemirror_mode": {
    "name": "ipython",
    "version": 3
   },
   "file_extension": ".py",
   "mimetype": "text/x-python",
   "name": "python",
   "nbconvert_exporter": "python",
   "pygments_lexer": "ipython3",
   "version": "3.11.7"
  }
 },
 "nbformat": 4,
 "nbformat_minor": 5
}
