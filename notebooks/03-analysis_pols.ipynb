{
 "cells": [
  {
   "cell_type": "code",
   "execution_count": 1,
   "id": "be0292f3-93fa-4b17-9987-9d55cf353b80",
   "metadata": {},
   "outputs": [],
   "source": [
    "%run init_notebook.py"
   ]
  },
  {
   "cell_type": "code",
   "execution_count": 2,
   "id": "7829122e-1654-4f8c-9bba-b677c4f49ce8",
   "metadata": {},
   "outputs": [],
   "source": [
    "from src.utils import *\n",
    "from src.processing import pd_join_dfs, pd_groupby, xcorr\n",
    "from src.statsmodels import *\n",
    "import scipy"
   ]
  },
  {
   "cell_type": "code",
   "execution_count": 3,
   "id": "3b3c441e-1c2f-4e54-809c-9516bba7434a",
   "metadata": {},
   "outputs": [],
   "source": [
    "import warnings\n",
    "from statsmodels.tools.sm_exceptions import ValueWarning\n",
    "warnings.simplefilter('ignore', ValueWarning)"
   ]
  },
  {
   "cell_type": "code",
   "execution_count": 4,
   "id": "bb9c3dc7-dde5-4c5a-a191-9bbedeb2a8cd",
   "metadata": {},
   "outputs": [],
   "source": [
    "from src.utils import load_pd_df, save_pd_df, get_dt_index, pd_join_freq, Capturing, cross_corr, pd_df_astype, save_fig, get_stars\n",
    "from src.processing import pd_groupby, pd_join_dfs, adf_test_summary, hausman, plt_stacked_bar, get_individual_perc_error\n",
    "from src.pymc_modelling import get_samp\n",
    "\n",
    "from statsmodels.stats.diagnostic import het_white, het_breuschpagan\n",
    "import statsmodels.api as sm\n",
    "from statsmodels.stats.stattools import durbin_watson\n",
    "\n",
    "from linearmodels.panel import PanelOLS\n",
    "from linearmodels import RandomEffects\n",
    "from statsmodels.iolib.summary2 import summary_col"
   ]
  },
  {
   "cell_type": "code",
   "execution_count": 221,
   "id": "85ef6d0e-e38c-49f4-a203-d8e9ebbd0634",
   "metadata": {},
   "outputs": [],
   "source": [
    "df_micro = load_pd_df(\"df_analysis_micro.feather\")\n",
    "df = load_pd_df(\"df_analysis.feather\")\n",
    "dict_fe_test_res = {}"
   ]
  },
  {
   "cell_type": "code",
   "execution_count": 222,
   "id": "24c2a925-13ef-4816-9c64-7b97614b7afa",
   "metadata": {},
   "outputs": [],
   "source": [
    "DICT_PARSE_COLS.update(\n",
    "    {\n",
    "        'T_pca_sum': float,\n",
    "        'T_pca_sum_diff': float,\n",
    "        'pi_de_surprise_Y': float,\n",
    "        'pi_de_estimate_Y': float,\n",
    "        'delta_pe_error': float,\n",
    "        'hhinc_midpoint': 'categoryO',\n",
    "        'T_sum_raw': float,\n",
    "        'T_sum_glob': float,\n",
    "        'T_sum_glob_op3': float,\n",
    "        'T_sum_glob_op5': float,\n",
    "        'T_sum_ind_op': float,\n",
    "        'T_sum_ind_op_all': float,\n",
    "        'T_sum_ind': float,\n",
    "        'T_sum_raw_diff': float,\n",
    "        'T_sum_glob_diff': float,\n",
    "        'T_sum_ind_op_diff': float,\n",
    "        'T_sum_ind_op_all_diff': float,\n",
    "        'T_sum_ind_diff': float,\n",
    "        'T_sum_glob_op3_diff': float,\n",
    "        'T_sum_glob_op5_diff': float,\n",
    "        'pi_de_Y_diff_F': float,\n",
    "        'ecbtrust': float,\n",
    "        'pi_de_Y_lead1': float,\n",
    "        'pi_de_estimate_Y_lead1': float,\n",
    "        'pi_de_surprise_Y_lead1': float,\n",
    "    }\n",
    ")"
   ]
  },
  {
   "cell_type": "code",
   "execution_count": 223,
   "id": "75f25705-3295-4bc4-9b3f-5911d4a856fe",
   "metadata": {},
   "outputs": [],
   "source": [
    "df_micro = pd_df_astype(df_micro, DICT_PARSE_COLS)"
   ]
  },
  {
   "cell_type": "markdown",
   "id": "65fa0fde-1991-43b6-82d8-f5039d3519f0",
   "metadata": {},
   "source": [
    "## panel structure sparsity and distance analysis"
   ]
  },
  {
   "cell_type": "code",
   "execution_count": 224,
   "id": "e70666ce-95d2-41d6-83c4-515d304171aa",
   "metadata": {},
   "outputs": [],
   "source": [
    "filt = df_micro.groupby(['id', 'week_recorded']).pi_perc.last().unstack().count(axis=1)\n",
    "# filt.describe()"
   ]
  },
  {
   "cell_type": "code",
   "execution_count": 225,
   "id": "0db69ec5-6737-4474-b519-109cb2ef6560",
   "metadata": {},
   "outputs": [],
   "source": [
    "sub = df_micro.set_index('id').loc[filt[filt > 1].index].reset_index().groupby(['id', 'week_recorded']).last()\n",
    "sub = sub[\n",
    "    ['hhinc_midpoint', 'pi_perc_error', 'delta_pe_error', 'debt', 'wealth_bank', 'savings_planned', 'ecbtrust', 'hhsize']\n",
    "]"
   ]
  },
  {
   "cell_type": "code",
   "execution_count": 226,
   "id": "afd56144-6cef-4ee4-a5bd-76693b401ce6",
   "metadata": {},
   "outputs": [],
   "source": [
    "filt = sub.reset_index().groupby(['id', 'week_recorded']).delta_pe_error.last().unstack().count(axis=1)\n",
    "# filt.describe()"
   ]
  },
  {
   "cell_type": "code",
   "execution_count": 227,
   "id": "4e87fcf6-fee8-49ef-aaaf-73a7c28bce27",
   "metadata": {},
   "outputs": [],
   "source": [
    "dist = sub.reset_index().groupby('id').last().drop('week_recorded', axis=1).astype(float)\n",
    "dist['distance'] = scipy.spatial.distance.cdist(dist.fillna(0).values, dist.fillna(0).values).mean(axis=0)\n",
    "dist['distance'] = min_max_scale(dist.distance)"
   ]
  },
  {
   "cell_type": "code",
   "execution_count": 228,
   "id": "83ab4161-077f-4c67-916f-782edcdd4423",
   "metadata": {},
   "outputs": [
    {
     "data": {
      "text/plain": [
       "<AxesSubplot: xlabel='week_recorded', ylabel='id'>"
      ]
     },
     "execution_count": 228,
     "metadata": {},
     "output_type": "execute_result"
    },
    {
     "data": {
      "image/png": "[encoded data removed]",
      "text/plain": [
       "<Figure size 1400x400 with 2 Axes>"
      ]
     },
     "metadata": {},
     "output_type": "display_data"
    }
   ],
   "source": [
    "sns.heatmap(\n",
    "    sub.reset_index().set_index('id').join(dist.distance).reset_index().set_index(['id', 'week_recorded']).distance.unstack(),\n",
    "    cmap='winter',\n",
    "    yticklabels=False,\n",
    ")"
   ]
  },
  {
   "cell_type": "code",
   "execution_count": 229,
   "id": "d216e830-3b3e-430d-b6c0-64bb931d08a9",
   "metadata": {},
   "outputs": [],
   "source": [
    "def pols_get_test_res(mod_fe, mod_re, sub, cols, sig: float = .05, seperator: str = \"\\n\"):\n",
    "    res = {}\n",
    "    \n",
    "    # H0: Homoscedasticity is present\n",
    "    _ = sm.add_constant(pd.concat([mod_fe.resids, sub[cols]], axis=1))\n",
    "    res['Breusch Pagan Test'] = dict(zip(\n",
    "        ['LM-Stat', 'LM p-val', 'stat', 'pval'],\n",
    "        het_breuschpagan(_[['residual']], _.drop('residual', axis=1))\n",
    "    ))\n",
    "    \n",
    "    # Durbin watson\n",
    "    res['Durbin-Watson Test'] = {'stat':durbin_watson(mod_fe.resids)}\n",
    "    \n",
    "    # Haussman H0: RE is to be preferred\n",
    "    res['Hausmann Test'] = dict(zip(['stat', 'df', 'pval'], hausman(mod_fe, mod_re)))\n",
    "    \n",
    "    df = pd.DataFrame(res).T\n",
    "    df['coef'] = df.pval <= sig\n",
    "    df['star'] = df.pval.apply(lambda x: get_stars(x))\n",
    "    df['print'] = df.coef.astype(str) + \" \" + df.star.astype(str) + seperator + \"[\" + df.stat.round(3).astype(str) + \"]\"\n",
    "    df.loc['Durbin-Watson Test', 'print'] = df.loc['Durbin-Watson Test', 'stat'].round(3).astype(str)\n",
    "    \n",
    "    return df"
   ]
  },
  {
   "cell_type": "markdown",
   "id": "6700c046-307a-4287-aefd-cf82f88e68fe",
   "metadata": {},
   "source": [
    "## pi perc"
   ]
  },
  {
   "cell_type": "code",
   "execution_count": 230,
   "id": "0f537297-4acb-479e-ae54-86979b0d0799",
   "metadata": {},
   "outputs": [],
   "source": [
    "cols = ['T_sum_ind_diff', 'hhinc_midpoint', 'pi_de_surprise_Y', 'pi_de_estimate_Y'] #, 'debt',]\n",
    "ind_cols = ['id', 'week_recorded']\n",
    "dep_col = ['pi_perc']"
   ]
  },
  {
   "cell_type": "code",
   "execution_count": 231,
   "id": "a0871edd-113d-4e3e-98e4-48f6a6cac42b",
   "metadata": {},
   "outputs": [],
   "source": [
    "filt = df_micro.groupby(ind_cols)[dep_col].last().dropna().unstack().count(axis=1)\n",
    "# filt.describe()"
   ]
  },
  {
   "cell_type": "code",
   "execution_count": 232,
   "id": "c10ecaae-b663-4891-8a82-c47297c2ad8e",
   "metadata": {},
   "outputs": [],
   "source": [
    "i = 6\n",
    "sub = df_micro.set_index('id').loc[filt[filt > i].index].reset_index().groupby(ind_cols).last()\n",
    "sub = sub[cols + dep_col].dropna()"
   ]
  },
  {
   "cell_type": "code",
   "execution_count": 233,
   "id": "d94b7151-a0f0-46f0-a161-cacd94c105c3",
   "metadata": {},
   "outputs": [],
   "source": [
    "filt = sub.reset_index().groupby(ind_cols)[dep_col].last().unstack().count(axis=1)\n",
    "# filt.describe()"
   ]
  },
  {
   "cell_type": "code",
   "execution_count": 234,
   "id": "130ff317-10ea-4814-990f-a9c45d908eca",
   "metadata": {},
   "outputs": [
    {
     "data": {
      "text/plain": [
       "((1132, 5), 1132)"
      ]
     },
     "execution_count": 234,
     "metadata": {},
     "output_type": "execute_result"
    }
   ],
   "source": [
    "sub.shape, filt.sum()"
   ]
  },
  {
   "cell_type": "code",
   "execution_count": 235,
   "id": "a738cc5b-7c0a-460b-a126-d2650a64fc56",
   "metadata": {},
   "outputs": [],
   "source": [
    "m_fe11 = PanelOLS(sub[dep_col], sub[cols], entity_effects=True, ).fit(cov_type='clustered', cluster_entity=True)\n",
    "m_re = RandomEffects(sub[dep_col], sub[cols]).fit()"
   ]
  },
  {
   "cell_type": "code",
   "execution_count": 236,
   "id": "84111d2d-e289-4304-99e7-6abecd14e323",
   "metadata": {},
   "outputs": [
    {
     "name": "stderr",
     "output_type": "stream",
     "text": [
      "C:\\Users\\LukasGrahl\\AppData\\Local\\Temp\\ipykernel_30800\\3440417660.py:4: AbsorbingEffectWarning: \n",
      "Variables have been fully absorbed and have removed from the regression:\n",
      "\n",
      "hhinc_midpoint.750.0, hhinc_midpoint.12000.0\n",
      "\n",
      "  entity_effects=True, drop_absorbed=True, check_rank=False).fit(cov_type=\"clustered\", cluster_entity=True)\n"
     ]
    }
   ],
   "source": [
    "dist, filt = get_cooks_distance(sub[cols].values.astype(float), m_fe11.resids.values, flt_largest_perc=90.)\n",
    "sub2 = sub.drop(sub.loc[filt].index.get_level_values(0))\n",
    "m_fe1_ = PanelOLS(sub2[dep_col], sub2[cols],\n",
    "                   entity_effects=True, drop_absorbed=True, check_rank=False).fit(cov_type=\"clustered\", cluster_entity=True)"
   ]
  },
  {
   "cell_type": "code",
   "execution_count": 237,
   "id": "c46c47d6-5eac-4ef4-849d-07e5ee8533c1",
   "metadata": {},
   "outputs": [
    {
     "data": {
      "text/html": [
       "<div>\n",
       "<style scoped>\n",
       "    .dataframe tbody tr th:only-of-type {\n",
       "        vertical-align: middle;\n",
       "    }\n",
       "\n",
       "    .dataframe tbody tr th {\n",
       "        vertical-align: top;\n",
       "    }\n",
       "\n",
       "    .dataframe thead tr th {\n",
       "        text-align: left;\n",
       "    }\n",
       "</style>\n",
       "<table border=\"1\" class=\"dataframe\">\n",
       "  <thead>\n",
       "    <tr>\n",
       "      <th></th>\n",
       "      <th colspan=\"2\" halign=\"left\">print</th>\n",
       "    </tr>\n",
       "    <tr>\n",
       "      <th></th>\n",
       "      <th>pi_perc</th>\n",
       "      <th>pi_perc_1</th>\n",
       "    </tr>\n",
       "  </thead>\n",
       "  <tbody>\n",
       "    <tr>\n",
       "      <th>hhinc_midpoint.2250.0</th>\n",
       "      <td>0.001  [0.078]</td>\n",
       "      <td>-0.006  [-1.284]</td>\n",
       "    </tr>\n",
       "    <tr>\n",
       "      <th>hhinc_midpoint.9000.0</th>\n",
       "      <td>0.006 * [1.758]</td>\n",
       "      <td>0.006 *** [2.876]</td>\n",
       "    </tr>\n",
       "    <tr>\n",
       "      <th>hhinc_midpoint.750.0</th>\n",
       "      <td>-0.01  [-1.408]</td>\n",
       "      <td>NaN</td>\n",
       "    </tr>\n",
       "    <tr>\n",
       "      <th>hhinc_midpoint.7000.0</th>\n",
       "      <td>-0.007 *** [-4.569]</td>\n",
       "      <td>-0.007 *** [-7.987]</td>\n",
       "    </tr>\n",
       "    <tr>\n",
       "      <th>hhinc_midpoint.5500.0</th>\n",
       "      <td>-0.009 *** [-2.65]</td>\n",
       "      <td>-0.012 *** [-7.475]</td>\n",
       "    </tr>\n",
       "    <tr>\n",
       "      <th>hhinc_midpoint.4250.0</th>\n",
       "      <td>-0.003  [-0.608]</td>\n",
       "      <td>-0.008 *** [-3.525]</td>\n",
       "    </tr>\n",
       "    <tr>\n",
       "      <th>hhinc_midpoint.3750.0</th>\n",
       "      <td>-0.007  [-1.282]</td>\n",
       "      <td>-0.009 *** [-3.076]</td>\n",
       "    </tr>\n",
       "    <tr>\n",
       "      <th>hhinc_midpoint.3250.0</th>\n",
       "      <td>-0.01 * [-1.737]</td>\n",
       "      <td>-0.012 *** [-3.762]</td>\n",
       "    </tr>\n",
       "    <tr>\n",
       "      <th>hhinc_midpoint.2750.0</th>\n",
       "      <td>-0.009  [-1.345]</td>\n",
       "      <td>-0.01 ** [-2.383]</td>\n",
       "    </tr>\n",
       "    <tr>\n",
       "      <th>pi_de_estimate_Y</th>\n",
       "      <td>1.356 *** [26.622]</td>\n",
       "      <td>1.46 *** [41.486]</td>\n",
       "    </tr>\n",
       "    <tr>\n",
       "      <th>pi_de_surprise_Y</th>\n",
       "      <td>-0.187 ** [-2.199]</td>\n",
       "      <td>-0.222 *** [-4.069]</td>\n",
       "    </tr>\n",
       "    <tr>\n",
       "      <th>hhinc_midpoint.1250.0</th>\n",
       "      <td>-0.006  [-0.554]</td>\n",
       "      <td>0.0  [0.01]</td>\n",
       "    </tr>\n",
       "    <tr>\n",
       "      <th>hhinc_midpoint.12000.0</th>\n",
       "      <td>0.012 *** [4.419]</td>\n",
       "      <td>NaN</td>\n",
       "    </tr>\n",
       "    <tr>\n",
       "      <th>T_sum_ind_diff</th>\n",
       "      <td>-0.01  [-0.491]</td>\n",
       "      <td>-0.015  [-0.949]</td>\n",
       "    </tr>\n",
       "    <tr>\n",
       "      <th>hhinc_midpoint.1750.0</th>\n",
       "      <td>-0.006  [-0.592]</td>\n",
       "      <td>-0.01 * [-1.903]</td>\n",
       "    </tr>\n",
       "    <tr>\n",
       "      <th>R^2 between</th>\n",
       "      <td>0.858</td>\n",
       "      <td>0.872</td>\n",
       "    </tr>\n",
       "    <tr>\n",
       "      <th>R^2</th>\n",
       "      <td>0.689</td>\n",
       "      <td>0.883</td>\n",
       "    </tr>\n",
       "    <tr>\n",
       "      <th>N time</th>\n",
       "      <td>37.0</td>\n",
       "      <td>32.0</td>\n",
       "    </tr>\n",
       "    <tr>\n",
       "      <th>N entity</th>\n",
       "      <td>165.0</td>\n",
       "      <td>104.0</td>\n",
       "    </tr>\n",
       "    <tr>\n",
       "      <th>N</th>\n",
       "      <td>1132.0</td>\n",
       "      <td>711.0</td>\n",
       "    </tr>\n",
       "    <tr>\n",
       "      <th>Entity effects</th>\n",
       "      <td>1.0</td>\n",
       "      <td>1.0</td>\n",
       "    </tr>\n",
       "  </tbody>\n",
       "</table>\n",
       "</div>"
      ],
      "text/plain": [
       "                                      print                     \n",
       "                                    pi_perc            pi_perc_1\n",
       "hhinc_midpoint.2250.0        0.001  [0.078]     -0.006  [-1.284]\n",
       "hhinc_midpoint.9000.0       0.006 * [1.758]    0.006 *** [2.876]\n",
       "hhinc_midpoint.750.0        -0.01  [-1.408]                  NaN\n",
       "hhinc_midpoint.7000.0   -0.007 *** [-4.569]  -0.007 *** [-7.987]\n",
       "hhinc_midpoint.5500.0    -0.009 *** [-2.65]  -0.012 *** [-7.475]\n",
       "hhinc_midpoint.4250.0      -0.003  [-0.608]  -0.008 *** [-3.525]\n",
       "hhinc_midpoint.3750.0      -0.007  [-1.282]  -0.009 *** [-3.076]\n",
       "hhinc_midpoint.3250.0      -0.01 * [-1.737]  -0.012 *** [-3.762]\n",
       "hhinc_midpoint.2750.0      -0.009  [-1.345]    -0.01 ** [-2.383]\n",
       "pi_de_estimate_Y         1.356 *** [26.622]    1.46 *** [41.486]\n",
       "pi_de_surprise_Y         -0.187 ** [-2.199]  -0.222 *** [-4.069]\n",
       "hhinc_midpoint.1250.0      -0.006  [-0.554]          0.0  [0.01]\n",
       "hhinc_midpoint.12000.0    0.012 *** [4.419]                  NaN\n",
       "T_sum_ind_diff              -0.01  [-0.491]     -0.015  [-0.949]\n",
       "hhinc_midpoint.1750.0      -0.006  [-0.592]     -0.01 * [-1.903]\n",
       "R^2 between                           0.858                0.872\n",
       "R^2                                   0.689                0.883\n",
       "N time                                 37.0                 32.0\n",
       "N entity                              165.0                104.0\n",
       "N                                    1132.0                711.0\n",
       "Entity effects                          1.0                  1.0"
      ]
     },
     "execution_count": 237,
     "metadata": {},
     "output_type": "execute_result"
    }
   ],
   "source": [
    "out = get_statsmodels_summary([m_fe11, m_fe1_], ['print'], seperator=\" \", is_filt_sig=False)\n",
    "out"
   ]
  },
  {
   "cell_type": "code",
   "execution_count": 238,
   "id": "18230a01-e417-4476-b656-da69339c295c",
   "metadata": {},
   "outputs": [],
   "source": [
    "name, i = dep_col[0], 1\n",
    "while (name in dict_fe_test_res.keys()) == True:\n",
    "    name += str(i)\n",
    "dict_fe_test_res[name] = pols_get_test_res(m_fe11, m_re, sub, cols)['print']"
   ]
  },
  {
   "cell_type": "markdown",
   "id": "d8c42828-410b-4108-95d1-1918428c912d",
   "metadata": {},
   "source": [
    "## pi perc 2"
   ]
  },
  {
   "cell_type": "code",
   "execution_count": 239,
   "id": "1721df69-84c9-40c8-a984-2bce8476a698",
   "metadata": {},
   "outputs": [],
   "source": [
    "cols = ['T_sum_ind_diff', 'hhinc_midpoint', 'pi_de_surprise_Y_lead1', 'pi_de_estimate_Y_lead1'] #, 'debt',]\n",
    "ind_cols = ['id', 'week_recorded']\n",
    "dep_col = ['pi_perc']"
   ]
  },
  {
   "cell_type": "code",
   "execution_count": 240,
   "id": "258c4303-9af1-4573-96c8-9496ab04daef",
   "metadata": {},
   "outputs": [],
   "source": [
    "filt = df_micro.groupby(ind_cols)[dep_col].last().dropna().unstack().count(axis=1)\n",
    "# filt.describe()"
   ]
  },
  {
   "cell_type": "code",
   "execution_count": 241,
   "id": "cae5d234-1982-4153-b809-ca400c023a7f",
   "metadata": {},
   "outputs": [],
   "source": [
    "i = 6\n",
    "sub = df_micro.set_index('id').loc[filt[filt > i].index].reset_index().groupby(ind_cols).last()\n",
    "sub = sub[cols + dep_col].dropna()"
   ]
  },
  {
   "cell_type": "code",
   "execution_count": 242,
   "id": "92a2a40e-3dbb-4385-b4d3-9467c463de8b",
   "metadata": {},
   "outputs": [],
   "source": [
    "filt = sub.reset_index().groupby(ind_cols)[dep_col].last().unstack().count(axis=1)\n",
    "# filt.describe()"
   ]
  },
  {
   "cell_type": "code",
   "execution_count": 243,
   "id": "488da222-4728-40c2-bdee-04bac682ed04",
   "metadata": {},
   "outputs": [
    {
     "data": {
      "text/plain": [
       "((1132, 5), 1132)"
      ]
     },
     "execution_count": 243,
     "metadata": {},
     "output_type": "execute_result"
    }
   ],
   "source": [
    "sub.shape, filt.sum()"
   ]
  },
  {
   "cell_type": "code",
   "execution_count": 244,
   "id": "3fc4394b-8bd9-468b-aecb-b72039d77a21",
   "metadata": {},
   "outputs": [],
   "source": [
    "m_fe12 = PanelOLS(sub[dep_col], sub[cols], entity_effects=True, ).fit(cov_type='clustered', cluster_entity=True)\n",
    "m_re = RandomEffects(sub[dep_col], sub[cols]).fit()"
   ]
  },
  {
   "cell_type": "code",
   "execution_count": 245,
   "id": "e6a8ef53-512c-424d-b327-c4449cfc5d34",
   "metadata": {},
   "outputs": [
    {
     "name": "stderr",
     "output_type": "stream",
     "text": [
      "C:\\Users\\LukasGrahl\\AppData\\Local\\Temp\\ipykernel_30800\\1443597657.py:4: AbsorbingEffectWarning: \n",
      "Variables have been fully absorbed and have removed from the regression:\n",
      "\n",
      "hhinc_midpoint.750.0, hhinc_midpoint.12000.0\n",
      "\n",
      "  entity_effects=True, drop_absorbed=True, check_rank=False).fit(cov_type=\"clustered\", cluster_entity=True)\n"
     ]
    }
   ],
   "source": [
    "dist, filt = get_cooks_distance(sub[cols].values.astype(float), m_fe12.resids.values, flt_largest_perc=90.)\n",
    "sub2 = sub.drop(sub.loc[filt].index.get_level_values(0))\n",
    "m_fe_ = PanelOLS(sub2[dep_col], sub2[cols],\n",
    "                   entity_effects=True, drop_absorbed=True, check_rank=False).fit(cov_type=\"clustered\", cluster_entity=True)"
   ]
  },
  {
   "cell_type": "code",
   "execution_count": 246,
   "id": "0753e6d9-307a-40de-8c9c-f9bdabf8cafa",
   "metadata": {},
   "outputs": [],
   "source": [
    "out = get_statsmodels_summary([m_fe12, m_fe_], ['print'], seperator=\" \", is_filt_sig=False)\n",
    "# out"
   ]
  },
  {
   "cell_type": "code",
   "execution_count": 247,
   "id": "f6869835-8050-4879-abff-4c7aa414982e",
   "metadata": {},
   "outputs": [],
   "source": [
    "name, i = dep_col[0], 1\n",
    "while (name in dict_fe_test_res.keys()) == True:\n",
    "    name += str(i)\n",
    "dict_fe_test_res[name] = pols_get_test_res(m_fe12, m_re, sub, cols)['print']"
   ]
  },
  {
   "cell_type": "markdown",
   "id": "727a7def-bebb-42c3-9eaf-4e86294e714c",
   "metadata": {},
   "source": [
    "## delta pe 1"
   ]
  },
  {
   "cell_type": "code",
   "execution_count": 248,
   "id": "75192424-cd5e-45b5-9698-47500c6a520d",
   "metadata": {},
   "outputs": [],
   "source": [
    "cols = ['T_sum_ind_diff', 'hhinc_midpoint', 'pi_de_surprise_Y', 'pi_de_estimate_Y', 'is_unempl'] #, 'is_unempl', 'wealth_bank',]  #'debt',]\n",
    "ind_cols = ['id', 'week_recorded']\n",
    "dep_col = ['delta_pe']"
   ]
  },
  {
   "cell_type": "code",
   "execution_count": 249,
   "id": "de2ee5e4-7d2c-4bc3-97e0-77b7333c672c",
   "metadata": {},
   "outputs": [],
   "source": [
    "filt = df_micro.groupby(ind_cols)[dep_col].last().dropna().unstack().count(axis=1)\n",
    "# filt.describe()"
   ]
  },
  {
   "cell_type": "code",
   "execution_count": 250,
   "id": "cc10b9e8-fce1-4d9c-a48a-be4e835b0b5e",
   "metadata": {},
   "outputs": [],
   "source": [
    "i = 11\n",
    "sub = df_micro.set_index('id').loc[filt[filt > i].index].reset_index().groupby(ind_cols).last()\n",
    "sub = sub[cols + dep_col].dropna()"
   ]
  },
  {
   "cell_type": "code",
   "execution_count": 251,
   "id": "b527ad13-458f-4767-90c1-02d9e0273c4c",
   "metadata": {},
   "outputs": [],
   "source": [
    "filt = sub.reset_index().groupby(ind_cols)[dep_col].last().unstack().count(axis=1)\n",
    "# filt.describe()"
   ]
  },
  {
   "cell_type": "code",
   "execution_count": 252,
   "id": "84b0939e-a964-499e-89d2-38f4238c37d1",
   "metadata": {},
   "outputs": [
    {
     "data": {
      "text/plain": [
       "((3525, 6), 3525)"
      ]
     },
     "execution_count": 252,
     "metadata": {},
     "output_type": "execute_result"
    }
   ],
   "source": [
    "sub.shape, filt.sum()"
   ]
  },
  {
   "cell_type": "code",
   "execution_count": 253,
   "id": "87ddecb8-f7c7-4365-8579-35367492fca5",
   "metadata": {},
   "outputs": [],
   "source": [
    "m_fe2 = PanelOLS(sub[dep_col], sub[cols], entity_effects=True).fit(cov_type='clustered', cluster_entity=True)\n",
    "m_re = RandomEffects(sub[dep_col], sub[cols]).fit()"
   ]
  },
  {
   "cell_type": "code",
   "execution_count": 254,
   "id": "518fa45e-5432-4a3d-ad70-163fe92c6ff5",
   "metadata": {},
   "outputs": [],
   "source": [
    "name, i = dep_col[0], 1\n",
    "while (name in dict_fe_test_res.keys()) == True:\n",
    "    name += str(i)\n",
    "dict_fe_test_res[name] = pols_get_test_res(m_fe2, m_re, sub, cols)['print']"
   ]
  },
  {
   "cell_type": "markdown",
   "id": "eec42fa6-d75b-4b87-a165-d51d8514330e",
   "metadata": {},
   "source": [
    "## pi perc resid"
   ]
  },
  {
   "cell_type": "code",
   "execution_count": 255,
   "id": "3153bf83-445a-4ce7-9c8b-1646615758ec",
   "metadata": {},
   "outputs": [],
   "source": [
    "cols = ['T_sum_ind_diff', 'hhinc_midpoint', 'pi_de_surprise_Y', 'pi_de_estimate_Y',] # 'is_unempl' ] #'debt', 'is_unempl', 'wealth_bank',]  #'debt',]\n",
    "ind_cols = ['id', 'week_recorded']\n",
    "dep_col = ['pi_perc_error']"
   ]
  },
  {
   "cell_type": "code",
   "execution_count": 256,
   "id": "66b5db06-5112-4a3e-9e43-ca5cbba831b7",
   "metadata": {},
   "outputs": [],
   "source": [
    "filt = df_micro.groupby(ind_cols)[dep_col].last().dropna().unstack().count(axis=1)\n",
    "# filt.describe()"
   ]
  },
  {
   "cell_type": "code",
   "execution_count": 257,
   "id": "8526e6d8-df46-4bdd-a14c-4b780202de06",
   "metadata": {},
   "outputs": [],
   "source": [
    "i = 6\n",
    "sub = df_micro.set_index('id').loc[filt[filt > i].index].reset_index().groupby(ind_cols).last()\n",
    "sub = sub[cols + dep_col].dropna()"
   ]
  },
  {
   "cell_type": "code",
   "execution_count": 258,
   "id": "a57edcfb-2cc3-41f2-b8f6-188c99cc9b7e",
   "metadata": {},
   "outputs": [],
   "source": [
    "filt = sub.reset_index().groupby(ind_cols)[dep_col].last().unstack().count(axis=1)\n",
    "# filt.describe()"
   ]
  },
  {
   "cell_type": "code",
   "execution_count": 259,
   "id": "65f87bb4-45e0-45bb-96a5-3017fe2bd099",
   "metadata": {},
   "outputs": [
    {
     "data": {
      "text/plain": [
       "((1132, 5), 1132)"
      ]
     },
     "execution_count": 259,
     "metadata": {},
     "output_type": "execute_result"
    }
   ],
   "source": [
    "sub.shape, filt.sum()"
   ]
  },
  {
   "cell_type": "code",
   "execution_count": 260,
   "id": "1a26f2f8-7ff6-4ce2-be0f-8ce516540be3",
   "metadata": {},
   "outputs": [],
   "source": [
    "m_fe41 = PanelOLS(sub[dep_col], sub[cols], entity_effects=True).fit(cov_type='clustered', cluster_entity=True)\n",
    "m_re = RandomEffects(sub[dep_col], sub[cols]).fit()\n",
    "# m_fe4.summary"
   ]
  },
  {
   "cell_type": "code",
   "execution_count": 261,
   "id": "86057497-25c8-4c6d-827e-b554070cde65",
   "metadata": {},
   "outputs": [],
   "source": [
    "name, i = dep_col[0], 1\n",
    "while (name in dict_fe_test_res.keys()) == True:\n",
    "    name += str(i)\n",
    "dict_fe_test_res[name] = pols_get_test_res(m_fe41, m_re, sub, cols)['print']"
   ]
  },
  {
   "cell_type": "markdown",
   "id": "0a2fa49d-ba0a-4b48-9287-488600954257",
   "metadata": {},
   "source": [
    "## pi perc resid 2"
   ]
  },
  {
   "cell_type": "code",
   "execution_count": 262,
   "id": "9b05dcc0-7dfd-4627-b7fd-668c0b71f7de",
   "metadata": {},
   "outputs": [],
   "source": [
    "cols = ['T_sum_ind_diff', 'pi_de_surprise_Y_lead1', 'pi_de_estimate_Y_lead1', 'hhinc_midpoint',] # 'is_unempl' ] #'debt', 'is_unempl', 'wealth_bank',]  #'debt',]\n",
    "ind_cols = ['id', 'week_recorded']\n",
    "dep_col = ['pi_perc_error']"
   ]
  },
  {
   "cell_type": "code",
   "execution_count": 263,
   "id": "267f56b5-f274-433c-8835-e79225dea2c2",
   "metadata": {},
   "outputs": [],
   "source": [
    "filt = df_micro.groupby(ind_cols)[dep_col].last().dropna().unstack().count(axis=1)\n",
    "# filt.describe()"
   ]
  },
  {
   "cell_type": "code",
   "execution_count": 264,
   "id": "d536286b-d0bf-4de1-913d-cc4d068aa87f",
   "metadata": {},
   "outputs": [],
   "source": [
    "i = 6\n",
    "sub = df_micro.set_index('id').loc[filt[filt > i].index].reset_index().groupby(ind_cols).last()\n",
    "sub = sub[cols + dep_col].dropna()"
   ]
  },
  {
   "cell_type": "code",
   "execution_count": 265,
   "id": "a6b682aa-2beb-424b-89d9-281f4a81a739",
   "metadata": {},
   "outputs": [],
   "source": [
    "filt = sub.reset_index().groupby(ind_cols)[dep_col].last().unstack().count(axis=1)\n",
    "# filt.describe()"
   ]
  },
  {
   "cell_type": "code",
   "execution_count": 266,
   "id": "d30027e1-503a-4276-9b35-cb0621bc8eca",
   "metadata": {},
   "outputs": [
    {
     "data": {
      "text/plain": [
       "((1132, 5), 1132)"
      ]
     },
     "execution_count": 266,
     "metadata": {},
     "output_type": "execute_result"
    }
   ],
   "source": [
    "sub.shape, filt.sum()"
   ]
  },
  {
   "cell_type": "code",
   "execution_count": 267,
   "id": "f8bf8840-3e82-4990-93fe-9ba5f91e0c35",
   "metadata": {},
   "outputs": [],
   "source": [
    "m_fe42 = PanelOLS(sub[dep_col], sub[cols], entity_effects=True).fit(cov_type='clustered', cluster_entity=True)\n",
    "m_re = RandomEffects(sub[dep_col], sub[cols]).fit()\n",
    "# m_fe4.summary"
   ]
  },
  {
   "cell_type": "code",
   "execution_count": 268,
   "id": "7ae154c6-4a5e-4cec-9897-98969b51e869",
   "metadata": {},
   "outputs": [],
   "source": [
    "name, i = dep_col[0], 1\n",
    "while (name in dict_fe_test_res.keys()) == True:\n",
    "    name += str(i)\n",
    "dict_fe_test_res[name] = pols_get_test_res(m_fe42, m_re, sub, cols)['print']"
   ]
  },
  {
   "cell_type": "markdown",
   "id": "3e3ff03a-f6cc-43e5-a76c-767dc11b5fbd",
   "metadata": {},
   "source": [
    "## delta pe resid"
   ]
  },
  {
   "cell_type": "code",
   "execution_count": 269,
   "id": "2e6d15bb-7e55-43a5-99a2-1b24d3317027",
   "metadata": {},
   "outputs": [],
   "source": [
    "cols = ['T_sum_ind_diff', 'pi_de_surprise_Y', 'pi_de_estimate_Y', 'hhinc_midpoint', 'is_unempl', ] #'wealth_bank',]  #'debt',]\n",
    "ind_cols = ['id', 'week_recorded']\n",
    "dep_col = ['delta_pe_error']"
   ]
  },
  {
   "cell_type": "code",
   "execution_count": 270,
   "id": "4c1b95f7-2aad-4606-acd7-04b5cb2c4114",
   "metadata": {},
   "outputs": [],
   "source": [
    "filt = df_micro.groupby(ind_cols)[dep_col].last().dropna().unstack().count(axis=1)\n",
    "# filt.describe()"
   ]
  },
  {
   "cell_type": "code",
   "execution_count": 271,
   "id": "c7cf089a-9e3f-4dc6-aff1-c161b75ddeec",
   "metadata": {},
   "outputs": [],
   "source": [
    "i = 10\n",
    "sub = df_micro.set_index('id').loc[filt[filt > i].index].reset_index().groupby(ind_cols).last()\n",
    "sub = sub[cols + dep_col].dropna()"
   ]
  },
  {
   "cell_type": "code",
   "execution_count": 272,
   "id": "48928c6a-786d-408a-b5f7-70064fa284c5",
   "metadata": {},
   "outputs": [],
   "source": [
    "filt = sub.reset_index().groupby(ind_cols)[dep_col].last().unstack().count(axis=1)\n",
    "# filt.describe()"
   ]
  },
  {
   "cell_type": "code",
   "execution_count": 273,
   "id": "3bbc4579-fff2-4258-aa86-a3d7ab3ca25e",
   "metadata": {},
   "outputs": [
    {
     "data": {
      "text/plain": [
       "((13925, 6), 13925)"
      ]
     },
     "execution_count": 273,
     "metadata": {},
     "output_type": "execute_result"
    }
   ],
   "source": [
    "sub.shape, filt.sum()"
   ]
  },
  {
   "cell_type": "code",
   "execution_count": 274,
   "id": "1206cd6e-1a9a-4ff5-a467-63644fcf2743",
   "metadata": {},
   "outputs": [],
   "source": [
    "m_fe5 = PanelOLS(sub[dep_col], sub[cols], entity_effects=True).fit(cov_type='clustered', cluster_entity=True)\n",
    "m_re = RandomEffects(sub[dep_col], sub[cols]).fit()\n",
    "# print(m_fe5)"
   ]
  },
  {
   "cell_type": "code",
   "execution_count": 275,
   "id": "30e80ed8-f992-446f-a1d4-faee85381133",
   "metadata": {},
   "outputs": [],
   "source": [
    "name, i = dep_col[0], 1\n",
    "while (name in dict_fe_test_res.keys()) == True:\n",
    "    name += str(i)\n",
    "dict_fe_test_res[name] = pols_get_test_res(m_fe5, m_re, sub, cols)['print']"
   ]
  },
  {
   "cell_type": "markdown",
   "id": "4fba78f4-e4b4-4fbd-88a7-17b30aa018a7",
   "metadata": {},
   "source": [
    "## summary"
   ]
  },
  {
   "cell_type": "code",
   "execution_count": 276,
   "id": "e1b8b97d-607d-4611-aaeb-5241df2a1209",
   "metadata": {},
   "outputs": [],
   "source": [
    "lst_fes = [m_fe11, m_fe12, m_fe2, m_fe3, m_fe41, m_fe42, m_fe5]\n",
    "out = get_statsmodels_summary(lst_fes, seperator=\" \", is_filt_sig=False)\n",
    "save_pd_df(out, 'tab_pols.csv', GRAPHS_DIR)"
   ]
  },
  {
   "cell_type": "code",
   "execution_count": 277,
   "id": "cc1eb770-81b7-4c03-a3ac-b07395f49ec8",
   "metadata": {},
   "outputs": [
    {
     "data": {
      "text/html": [
       "<div>\n",
       "<style scoped>\n",
       "    .dataframe tbody tr th:only-of-type {\n",
       "        vertical-align: middle;\n",
       "    }\n",
       "\n",
       "    .dataframe tbody tr th {\n",
       "        vertical-align: top;\n",
       "    }\n",
       "\n",
       "    .dataframe thead th {\n",
       "        text-align: right;\n",
       "    }\n",
       "</style>\n",
       "<table border=\"1\" class=\"dataframe\">\n",
       "  <thead>\n",
       "    <tr style=\"text-align: right;\">\n",
       "      <th></th>\n",
       "      <th>delta_pe</th>\n",
       "      <th>delta_pe_error</th>\n",
       "      <th>pi_exp</th>\n",
       "      <th>pi_perc</th>\n",
       "      <th>pi_perc_1</th>\n",
       "      <th>pi_perc_error</th>\n",
       "      <th>pi_perc_error_5</th>\n",
       "    </tr>\n",
       "  </thead>\n",
       "  <tbody>\n",
       "    <tr>\n",
       "      <th>pi_de_surprise_Y_lead1</th>\n",
       "      <td>NaN</td>\n",
       "      <td>NaN</td>\n",
       "      <td>NaN</td>\n",
       "      <td>NaN</td>\n",
       "      <td>-0.086  [-1.226]</td>\n",
       "      <td>NaN</td>\n",
       "      <td>-1.147 *** [-16.389]</td>\n",
       "    </tr>\n",
       "    <tr>\n",
       "      <th>pi_de_surprise_Y</th>\n",
       "      <td>-0.597 *** [-80.363]</td>\n",
       "      <td>-1.068 *** [-65.647]</td>\n",
       "      <td>0.411 *** [9.999]</td>\n",
       "      <td>-0.187 ** [-2.199]</td>\n",
       "      <td>NaN</td>\n",
       "      <td>-0.656 *** [-7.04]</td>\n",
       "      <td>NaN</td>\n",
       "    </tr>\n",
       "    <tr>\n",
       "      <th>pi_de_estimate_Y_lead1</th>\n",
       "      <td>NaN</td>\n",
       "      <td>NaN</td>\n",
       "      <td>NaN</td>\n",
       "      <td>NaN</td>\n",
       "      <td>1.24 *** [29.274]</td>\n",
       "      <td>NaN</td>\n",
       "      <td>0.233 *** [5.598]</td>\n",
       "    </tr>\n",
       "    <tr>\n",
       "      <th>pi_de_estimate_Y</th>\n",
       "      <td>0.457 *** [83.334]</td>\n",
       "      <td>3.241 *** [149.17]</td>\n",
       "      <td>0.736 *** [22.996]</td>\n",
       "      <td>1.356 *** [26.622]</td>\n",
       "      <td>NaN</td>\n",
       "      <td>-0.037  [-0.669]</td>\n",
       "      <td>NaN</td>\n",
       "    </tr>\n",
       "    <tr>\n",
       "      <th>is_unempl</th>\n",
       "      <td>-0.001  [-0.858]</td>\n",
       "      <td>-0.001  [-0.291]</td>\n",
       "      <td>NaN</td>\n",
       "      <td>NaN</td>\n",
       "      <td>NaN</td>\n",
       "      <td>NaN</td>\n",
       "      <td>NaN</td>\n",
       "    </tr>\n",
       "    <tr>\n",
       "      <th>hhinc_midpoint.9000.0</th>\n",
       "      <td>0.001  [0.683]</td>\n",
       "      <td>-0.001  [-0.168]</td>\n",
       "      <td>-0.022 *** [-2.942]</td>\n",
       "      <td>0.006 * [1.758]</td>\n",
       "      <td>0.002  [0.668]</td>\n",
       "      <td>0.007 ** [2.138]</td>\n",
       "      <td>0.002  [0.456]</td>\n",
       "    </tr>\n",
       "    <tr>\n",
       "      <th>hhinc_midpoint.750.0</th>\n",
       "      <td>-0.001  [-1.471]</td>\n",
       "      <td>-0.005  [-1.196]</td>\n",
       "      <td>-0.016 ** [-2.127]</td>\n",
       "      <td>-0.01  [-1.408]</td>\n",
       "      <td>-0.011  [-1.624]</td>\n",
       "      <td>-0.017 ** [-2.336]</td>\n",
       "      <td>-0.012 * [-1.788]</td>\n",
       "    </tr>\n",
       "    <tr>\n",
       "      <th>hhinc_midpoint.7000.0</th>\n",
       "      <td>-0.001  [-0.952]</td>\n",
       "      <td>-0.005  [-1.019]</td>\n",
       "      <td>-0.018 *** [-2.604]</td>\n",
       "      <td>-0.007 *** [-4.569]</td>\n",
       "      <td>-0.009 *** [-6.98]</td>\n",
       "      <td>-0.007 *** [-4.676]</td>\n",
       "      <td>-0.01 *** [-7.328]</td>\n",
       "    </tr>\n",
       "    <tr>\n",
       "      <th>hhinc_midpoint.5500.0</th>\n",
       "      <td>-0.001  [-0.73]</td>\n",
       "      <td>-0.003  [-0.673]</td>\n",
       "      <td>-0.016 ** [-2.31]</td>\n",
       "      <td>-0.009 *** [-2.65]</td>\n",
       "      <td>-0.012 *** [-3.59]</td>\n",
       "      <td>-0.01 *** [-2.853]</td>\n",
       "      <td>-0.012 *** [-3.708]</td>\n",
       "    </tr>\n",
       "    <tr>\n",
       "      <th>hhinc_midpoint.4250.0</th>\n",
       "      <td>-0.001  [-0.813]</td>\n",
       "      <td>-0.003  [-0.666]</td>\n",
       "      <td>-0.016 ** [-2.367]</td>\n",
       "      <td>-0.003  [-0.608]</td>\n",
       "      <td>-0.005  [-0.959]</td>\n",
       "      <td>-0.005  [-0.968]</td>\n",
       "      <td>-0.006  [-1.058]</td>\n",
       "    </tr>\n",
       "    <tr>\n",
       "      <th>hhinc_midpoint.3750.0</th>\n",
       "      <td>-0.001  [-0.873]</td>\n",
       "      <td>-0.003  [-0.683]</td>\n",
       "      <td>-0.013 * [-1.92]</td>\n",
       "      <td>-0.007  [-1.282]</td>\n",
       "      <td>-0.01 * [-1.893]</td>\n",
       "      <td>-0.007  [-1.327]</td>\n",
       "      <td>-0.01 ** [-1.969]</td>\n",
       "    </tr>\n",
       "    <tr>\n",
       "      <th>hhinc_midpoint.3250.0</th>\n",
       "      <td>-0.0  [-0.089]</td>\n",
       "      <td>-0.002  [-0.4]</td>\n",
       "      <td>-0.014 ** [-2.021]</td>\n",
       "      <td>-0.01 * [-1.737]</td>\n",
       "      <td>-0.013 ** [-2.275]</td>\n",
       "      <td>-0.011 * [-1.814]</td>\n",
       "      <td>-0.014 ** [-2.378]</td>\n",
       "    </tr>\n",
       "    <tr>\n",
       "      <th>hhinc_midpoint.2750.0</th>\n",
       "      <td>-0.0  [-0.335]</td>\n",
       "      <td>-0.0  [-0.061]</td>\n",
       "      <td>-0.012 * [-1.671]</td>\n",
       "      <td>-0.009  [-1.345]</td>\n",
       "      <td>-0.012 * [-1.883]</td>\n",
       "      <td>-0.009  [-1.241]</td>\n",
       "      <td>-0.013 ** [-1.978]</td>\n",
       "    </tr>\n",
       "    <tr>\n",
       "      <th>hhinc_midpoint.2250.0</th>\n",
       "      <td>-0.0  [-0.044]</td>\n",
       "      <td>0.001  [0.241]</td>\n",
       "      <td>-0.011  [-1.544]</td>\n",
       "      <td>0.001  [0.078]</td>\n",
       "      <td>-0.003  [-0.411]</td>\n",
       "      <td>0.0  [0.052]</td>\n",
       "      <td>-0.003  [-0.492]</td>\n",
       "    </tr>\n",
       "    <tr>\n",
       "      <th>hhinc_midpoint.1750.0</th>\n",
       "      <td>-0.001  [-0.719]</td>\n",
       "      <td>0.001  [0.117]</td>\n",
       "      <td>-0.015 ** [-2.017]</td>\n",
       "      <td>-0.006  [-0.592]</td>\n",
       "      <td>-0.009  [-0.957]</td>\n",
       "      <td>-0.002  [-0.17]</td>\n",
       "      <td>-0.01  [-1.04]</td>\n",
       "    </tr>\n",
       "    <tr>\n",
       "      <th>hhinc_midpoint.1250.0</th>\n",
       "      <td>-0.0  [-0.04]</td>\n",
       "      <td>0.004  [0.907]</td>\n",
       "      <td>-0.012  [-1.631]</td>\n",
       "      <td>-0.006  [-0.554]</td>\n",
       "      <td>-0.01  [-1.018]</td>\n",
       "      <td>-0.005  [-0.474]</td>\n",
       "      <td>-0.011  [-1.085]</td>\n",
       "    </tr>\n",
       "    <tr>\n",
       "      <th>hhinc_midpoint.12000.0</th>\n",
       "      <td>0.002 * [1.694]</td>\n",
       "      <td>-0.005  [-0.839]</td>\n",
       "      <td>-0.023 *** [-2.735]</td>\n",
       "      <td>0.012 *** [4.419]</td>\n",
       "      <td>0.003  [0.922]</td>\n",
       "      <td>0.015 *** [5.17]</td>\n",
       "      <td>0.007 ** [2.581]</td>\n",
       "    </tr>\n",
       "    <tr>\n",
       "      <th>T_sum_ind_diff</th>\n",
       "      <td>0.073 *** [16.754]</td>\n",
       "      <td>-0.036 *** [-8.123]</td>\n",
       "      <td>-0.089 *** [-6.12]</td>\n",
       "      <td>-0.01  [-0.491]</td>\n",
       "      <td>-0.029  [-1.459]</td>\n",
       "      <td>0.003  [0.153]</td>\n",
       "      <td>-0.031  [-1.565]</td>\n",
       "    </tr>\n",
       "    <tr>\n",
       "      <th>R^2 between</th>\n",
       "      <td>0.94</td>\n",
       "      <td>-11.291</td>\n",
       "      <td>0.508</td>\n",
       "      <td>0.858</td>\n",
       "      <td>0.787</td>\n",
       "      <td>-0.408</td>\n",
       "      <td>-2.09</td>\n",
       "    </tr>\n",
       "    <tr>\n",
       "      <th>R^2</th>\n",
       "      <td>0.349</td>\n",
       "      <td>0.842</td>\n",
       "      <td>0.499</td>\n",
       "      <td>0.689</td>\n",
       "      <td>0.699</td>\n",
       "      <td>0.183</td>\n",
       "      <td>0.329</td>\n",
       "    </tr>\n",
       "    <tr>\n",
       "      <th>N time</th>\n",
       "      <td>47.0</td>\n",
       "      <td>65.0</td>\n",
       "      <td>53.0</td>\n",
       "      <td>37.0</td>\n",
       "      <td>37.0</td>\n",
       "      <td>37.0</td>\n",
       "      <td>37.0</td>\n",
       "    </tr>\n",
       "    <tr>\n",
       "      <th>N entity</th>\n",
       "      <td>299.0</td>\n",
       "      <td>1276.0</td>\n",
       "      <td>419.0</td>\n",
       "      <td>165.0</td>\n",
       "      <td>165.0</td>\n",
       "      <td>165.0</td>\n",
       "      <td>165.0</td>\n",
       "    </tr>\n",
       "    <tr>\n",
       "      <th>N</th>\n",
       "      <td>3525.0</td>\n",
       "      <td>13925.0</td>\n",
       "      <td>4892.0</td>\n",
       "      <td>1132.0</td>\n",
       "      <td>1132.0</td>\n",
       "      <td>1132.0</td>\n",
       "      <td>1132.0</td>\n",
       "    </tr>\n",
       "    <tr>\n",
       "      <th>Entity effects</th>\n",
       "      <td>1.0</td>\n",
       "      <td>1.0</td>\n",
       "      <td>1.0</td>\n",
       "      <td>1.0</td>\n",
       "      <td>1.0</td>\n",
       "      <td>1.0</td>\n",
       "      <td>1.0</td>\n",
       "    </tr>\n",
       "  </tbody>\n",
       "</table>\n",
       "</div>"
      ],
      "text/plain": [
       "                                    delta_pe        delta_pe_error  \\\n",
       "pi_de_surprise_Y_lead1                   NaN                   NaN   \n",
       "pi_de_surprise_Y        -0.597 *** [-80.363]  -1.068 *** [-65.647]   \n",
       "pi_de_estimate_Y_lead1                   NaN                   NaN   \n",
       "pi_de_estimate_Y          0.457 *** [83.334]    3.241 *** [149.17]   \n",
       "is_unempl                   -0.001  [-0.858]      -0.001  [-0.291]   \n",
       "hhinc_midpoint.9000.0         0.001  [0.683]      -0.001  [-0.168]   \n",
       "hhinc_midpoint.750.0        -0.001  [-1.471]      -0.005  [-1.196]   \n",
       "hhinc_midpoint.7000.0       -0.001  [-0.952]      -0.005  [-1.019]   \n",
       "hhinc_midpoint.5500.0        -0.001  [-0.73]      -0.003  [-0.673]   \n",
       "hhinc_midpoint.4250.0       -0.001  [-0.813]      -0.003  [-0.666]   \n",
       "hhinc_midpoint.3750.0       -0.001  [-0.873]      -0.003  [-0.683]   \n",
       "hhinc_midpoint.3250.0         -0.0  [-0.089]        -0.002  [-0.4]   \n",
       "hhinc_midpoint.2750.0         -0.0  [-0.335]        -0.0  [-0.061]   \n",
       "hhinc_midpoint.2250.0         -0.0  [-0.044]        0.001  [0.241]   \n",
       "hhinc_midpoint.1750.0       -0.001  [-0.719]        0.001  [0.117]   \n",
       "hhinc_midpoint.1250.0          -0.0  [-0.04]        0.004  [0.907]   \n",
       "hhinc_midpoint.12000.0       0.002 * [1.694]      -0.005  [-0.839]   \n",
       "T_sum_ind_diff            0.073 *** [16.754]   -0.036 *** [-8.123]   \n",
       "R^2 between                             0.94               -11.291   \n",
       "R^2                                    0.349                 0.842   \n",
       "N time                                  47.0                  65.0   \n",
       "N entity                               299.0                1276.0   \n",
       "N                                     3525.0               13925.0   \n",
       "Entity effects                           1.0                   1.0   \n",
       "\n",
       "                                     pi_exp              pi_perc  \\\n",
       "pi_de_surprise_Y_lead1                  NaN                  NaN   \n",
       "pi_de_surprise_Y          0.411 *** [9.999]   -0.187 ** [-2.199]   \n",
       "pi_de_estimate_Y_lead1                  NaN                  NaN   \n",
       "pi_de_estimate_Y         0.736 *** [22.996]   1.356 *** [26.622]   \n",
       "is_unempl                               NaN                  NaN   \n",
       "hhinc_midpoint.9000.0   -0.022 *** [-2.942]      0.006 * [1.758]   \n",
       "hhinc_midpoint.750.0     -0.016 ** [-2.127]      -0.01  [-1.408]   \n",
       "hhinc_midpoint.7000.0   -0.018 *** [-2.604]  -0.007 *** [-4.569]   \n",
       "hhinc_midpoint.5500.0     -0.016 ** [-2.31]   -0.009 *** [-2.65]   \n",
       "hhinc_midpoint.4250.0    -0.016 ** [-2.367]     -0.003  [-0.608]   \n",
       "hhinc_midpoint.3750.0      -0.013 * [-1.92]     -0.007  [-1.282]   \n",
       "hhinc_midpoint.3250.0    -0.014 ** [-2.021]     -0.01 * [-1.737]   \n",
       "hhinc_midpoint.2750.0     -0.012 * [-1.671]     -0.009  [-1.345]   \n",
       "hhinc_midpoint.2250.0      -0.011  [-1.544]       0.001  [0.078]   \n",
       "hhinc_midpoint.1750.0    -0.015 ** [-2.017]     -0.006  [-0.592]   \n",
       "hhinc_midpoint.1250.0      -0.012  [-1.631]     -0.006  [-0.554]   \n",
       "hhinc_midpoint.12000.0  -0.023 *** [-2.735]    0.012 *** [4.419]   \n",
       "T_sum_ind_diff           -0.089 *** [-6.12]      -0.01  [-0.491]   \n",
       "R^2 between                           0.508                0.858   \n",
       "R^2                                   0.499                0.689   \n",
       "N time                                 53.0                 37.0   \n",
       "N entity                              419.0                165.0   \n",
       "N                                    4892.0               1132.0   \n",
       "Entity effects                          1.0                  1.0   \n",
       "\n",
       "                                 pi_perc_1        pi_perc_error  \\\n",
       "pi_de_surprise_Y_lead1    -0.086  [-1.226]                  NaN   \n",
       "pi_de_surprise_Y                       NaN   -0.656 *** [-7.04]   \n",
       "pi_de_estimate_Y_lead1   1.24 *** [29.274]                  NaN   \n",
       "pi_de_estimate_Y                       NaN     -0.037  [-0.669]   \n",
       "is_unempl                              NaN                  NaN   \n",
       "hhinc_midpoint.9000.0       0.002  [0.668]     0.007 ** [2.138]   \n",
       "hhinc_midpoint.750.0      -0.011  [-1.624]   -0.017 ** [-2.336]   \n",
       "hhinc_midpoint.7000.0   -0.009 *** [-6.98]  -0.007 *** [-4.676]   \n",
       "hhinc_midpoint.5500.0   -0.012 *** [-3.59]   -0.01 *** [-2.853]   \n",
       "hhinc_midpoint.4250.0     -0.005  [-0.959]     -0.005  [-0.968]   \n",
       "hhinc_midpoint.3750.0     -0.01 * [-1.893]     -0.007  [-1.327]   \n",
       "hhinc_midpoint.3250.0   -0.013 ** [-2.275]    -0.011 * [-1.814]   \n",
       "hhinc_midpoint.2750.0    -0.012 * [-1.883]     -0.009  [-1.241]   \n",
       "hhinc_midpoint.2250.0     -0.003  [-0.411]         0.0  [0.052]   \n",
       "hhinc_midpoint.1750.0     -0.009  [-0.957]      -0.002  [-0.17]   \n",
       "hhinc_midpoint.1250.0      -0.01  [-1.018]     -0.005  [-0.474]   \n",
       "hhinc_midpoint.12000.0      0.003  [0.922]     0.015 *** [5.17]   \n",
       "T_sum_ind_diff            -0.029  [-1.459]       0.003  [0.153]   \n",
       "R^2 between                          0.787               -0.408   \n",
       "R^2                                  0.699                0.183   \n",
       "N time                                37.0                 37.0   \n",
       "N entity                             165.0                165.0   \n",
       "N                                   1132.0               1132.0   \n",
       "Entity effects                         1.0                  1.0   \n",
       "\n",
       "                             pi_perc_error_5  \n",
       "pi_de_surprise_Y_lead1  -1.147 *** [-16.389]  \n",
       "pi_de_surprise_Y                         NaN  \n",
       "pi_de_estimate_Y_lead1     0.233 *** [5.598]  \n",
       "pi_de_estimate_Y                         NaN  \n",
       "is_unempl                                NaN  \n",
       "hhinc_midpoint.9000.0         0.002  [0.456]  \n",
       "hhinc_midpoint.750.0       -0.012 * [-1.788]  \n",
       "hhinc_midpoint.7000.0     -0.01 *** [-7.328]  \n",
       "hhinc_midpoint.5500.0    -0.012 *** [-3.708]  \n",
       "hhinc_midpoint.4250.0       -0.006  [-1.058]  \n",
       "hhinc_midpoint.3750.0      -0.01 ** [-1.969]  \n",
       "hhinc_midpoint.3250.0     -0.014 ** [-2.378]  \n",
       "hhinc_midpoint.2750.0     -0.013 ** [-1.978]  \n",
       "hhinc_midpoint.2250.0       -0.003  [-0.492]  \n",
       "hhinc_midpoint.1750.0         -0.01  [-1.04]  \n",
       "hhinc_midpoint.1250.0       -0.011  [-1.085]  \n",
       "hhinc_midpoint.12000.0      0.007 ** [2.581]  \n",
       "T_sum_ind_diff              -0.031  [-1.565]  \n",
       "R^2 between                            -2.09  \n",
       "R^2                                    0.329  \n",
       "N time                                  37.0  \n",
       "N entity                               165.0  \n",
       "N                                     1132.0  \n",
       "Entity effects                           1.0  "
      ]
     },
     "execution_count": 277,
     "metadata": {},
     "output_type": "execute_result"
    }
   ],
   "source": [
    "out.sort_index(ascending=False)"
   ]
  },
  {
   "cell_type": "code",
   "execution_count": 284,
   "id": "763af196-d9fb-41cc-9352-c6a56f3c8586",
   "metadata": {},
   "outputs": [
    {
     "data": {
      "text/plain": [
       "Breusch Pagan Test      False \\n[0.505]\n",
       "Durbin-Watson Test                1.858\n",
       "Hausmann Test         False \\n[-17.463]\n",
       "Name: print, dtype: object"
      ]
     },
     "execution_count": 284,
     "metadata": {},
     "output_type": "execute_result"
    }
   ],
   "source": [
    "dict_fe_test_res['pi_perc']"
   ]
  },
  {
   "cell_type": "code",
   "execution_count": 285,
   "id": "e7f2e373-ac67-4f4f-b7f6-9782d4f58f9c",
   "metadata": {},
   "outputs": [],
   "source": [
    "out = pd.DataFrame(dict_fe_test_res).T.sort_index()\n",
    "save_pd_df(out, 'tab_pols_tests.csv')"
   ]
  },
  {
   "cell_type": "code",
   "execution_count": 282,
   "id": "f90add8e-f6f5-4e68-acf1-f9662df8d728",
   "metadata": {},
   "outputs": [
    {
     "data": {
      "text/html": [
       "<div>\n",
       "<style scoped>\n",
       "    .dataframe tbody tr th:only-of-type {\n",
       "        vertical-align: middle;\n",
       "    }\n",
       "\n",
       "    .dataframe tbody tr th {\n",
       "        vertical-align: top;\n",
       "    }\n",
       "\n",
       "    .dataframe thead th {\n",
       "        text-align: right;\n",
       "    }\n",
       "</style>\n",
       "<table border=\"1\" class=\"dataframe\">\n",
       "  <thead>\n",
       "    <tr style=\"text-align: right;\">\n",
       "      <th></th>\n",
       "      <th>Breusch Pagan Test</th>\n",
       "      <th>Durbin-Watson Test</th>\n",
       "      <th>Hausmann Test</th>\n",
       "    </tr>\n",
       "  </thead>\n",
       "  <tbody>\n",
       "    <tr>\n",
       "      <th>delta_pe</th>\n",
       "      <td>True ***\\n[118.349]</td>\n",
       "      <td>1.694</td>\n",
       "      <td>True ***\\n[33.95]</td>\n",
       "    </tr>\n",
       "    <tr>\n",
       "      <th>delta_pe_error</th>\n",
       "      <td>True ***\\n[81.846]</td>\n",
       "      <td>1.056</td>\n",
       "      <td>True ***\\n[597.559]</td>\n",
       "    </tr>\n",
       "    <tr>\n",
       "      <th>pi_perc</th>\n",
       "      <td>False \\n[0.505]</td>\n",
       "      <td>1.858</td>\n",
       "      <td>False \\n[-17.463]</td>\n",
       "    </tr>\n",
       "    <tr>\n",
       "      <th>pi_perc1</th>\n",
       "      <td>False \\n[0.202]</td>\n",
       "      <td>1.874</td>\n",
       "      <td>True ***\\n[178.502]</td>\n",
       "    </tr>\n",
       "    <tr>\n",
       "      <th>pi_perc_error</th>\n",
       "      <td>False \\n[0.912]</td>\n",
       "      <td>1.932</td>\n",
       "      <td>False \\n[-44.579]</td>\n",
       "    </tr>\n",
       "    <tr>\n",
       "      <th>pi_perc_error1</th>\n",
       "      <td>False \\n[0.212]</td>\n",
       "      <td>1.873</td>\n",
       "      <td>True ***\\n[2640.426]</td>\n",
       "    </tr>\n",
       "  </tbody>\n",
       "</table>\n",
       "</div>"
      ],
      "text/plain": [
       "                 Breusch Pagan Test Durbin-Watson Test         Hausmann Test\n",
       "delta_pe        True ***\\n[118.349]              1.694     True ***\\n[33.95]\n",
       "delta_pe_error   True ***\\n[81.846]              1.056   True ***\\n[597.559]\n",
       "pi_perc             False \\n[0.505]              1.858     False \\n[-17.463]\n",
       "pi_perc1            False \\n[0.202]              1.874   True ***\\n[178.502]\n",
       "pi_perc_error       False \\n[0.912]              1.932     False \\n[-44.579]\n",
       "pi_perc_error1      False \\n[0.212]              1.873  True ***\\n[2640.426]"
      ]
     },
     "execution_count": 282,
     "metadata": {},
     "output_type": "execute_result"
    }
   ],
   "source": [
    "out"
   ]
  },
  {
   "cell_type": "code",
   "execution_count": null,
   "id": "e1d8e6af-ef02-45f4-af4a-fe907f37608a",
   "metadata": {},
   "outputs": [],
   "source": []
  }
 ],
 "metadata": {
  "kernelspec": {
   "display_name": "mamba_env_memoire2",
   "language": "python",
   "name": "mamba_env_memoire2"
  },
  "language_info": {
   "codemirror_mode": {
    "name": "ipython",
    "version": 3
   },
   "file_extension": ".py",
   "mimetype": "text/x-python",
   "name": "python",
   "nbconvert_exporter": "python",
   "pygments_lexer": "ipython3",
   "version": "3.11.7"
  }
 },
 "nbformat": 4,
 "nbformat_minor": 5
}
