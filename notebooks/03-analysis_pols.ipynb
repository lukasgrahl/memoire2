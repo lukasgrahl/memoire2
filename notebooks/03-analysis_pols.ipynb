{
 "cells": [
  {
   "cell_type": "code",
   "execution_count": 2,
   "id": "be0292f3-93fa-4b17-9987-9d55cf353b80",
   "metadata": {},
   "outputs": [],
   "source": [
    "%run init_notebook.py"
   ]
  },
  {
   "cell_type": "code",
   "execution_count": 3,
   "id": "7829122e-1654-4f8c-9bba-b677c4f49ce8",
   "metadata": {},
   "outputs": [],
   "source": [
    "from src.utils import *\n",
    "from src.processing import pd_join_dfs, pd_groupby, xcorr\n",
    "from src.statsmodels import *\n",
    "import scipy"
   ]
  },
  {
   "cell_type": "code",
   "execution_count": 4,
   "id": "3b3c441e-1c2f-4e54-809c-9516bba7434a",
   "metadata": {},
   "outputs": [],
   "source": [
    "import warnings\n",
    "from statsmodels.tools.sm_exceptions import ValueWarning\n",
    "warnings.simplefilter('ignore', ValueWarning)"
   ]
  },
  {
   "cell_type": "code",
   "execution_count": 5,
   "id": "bb9c3dc7-dde5-4c5a-a191-9bbedeb2a8cd",
   "metadata": {},
   "outputs": [],
   "source": [
    "from src.utils import load_pd_df, save_pd_df, get_dt_index, pd_join_freq, Capturing, cross_corr, pd_df_astype, save_fig, get_stars\n",
    "from src.processing import pd_groupby, pd_join_dfs, adf_test_summary, hausman, plt_stacked_bar, get_individual_perc_error\n",
    "from src.pymc_modelling import get_samp\n",
    "\n",
    "from statsmodels.stats.diagnostic import het_white, het_breuschpagan\n",
    "import statsmodels.api as sm\n",
    "from statsmodels.stats.stattools import durbin_watson\n",
    "\n",
    "from linearmodels.panel import PanelOLS\n",
    "from linearmodels import RandomEffects\n",
    "from statsmodels.iolib.summary2 import summary_col"
   ]
  },
  {
   "cell_type": "code",
   "execution_count": 6,
   "id": "85ef6d0e-e38c-49f4-a203-d8e9ebbd0634",
   "metadata": {},
   "outputs": [],
   "source": [
    "df_micro = load_pd_df(\"df_analysis_micro.feather\", DATA_DIR)\n",
    "df = load_pd_df(\"df_analysis.feather\", DATA_DIR)"
   ]
  },
  {
   "cell_type": "code",
   "execution_count": 7,
   "id": "24c2a925-13ef-4816-9c64-7b97614b7afa",
   "metadata": {},
   "outputs": [],
   "source": [
    "DICT_PARSE_COLS.update(\n",
    "    {\n",
    "        'T_pca_sum': float,\n",
    "        'T_pca_sum_diff': float,\n",
    "        'pi_de_surprise_Y': float,\n",
    "        'pi_de_estimate_Y': float,\n",
    "        'delta_pe_error': float,\n",
    "        'hhinc_midpoint': 'categoryO',\n",
    "        'T_sum_raw': float,\n",
    "        'T_sum_glob': float,\n",
    "        'T_sum_glob_op3': float,\n",
    "        'T_sum_glob_op5': float,\n",
    "        'T_sum_ind_op': float,\n",
    "        'T_sum_ind_op_all': float,\n",
    "        'T_sum_ind': float,\n",
    "        'T_sum_raw_diff': float,\n",
    "        'T_sum_glob_diff': float,\n",
    "        'T_sum_ind_op_diff': float,\n",
    "        'T_sum_ind_op_all_diff': float,\n",
    "        'T_sum_ind_diff': float,\n",
    "        'T_sum_glob_op3_diff': float,\n",
    "        'T_sum_glob_op5_diff': float,\n",
    "        'pi_de_Y_diff_F': float,\n",
    "        'ecbtrust': float,\n",
    "        'pi_de_Y_lead1': float,\n",
    "        'pi_de_estimate_Y_lead1': float,\n",
    "        'pi_de_surprise_Y_lead1': float,\n",
    "        'month_recorded': \"datetime64[ns]\",\n",
    "    }\n",
    ")"
   ]
  },
  {
   "cell_type": "code",
   "execution_count": 8,
   "id": "75f25705-3295-4bc4-9b3f-5911d4a856fe",
   "metadata": {},
   "outputs": [],
   "source": [
    "df_micro = pd_df_astype(df_micro, DICT_PARSE_COLS)"
   ]
  },
  {
   "cell_type": "markdown",
   "id": "65fa0fde-1991-43b6-82d8-f5039d3519f0",
   "metadata": {},
   "source": [
    "## panel structure sparsity and distance analysis"
   ]
  },
  {
   "cell_type": "code",
   "execution_count": 9,
   "id": "e70666ce-95d2-41d6-83c4-515d304171aa",
   "metadata": {},
   "outputs": [
    {
     "data": {
      "text/plain": [
       "count    48684.000000\n",
       "mean         1.550592\n",
       "std          1.382918\n",
       "min          0.000000\n",
       "25%          1.000000\n",
       "50%          1.000000\n",
       "75%          2.000000\n",
       "max          8.000000\n",
       "dtype: float64"
      ]
     },
     "execution_count": 9,
     "metadata": {},
     "output_type": "execute_result"
    }
   ],
   "source": [
    "filt = df_micro.groupby(['id', 'month_recorded']).pi_perc.last().unstack().count(axis=1)\n",
    "filt.describe()"
   ]
  },
  {
   "cell_type": "code",
   "execution_count": 10,
   "id": "0db69ec5-6737-4474-b519-109cb2ef6560",
   "metadata": {},
   "outputs": [],
   "source": [
    "sub = df_micro.set_index('id').loc[filt[filt > 1].index].reset_index().groupby(['id', 'month_recorded']).last()\n",
    "sub = sub[\n",
    "    ['hhinc_midpoint', 'pi_perc_error', 'delta_pe_error', 'debt', 'wealth_bank', 'savings_planned', 'ecbtrust', 'hhsize']\n",
    "]"
   ]
  },
  {
   "cell_type": "code",
   "execution_count": 11,
   "id": "afd56144-6cef-4ee4-a5bd-76693b401ce6",
   "metadata": {},
   "outputs": [],
   "source": [
    "filt = sub.reset_index().groupby(['id', 'month_recorded']).delta_pe_error.last().unstack().count(axis=1)\n",
    "# filt.describe()"
   ]
  },
  {
   "cell_type": "code",
   "execution_count": 12,
   "id": "4e87fcf6-fee8-49ef-aaaf-73a7c28bce27",
   "metadata": {},
   "outputs": [],
   "source": [
    "dist = sub.reset_index().groupby('id').last().drop('month_recorded', axis=1).astype(float)\n",
    "dist['distance'] = scipy.spatial.distance.cdist(dist.fillna(0).values, dist.fillna(0).values).mean(axis=0)\n",
    "dist['distance'] = min_max_scale(dist.distance)"
   ]
  },
  {
   "cell_type": "code",
   "execution_count": 13,
   "id": "70e4b9ce-3c0c-469a-9b4c-c3f077a193a2",
   "metadata": {},
   "outputs": [],
   "source": [
    "sub = sub.loc[sub.index.get_level_values(1) >= datetime(2021,6,1)]"
   ]
  },
  {
   "cell_type": "code",
   "execution_count": 14,
   "id": "83ab4161-077f-4c67-916f-782edcdd4423",
   "metadata": {},
   "outputs": [
    {
     "data": {
      "image/png": "[encoded data removed]",
      "text/plain": [
       "<Figure size 1400x400 with 2 Axes>"
      ]
     },
     "metadata": {},
     "output_type": "display_data"
    }
   ],
   "source": [
    "from matplotlib.dates import DateFormatter\n",
    "myFmt = DateFormatter(\"%M-%Y\")\n",
    "\n",
    "fig, ax = get_fig_subplots()\n",
    "_ = sub.reset_index().set_index('id').join(dist.distance).reset_index().set_index(['id', 'month_recorded']).distance.unstack()\n",
    "_.columns = [str(x.month) + \"-\" + str(x.year) for x in _.columns]\n",
    "sns.heatmap(\n",
    "    _,\n",
    "    cmap='winter',\n",
    "    yticklabels=False,\n",
    "    ax=ax\n",
    ")\n",
    "fig.tight_layout()\n",
    "save_fig(fig, \"panel_heatmap.png\")"
   ]
  },
  {
   "cell_type": "code",
   "execution_count": 15,
   "id": "d216e830-3b3e-430d-b6c0-64bb931d08a9",
   "metadata": {},
   "outputs": [],
   "source": [
    "def pols_get_test_res(mod_fe, mod_re, sub, cols, sig: float = .05, seperator: str = \"\\n\"):\n",
    "    res = {}\n",
    "    \n",
    "    # H0: Homoscedasticity is present\n",
    "    _ = sm.add_constant(pd.concat([mod_fe.resids, sub[cols]], axis=1))\n",
    "    res['Breusch Pagan Test'] = dict(zip(\n",
    "        ['LM-Stat', 'LM p-val', 'stat', 'pval'],\n",
    "        het_breuschpagan(_[['residual']], _.drop('residual', axis=1))\n",
    "    ))\n",
    "    \n",
    "    # Durbin watson\n",
    "    res['Durbin-Watson Test'] = {'stat':durbin_watson(mod_fe.resids)}\n",
    "    \n",
    "    # Haussman H0: RE is to be preferred\n",
    "    res['Hausmann Test'] = dict(zip(['stat', 'df', 'pval'], hausman(mod_fe, mod_re)))\n",
    "    \n",
    "    df = pd.DataFrame(res).T\n",
    "    df['coef'] = df.pval <= sig\n",
    "    df['star'] = df.pval.apply(lambda x: get_stars(float(x)))\n",
    "    df['print'] = df.coef.astype(str) + \" \" + df.star.astype(str) + seperator + \"[\" + df.stat.round(3).astype(str) + \"]\"\n",
    "    df.loc['Durbin-Watson Test', 'print'] = df.loc['Durbin-Watson Test', 'stat'].round(3).astype(str)\n",
    "    \n",
    "    return df"
   ]
  },
  {
   "cell_type": "code",
   "execution_count": 16,
   "id": "846124e5-5a33-4aa0-b815-d4ed9c4eff8a",
   "metadata": {},
   "outputs": [],
   "source": [
    "dict_fe_test_res = {}"
   ]
  },
  {
   "cell_type": "markdown",
   "id": "6700c046-307a-4287-aefd-cf82f88e68fe",
   "metadata": {},
   "source": [
    "## pi perc"
   ]
  },
  {
   "cell_type": "code",
   "execution_count": 17,
   "id": "0f537297-4acb-479e-ae54-86979b0d0799",
   "metadata": {},
   "outputs": [],
   "source": [
    "cols = ['T_sum_ind_diff', 'pi_de_surprise_Y', 'pi_de_estimate_Y',] # 'hhinc_midpoint'] #, 'debt',]\n",
    "ind_cols = ['id', 'month_recorded']\n",
    "dep_col = ['pi_perc']\n",
    "date_filt = datetime(2021,6,1)"
   ]
  },
  {
   "cell_type": "code",
   "execution_count": 18,
   "id": "0e217e21-ef73-47b3-9964-2ab131a9ed67",
   "metadata": {},
   "outputs": [],
   "source": [
    "df_micro = df_micro.set_index('date_recorded').loc[date_filt:].reset_index()"
   ]
  },
  {
   "cell_type": "code",
   "execution_count": 19,
   "id": "a0871edd-113d-4e3e-98e4-48f6a6cac42b",
   "metadata": {},
   "outputs": [],
   "source": [
    "filt = df_micro.set_index('date_recorded').loc[date_filt:].groupby(ind_cols)[dep_col].last().dropna().unstack().count(axis=1)\n",
    "# filt.describe()"
   ]
  },
  {
   "cell_type": "code",
   "execution_count": 20,
   "id": "c10ecaae-b663-4891-8a82-c47297c2ad8e",
   "metadata": {},
   "outputs": [],
   "source": [
    "i = 5\n",
    "sub = df_micro.set_index('id').loc[filt[filt > i].index].reset_index().groupby(ind_cols).last()\n",
    "sub = sub[cols + dep_col].dropna()"
   ]
  },
  {
   "cell_type": "code",
   "execution_count": 21,
   "id": "d94b7151-a0f0-46f0-a161-cacd94c105c3",
   "metadata": {},
   "outputs": [],
   "source": [
    "filt = sub.reset_index().groupby(ind_cols)[dep_col].last().unstack().count(axis=1)\n",
    "# filt.describe()"
   ]
  },
  {
   "cell_type": "code",
   "execution_count": 22,
   "id": "130ff317-10ea-4814-990f-a9c45d908eca",
   "metadata": {},
   "outputs": [
    {
     "data": {
      "text/plain": [
       "((1569, 4), 1569)"
      ]
     },
     "execution_count": 22,
     "metadata": {},
     "output_type": "execute_result"
    }
   ],
   "source": [
    "sub.shape, filt.sum()"
   ]
  },
  {
   "cell_type": "code",
   "execution_count": 23,
   "id": "a738cc5b-7c0a-460b-a126-d2650a64fc56",
   "metadata": {},
   "outputs": [],
   "source": [
    "m_fe11 = PanelOLS(sub[dep_col], sub[cols], entity_effects=True, ).fit(cov_type='clustered', cluster_entity=True, )\n",
    "m_re11 = RandomEffects(sub[dep_col], sub[cols]).fit()"
   ]
  },
  {
   "cell_type": "code",
   "execution_count": 24,
   "id": "84111d2d-e289-4304-99e7-6abecd14e323",
   "metadata": {},
   "outputs": [],
   "source": [
    "dist, filt = get_cooks_distance(sub[cols].values.astype(float), m_fe11.resids.values, flt_largest_perc=95.)\n",
    "sub2 = sub.drop(sub.loc[filt].index.get_level_values(0))\n",
    "m_fe1_ = PanelOLS(sub2[dep_col], sub2[cols],\n",
    "                   entity_effects=True, drop_absorbed=True, check_rank=False).fit(cov_type=\"clustered\", cluster_entity=True)"
   ]
  },
  {
   "cell_type": "code",
   "execution_count": 25,
   "id": "c46c47d6-5eac-4ef4-849d-07e5ee8533c1",
   "metadata": {},
   "outputs": [],
   "source": [
    "out = get_statsmodels_summary([m_fe11, m_fe1_], ['print'], seperator=\" \", is_filt_sig=False)\n",
    "# out"
   ]
  },
  {
   "cell_type": "code",
   "execution_count": 26,
   "id": "18230a01-e417-4476-b656-da69339c295c",
   "metadata": {},
   "outputs": [],
   "source": [
    "name, i = dep_col[0], 1\n",
    "while (name in dict_fe_test_res.keys()) == True:\n",
    "    name += str(i)\n",
    "dict_fe_test_res[name] = pols_get_test_res(m_fe11, m_re11, sub, cols)['print']"
   ]
  },
  {
   "cell_type": "markdown",
   "id": "d8c42828-410b-4108-95d1-1918428c912d",
   "metadata": {},
   "source": [
    "## pi perc 2"
   ]
  },
  {
   "cell_type": "code",
   "execution_count": 27,
   "id": "1721df69-84c9-40c8-a984-2bce8476a698",
   "metadata": {},
   "outputs": [],
   "source": [
    "cols = ['T_sum_ind_diff', 'pi_de_surprise_Y_lead1', 'pi_de_estimate_Y_lead1'] #, 'debt',]\n",
    "ind_cols = ['id', 'month_recorded']\n",
    "dep_col = ['pi_perc']"
   ]
  },
  {
   "cell_type": "code",
   "execution_count": 28,
   "id": "258c4303-9af1-4573-96c8-9496ab04daef",
   "metadata": {},
   "outputs": [],
   "source": [
    "filt = df_micro.set_index('date_recorded').loc[date_filt:].groupby(ind_cols)[dep_col].last().dropna().unstack().count(axis=1)\n",
    "# filt.describe()"
   ]
  },
  {
   "cell_type": "code",
   "execution_count": 29,
   "id": "cae5d234-1982-4153-b809-ca400c023a7f",
   "metadata": {},
   "outputs": [],
   "source": [
    "i = 5\n",
    "sub = df_micro.set_index('id').loc[filt[filt > i].index].reset_index().groupby(ind_cols).last()\n",
    "sub = sub[cols + dep_col].dropna()"
   ]
  },
  {
   "cell_type": "code",
   "execution_count": 30,
   "id": "92a2a40e-3dbb-4385-b4d3-9467c463de8b",
   "metadata": {},
   "outputs": [],
   "source": [
    "filt = sub.reset_index().groupby(ind_cols)[dep_col].last().unstack().count(axis=1)\n",
    "# filt.describe()"
   ]
  },
  {
   "cell_type": "code",
   "execution_count": 31,
   "id": "488da222-4728-40c2-bdee-04bac682ed04",
   "metadata": {},
   "outputs": [
    {
     "data": {
      "text/plain": [
       "((1569, 4), 1569)"
      ]
     },
     "execution_count": 31,
     "metadata": {},
     "output_type": "execute_result"
    }
   ],
   "source": [
    "sub.shape, filt.sum()"
   ]
  },
  {
   "cell_type": "code",
   "execution_count": 32,
   "id": "3fc4394b-8bd9-468b-aecb-b72039d77a21",
   "metadata": {},
   "outputs": [],
   "source": [
    "m_fe12 = PanelOLS(sub[dep_col], sub[cols], entity_effects=True, ).fit(cov_type='clustered', cluster_entity=True)\n",
    "m_re = RandomEffects(sub[dep_col], sub[cols]).fit()"
   ]
  },
  {
   "cell_type": "code",
   "execution_count": 33,
   "id": "e6a8ef53-512c-424d-b327-c4449cfc5d34",
   "metadata": {},
   "outputs": [],
   "source": [
    "dist, filt = get_cooks_distance(sub[cols].values.astype(float), m_fe12.resids.values, flt_largest_perc=90.)\n",
    "sub2 = sub.drop(sub.loc[filt].index.get_level_values(0))\n",
    "m_fe_ = PanelOLS(sub2[dep_col], sub2[cols],\n",
    "                   entity_effects=True, drop_absorbed=True, check_rank=False).fit(cov_type=\"clustered\", cluster_entity=True)"
   ]
  },
  {
   "cell_type": "code",
   "execution_count": 34,
   "id": "0753e6d9-307a-40de-8c9c-f9bdabf8cafa",
   "metadata": {},
   "outputs": [],
   "source": [
    "out = get_statsmodels_summary([m_fe12, m_fe_], ['print'], seperator=\" \", is_filt_sig=False)\n",
    "# out"
   ]
  },
  {
   "cell_type": "code",
   "execution_count": 35,
   "id": "f6869835-8050-4879-abff-4c7aa414982e",
   "metadata": {},
   "outputs": [],
   "source": [
    "name, i = dep_col[0], 1\n",
    "while (name in dict_fe_test_res.keys()) == True:\n",
    "    name += str(i)\n",
    "dict_fe_test_res[name] = pols_get_test_res(m_fe12, m_re, sub, cols)['print']"
   ]
  },
  {
   "cell_type": "markdown",
   "id": "727a7def-bebb-42c3-9eaf-4e86294e714c",
   "metadata": {},
   "source": [
    "## delta pe 1"
   ]
  },
  {
   "cell_type": "code",
   "execution_count": 36,
   "id": "75192424-cd5e-45b5-9698-47500c6a520d",
   "metadata": {},
   "outputs": [],
   "source": [
    "cols = ['T_sum_ind_diff', 'hhinc_midpoint', 'pi_de_surprise_Y', 'pi_de_estimate_Y', 'is_unempl'] #, 'is_unempl', 'wealth_bank',]  #'debt',]\n",
    "ind_cols = ['id', 'month_recorded']\n",
    "dep_col = ['delta_pe']"
   ]
  },
  {
   "cell_type": "code",
   "execution_count": 37,
   "id": "de2ee5e4-7d2c-4bc3-97e0-77b7333c672c",
   "metadata": {},
   "outputs": [],
   "source": [
    "filt = df_micro.set_index('date_recorded').loc[date_filt:].groupby(ind_cols)[dep_col].last().dropna().unstack().count(axis=1)\n",
    "# filt.describe()"
   ]
  },
  {
   "cell_type": "code",
   "execution_count": 38,
   "id": "cc10b9e8-fce1-4d9c-a48a-be4e835b0b5e",
   "metadata": {},
   "outputs": [],
   "source": [
    "i = 10\n",
    "sub = df_micro.set_index('id').loc[filt[filt > i].index].reset_index().groupby(ind_cols).last()\n",
    "sub = sub[cols + dep_col].dropna()"
   ]
  },
  {
   "cell_type": "code",
   "execution_count": 39,
   "id": "b527ad13-458f-4767-90c1-02d9e0273c4c",
   "metadata": {},
   "outputs": [],
   "source": [
    "filt = sub.reset_index().groupby(ind_cols)[dep_col].last().unstack().count(axis=1)\n",
    "# filt.describe()"
   ]
  },
  {
   "cell_type": "code",
   "execution_count": 40,
   "id": "84b0939e-a964-499e-89d2-38f4238c37d1",
   "metadata": {},
   "outputs": [
    {
     "data": {
      "text/plain": [
       "((3830, 6), 3830)"
      ]
     },
     "execution_count": 40,
     "metadata": {},
     "output_type": "execute_result"
    }
   ],
   "source": [
    "sub.shape, filt.sum()"
   ]
  },
  {
   "cell_type": "code",
   "execution_count": 41,
   "id": "87ddecb8-f7c7-4365-8579-35367492fca5",
   "metadata": {},
   "outputs": [],
   "source": [
    "m_fe2 = PanelOLS(sub[dep_col], sub[cols], entity_effects=True).fit(cov_type='robust', cluster_entity=False)\n",
    "m_re2 = RandomEffects(sub[dep_col], sub[cols]).fit(cov_type='robust')"
   ]
  },
  {
   "cell_type": "code",
   "execution_count": 42,
   "id": "518fa45e-5432-4a3d-ad70-163fe92c6ff5",
   "metadata": {},
   "outputs": [],
   "source": [
    "name, i = dep_col[0], 1\n",
    "while (name in dict_fe_test_res.keys()) == True:\n",
    "    name += str(i)\n",
    "dict_fe_test_res[name] = pols_get_test_res(m_fe2, m_re2, sub, cols)['print']"
   ]
  },
  {
   "cell_type": "markdown",
   "id": "eec42fa6-d75b-4b87-a165-d51d8514330e",
   "metadata": {},
   "source": [
    "## pi perc resid"
   ]
  },
  {
   "cell_type": "code",
   "execution_count": 43,
   "id": "3153bf83-445a-4ce7-9c8b-1646615758ec",
   "metadata": {},
   "outputs": [],
   "source": [
    "cols = ['T_sum_ind_diff', 'pi_de_surprise_Y', 'pi_de_estimate_Y', 'is_unempl' ] #'debt', 'is_unempl', 'wealth_bank',]  #'debt',]\n",
    "ind_cols = ['id', 'month_recorded']\n",
    "dep_col = ['pi_perc_error']"
   ]
  },
  {
   "cell_type": "code",
   "execution_count": 44,
   "id": "66b5db06-5112-4a3e-9e43-ca5cbba831b7",
   "metadata": {},
   "outputs": [],
   "source": [
    "filt = df_micro.set_index('date_recorded').loc[date_filt:].groupby(ind_cols)[dep_col].last().dropna().unstack().count(axis=1)\n",
    "# filt.describe()"
   ]
  },
  {
   "cell_type": "code",
   "execution_count": 45,
   "id": "8526e6d8-df46-4bdd-a14c-4b780202de06",
   "metadata": {},
   "outputs": [],
   "source": [
    "i = 5\n",
    "sub = df_micro.set_index('id').loc[filt[filt > i].index].reset_index().groupby(ind_cols).last()\n",
    "sub = sub[cols + dep_col].dropna()"
   ]
  },
  {
   "cell_type": "code",
   "execution_count": 46,
   "id": "a57edcfb-2cc3-41f2-b8f6-188c99cc9b7e",
   "metadata": {},
   "outputs": [],
   "source": [
    "filt = sub.reset_index().groupby(ind_cols)[dep_col].last().unstack().count(axis=1)\n",
    "# filt.describe()"
   ]
  },
  {
   "cell_type": "code",
   "execution_count": 47,
   "id": "65f87bb4-45e0-45bb-96a5-3017fe2bd099",
   "metadata": {},
   "outputs": [
    {
     "data": {
      "text/plain": [
       "((1569, 5), 1569)"
      ]
     },
     "execution_count": 47,
     "metadata": {},
     "output_type": "execute_result"
    }
   ],
   "source": [
    "sub.shape, filt.sum()"
   ]
  },
  {
   "cell_type": "code",
   "execution_count": 48,
   "id": "1a26f2f8-7ff6-4ce2-be0f-8ce516540be3",
   "metadata": {},
   "outputs": [],
   "source": [
    "m_fe41 = PanelOLS(sub[dep_col], sub[cols], entity_effects=True)\n",
    "m_fe41 = m_fe41.fit(cov_type='homoskedastic', )\n",
    "m_re4 = RandomEffects(sub[dep_col], sub[cols]).fit()\n",
    "# m_fe4.summary"
   ]
  },
  {
   "cell_type": "code",
   "execution_count": 49,
   "id": "86057497-25c8-4c6d-827e-b554070cde65",
   "metadata": {},
   "outputs": [],
   "source": [
    "name, i = dep_col[0], 1\n",
    "while (name in dict_fe_test_res.keys()) == True:\n",
    "    name += str(i)\n",
    "dict_fe_test_res[name] = pols_get_test_res(m_fe41, m_re4, sub, cols)['print']"
   ]
  },
  {
   "cell_type": "code",
   "execution_count": 59,
   "id": "5f539588-98df-430b-b768-61086d5975e2",
   "metadata": {},
   "outputs": [
    {
     "data": {
      "image/png": "[encoded data removed]",
      "text/plain": [
       "<Figure size 1400x400 with 2 Axes>"
      ]
     },
     "metadata": {},
     "output_type": "display_data"
    }
   ],
   "source": [
    "_ = m_fe41.resids.unstack().T.describe()\n",
    "fig, ax = plt.subplots(1,2)\n",
    "ax[0].hist(_.loc['std'], bins='fd')\n",
    "ax[0].set_title(\"Standard deviation of inter respondent residual\")\n",
    "ax[1].hist(m_fe41.resids.unstack().apply(lambda x: np.correlate(x.dropna().iloc[1:], x.dropna().iloc[:-1])[0], axis=1),\n",
    "          bins='fd')\n",
    "ax[1].axvline(np.sqrt(2/(100-1)), color='red', label='95% confidence')\n",
    "ax[1].axvline(-np.sqrt(2/(100-1)), color='red', ) #label='95% confidence')\n",
    "ax[1].set_title(\"Autocorrelation of inter respondent residual\")\n",
    "\n",
    "ax[1].legend()\n",
    "\n",
    "fig.tight_layout()\n",
    "save_fig(fig, \"fig_emp_pols_perc_resid.png\")"
   ]
  },
  {
   "cell_type": "markdown",
   "id": "3e3ff03a-f6cc-43e5-a76c-767dc11b5fbd",
   "metadata": {},
   "source": [
    "## delta pe resid"
   ]
  },
  {
   "cell_type": "code",
   "execution_count": 54,
   "id": "2e6d15bb-7e55-43a5-99a2-1b24d3317027",
   "metadata": {},
   "outputs": [],
   "source": [
    "cols = ['T_sum_ind_diff', 'pi_de_surprise_Y', 'pi_de_estimate_Y', 'is_unempl', 'hhinc_midpoint'] #'wealth_bank',]  #'debt',]\n",
    "ind_cols = ['id', 'month_recorded']\n",
    "dep_col = ['delta_pe_error']"
   ]
  },
  {
   "cell_type": "code",
   "execution_count": 55,
   "id": "4c1b95f7-2aad-4606-acd7-04b5cb2c4114",
   "metadata": {},
   "outputs": [],
   "source": [
    "filt = df_micro.set_index('date_recorded').loc[date_filt:].groupby(ind_cols)[dep_col].last().dropna().unstack().count(axis=1)\n",
    "# filt.describe()"
   ]
  },
  {
   "cell_type": "code",
   "execution_count": 56,
   "id": "c7cf089a-9e3f-4dc6-aff1-c161b75ddeec",
   "metadata": {},
   "outputs": [],
   "source": [
    "i = 9\n",
    "sub = df_micro.set_index('id').loc[filt[filt > i].index].reset_index().groupby(ind_cols).last()\n",
    "sub = sub[cols + dep_col].dropna()"
   ]
  },
  {
   "cell_type": "code",
   "execution_count": 57,
   "id": "48928c6a-786d-408a-b5f7-70064fa284c5",
   "metadata": {},
   "outputs": [
    {
     "data": {
      "text/plain": [
       "count    703.000000\n",
       "mean      10.337127\n",
       "std        1.168863\n",
       "min        1.000000\n",
       "25%       10.000000\n",
       "50%       10.000000\n",
       "75%       11.000000\n",
       "max       11.000000\n",
       "dtype: float64"
      ]
     },
     "execution_count": 57,
     "metadata": {},
     "output_type": "execute_result"
    }
   ],
   "source": [
    "filt = sub.reset_index().groupby(ind_cols)[dep_col].last().unstack().count(axis=1)\n",
    "filt.describe()"
   ]
  },
  {
   "cell_type": "code",
   "execution_count": 58,
   "id": "3bbc4579-fff2-4258-aa86-a3d7ab3ca25e",
   "metadata": {},
   "outputs": [
    {
     "data": {
      "text/plain": [
       "((7267, 6), 7267)"
      ]
     },
     "execution_count": 58,
     "metadata": {},
     "output_type": "execute_result"
    }
   ],
   "source": [
    "sub.shape, filt.sum()"
   ]
  },
  {
   "cell_type": "code",
   "execution_count": 59,
   "id": "1206cd6e-1a9a-4ff5-a467-63644fcf2743",
   "metadata": {},
   "outputs": [],
   "source": [
    "m_fe5 = PanelOLS(sub[dep_col], sub.drop(dep_col, axis=1), \n",
    "                 # drop_absorbed=True,\n",
    "                 entity_effects=True,\n",
    "                ).fit(cov_type='clustered', cluster_entity=False)\n",
    "m_re = RandomEffects(sub[dep_col], sub[cols]).fit()\n",
    "# print(m_fe5)"
   ]
  },
  {
   "cell_type": "code",
   "execution_count": 60,
   "id": "30e80ed8-f992-446f-a1d4-faee85381133",
   "metadata": {},
   "outputs": [],
   "source": [
    "name, i = dep_col[0], 1\n",
    "while (name in dict_fe_test_res.keys()) == True:\n",
    "    name += str(i)\n",
    "dict_fe_test_res[name] = pols_get_test_res(m_fe5, m_re, sub, cols)['print']"
   ]
  },
  {
   "cell_type": "code",
   "execution_count": 61,
   "id": "c51fb12a-8c4f-4355-b02e-c2bc96abcd9a",
   "metadata": {},
   "outputs": [
    {
     "name": "stderr",
     "output_type": "stream",
     "text": [
      "C:\\Users\\LukasGrahl\\AppData\\Local\\Temp\\ipykernel_11588\\2935151569.py:11: UserWarning: FixedFormatter should only be used together with FixedLocator\n",
      "  ax[0].set_xticklabels(m_fe5.resids.unstack().describe().columns.to_period('M'), rotation=45)\n"
     ]
    },
    {
     "data": {
      "image/png": "[encoded data removed]",
      "text/plain": [
       "<Figure size 1400x400 with 2 Axes>"
      ]
     },
     "metadata": {},
     "output_type": "display_data"
    }
   ],
   "source": [
    "fig, ax = plt.subplots(1,2)\n",
    "ax[0].fill_between(\n",
    "    m_fe5.resids.unstack().describe().columns,\n",
    "    m_fe5.resids.unstack().describe().loc['mean'] - 1.96 * m_fe5.resids.unstack().describe().loc['std'],\n",
    "    m_fe5.resids.unstack().describe().loc['mean'] + 1.96 * m_fe5.resids.unstack().describe().loc['std'],\n",
    "    alpha=.2,\n",
    "    color='grey',\n",
    "    label='95% confidence interval',\n",
    ")\n",
    "ax[0].plot(m_fe5.resids.unstack().describe().loc['mean'], label='mean residual')\n",
    "ax[0].set_xticklabels(m_fe5.resids.unstack().describe().columns.to_period('M'), rotation=45)\n",
    "ax[0].set_title(\"Average $\\~{\\pi}^{\\Delta e}_{t|t+12}$ fixed-effect residual across indivduals\")\n",
    "\n",
    "ax[1].hist(m_fe5.resids.unstack().T.describe().loc['std'], bins='fd')\n",
    "ax[1].set_title(\"Histogram of residual standard-deviation by individual\")\n",
    "fig.tight_layout()\n",
    "\n",
    "save_fig(fig, \"fig_emp_pols_delta_pe_resids.png\")"
   ]
  },
  {
   "cell_type": "markdown",
   "id": "4fba78f4-e4b4-4fbd-88a7-17b30aa018a7",
   "metadata": {},
   "source": [
    "## summary"
   ]
  },
  {
   "cell_type": "code",
   "execution_count": 62,
   "id": "e1b8b97d-607d-4611-aaeb-5241df2a1209",
   "metadata": {},
   "outputs": [],
   "source": [
    "lst_fes = [m_fe11, m_fe12, m_fe2, m_fe41, m_fe5]\n",
    "out = get_statsmodels_summary(lst_fes, seperator=\"\\n\", is_filt_sig=True)\n",
    "save_pd_df(out, 'tab_pols.csv', GRAPHS_DIR)\n",
    "\n",
    "out2 = get_statsmodels_summary(lst_fes, seperator=\" \", is_filt_sig=False)\n",
    "save_pd_df(out2, 'tab_pols_all.csv', GRAPHS_DIR)"
   ]
  },
  {
   "cell_type": "code",
   "execution_count": 63,
   "id": "cc1eb770-81b7-4c03-a3ac-b07395f49ec8",
   "metadata": {},
   "outputs": [
    {
     "data": {
      "text/html": [
       "<div>\n",
       "<style scoped>\n",
       "    .dataframe tbody tr th:only-of-type {\n",
       "        vertical-align: middle;\n",
       "    }\n",
       "\n",
       "    .dataframe tbody tr th {\n",
       "        vertical-align: top;\n",
       "    }\n",
       "\n",
       "    .dataframe thead th {\n",
       "        text-align: right;\n",
       "    }\n",
       "</style>\n",
       "<table border=\"1\" class=\"dataframe\">\n",
       "  <thead>\n",
       "    <tr style=\"text-align: right;\">\n",
       "      <th></th>\n",
       "      <th>delta_pe</th>\n",
       "      <th>delta_pe_error</th>\n",
       "      <th>pi_perc</th>\n",
       "      <th>pi_perc_1</th>\n",
       "      <th>pi_perc_error</th>\n",
       "    </tr>\n",
       "  </thead>\n",
       "  <tbody>\n",
       "    <tr>\n",
       "      <th>pi_de_surprise_Y</th>\n",
       "      <td>-0.616 ***\\n[-52.676]</td>\n",
       "      <td>-0.93 ***\\n[-44.572]</td>\n",
       "      <td>-0.201 *\\n[-1.824]</td>\n",
       "      <td>NaN</td>\n",
       "      <td>-0.489 ***\\n[-4.784]</td>\n",
       "    </tr>\n",
       "    <tr>\n",
       "      <th>pi_de_estimate_Y_lead1</th>\n",
       "      <td>NaN</td>\n",
       "      <td>NaN</td>\n",
       "      <td>NaN</td>\n",
       "      <td>1.304 ***\\n[37.436]</td>\n",
       "      <td>NaN</td>\n",
       "    </tr>\n",
       "    <tr>\n",
       "      <th>pi_de_estimate_Y</th>\n",
       "      <td>0.478 ***\\n[54.886]</td>\n",
       "      <td>3.529 ***\\n[222.537]</td>\n",
       "      <td>1.417 ***\\n[30.254]</td>\n",
       "      <td>NaN</td>\n",
       "      <td>-0.053 \\n[-1.231]</td>\n",
       "    </tr>\n",
       "    <tr>\n",
       "      <th>hhinc_midpoint.12000.0</th>\n",
       "      <td>0.001 \\n[0.429]</td>\n",
       "      <td>-0.013 ***\\n[-3.234]</td>\n",
       "      <td>NaN</td>\n",
       "      <td>NaN</td>\n",
       "      <td>NaN</td>\n",
       "    </tr>\n",
       "    <tr>\n",
       "      <th>T_sum_ind_diff</th>\n",
       "      <td>0.044 ***\\n[9.097]</td>\n",
       "      <td>-0.103 ***\\n[-12.67]</td>\n",
       "      <td>0.018 \\n[1.096]</td>\n",
       "      <td>-0.003 \\n[-0.242]</td>\n",
       "      <td>0.045 **\\n[2.356]</td>\n",
       "    </tr>\n",
       "    <tr>\n",
       "      <th>R^2 within</th>\n",
       "      <td>0.392</td>\n",
       "      <td>0.906</td>\n",
       "      <td>0.659</td>\n",
       "      <td>0.675</td>\n",
       "      <td>0.06</td>\n",
       "    </tr>\n",
       "    <tr>\n",
       "      <th>R^2 between</th>\n",
       "      <td>0.761</td>\n",
       "      <td>-57.556</td>\n",
       "      <td>0.933</td>\n",
       "      <td>0.914</td>\n",
       "      <td>0.422</td>\n",
       "    </tr>\n",
       "    <tr>\n",
       "      <th>N time</th>\n",
       "      <td>15.0</td>\n",
       "      <td>17.0</td>\n",
       "      <td>13.0</td>\n",
       "      <td>13.0</td>\n",
       "      <td>13.0</td>\n",
       "    </tr>\n",
       "    <tr>\n",
       "      <th>N entity</th>\n",
       "      <td>353.0</td>\n",
       "      <td>703.0</td>\n",
       "      <td>259.0</td>\n",
       "      <td>259.0</td>\n",
       "      <td>259.0</td>\n",
       "    </tr>\n",
       "    <tr>\n",
       "      <th>N</th>\n",
       "      <td>3830.0</td>\n",
       "      <td>7267.0</td>\n",
       "      <td>1569.0</td>\n",
       "      <td>1569.0</td>\n",
       "      <td>1569.0</td>\n",
       "    </tr>\n",
       "    <tr>\n",
       "      <th>Entity effects</th>\n",
       "      <td>1.0</td>\n",
       "      <td>1.0</td>\n",
       "      <td>1.0</td>\n",
       "      <td>1.0</td>\n",
       "      <td>1.0</td>\n",
       "    </tr>\n",
       "  </tbody>\n",
       "</table>\n",
       "</div>"
      ],
      "text/plain": [
       "                                     delta_pe        delta_pe_error  \\\n",
       "pi_de_surprise_Y        -0.616 ***\\n[-52.676]  -0.93 ***\\n[-44.572]   \n",
       "pi_de_estimate_Y_lead1                    NaN                   NaN   \n",
       "pi_de_estimate_Y          0.478 ***\\n[54.886]  3.529 ***\\n[222.537]   \n",
       "hhinc_midpoint.12000.0        0.001 \\n[0.429]  -0.013 ***\\n[-3.234]   \n",
       "T_sum_ind_diff             0.044 ***\\n[9.097]  -0.103 ***\\n[-12.67]   \n",
       "R^2 within                              0.392                 0.906   \n",
       "R^2 between                             0.761               -57.556   \n",
       "N time                                   15.0                  17.0   \n",
       "N entity                                353.0                 703.0   \n",
       "N                                      3830.0                7267.0   \n",
       "Entity effects                            1.0                   1.0   \n",
       "\n",
       "                                    pi_perc            pi_perc_1  \\\n",
       "pi_de_surprise_Y         -0.201 *\\n[-1.824]                  NaN   \n",
       "pi_de_estimate_Y_lead1                  NaN  1.304 ***\\n[37.436]   \n",
       "pi_de_estimate_Y        1.417 ***\\n[30.254]                  NaN   \n",
       "hhinc_midpoint.12000.0                  NaN                  NaN   \n",
       "T_sum_ind_diff              0.018 \\n[1.096]    -0.003 \\n[-0.242]   \n",
       "R^2 within                            0.659                0.675   \n",
       "R^2 between                           0.933                0.914   \n",
       "N time                                 13.0                 13.0   \n",
       "N entity                              259.0                259.0   \n",
       "N                                    1569.0               1569.0   \n",
       "Entity effects                          1.0                  1.0   \n",
       "\n",
       "                               pi_perc_error  \n",
       "pi_de_surprise_Y        -0.489 ***\\n[-4.784]  \n",
       "pi_de_estimate_Y_lead1                   NaN  \n",
       "pi_de_estimate_Y           -0.053 \\n[-1.231]  \n",
       "hhinc_midpoint.12000.0                   NaN  \n",
       "T_sum_ind_diff             0.045 **\\n[2.356]  \n",
       "R^2 within                              0.06  \n",
       "R^2 between                            0.422  \n",
       "N time                                  13.0  \n",
       "N entity                               259.0  \n",
       "N                                     1569.0  \n",
       "Entity effects                           1.0  "
      ]
     },
     "execution_count": 63,
     "metadata": {},
     "output_type": "execute_result"
    }
   ],
   "source": [
    "out.sort_index(ascending=False)"
   ]
  },
  {
   "cell_type": "code",
   "execution_count": 64,
   "id": "e7f2e373-ac67-4f4f-b7f6-9782d4f58f9c",
   "metadata": {},
   "outputs": [],
   "source": [
    "out = pd.DataFrame(dict_fe_test_res).T.sort_index()\n",
    "save_pd_df(out, 'tab_pols_tests.csv', GRAPHS_DIR)"
   ]
  },
  {
   "cell_type": "code",
   "execution_count": 65,
   "id": "f90add8e-f6f5-4e68-acf1-f9662df8d728",
   "metadata": {},
   "outputs": [
    {
     "data": {
      "text/html": [
       "<div>\n",
       "<style scoped>\n",
       "    .dataframe tbody tr th:only-of-type {\n",
       "        vertical-align: middle;\n",
       "    }\n",
       "\n",
       "    .dataframe tbody tr th {\n",
       "        vertical-align: top;\n",
       "    }\n",
       "\n",
       "    .dataframe thead th {\n",
       "        text-align: right;\n",
       "    }\n",
       "</style>\n",
       "<table border=\"1\" class=\"dataframe\">\n",
       "  <thead>\n",
       "    <tr style=\"text-align: right;\">\n",
       "      <th></th>\n",
       "      <th>Breusch Pagan Test</th>\n",
       "      <th>Durbin-Watson Test</th>\n",
       "      <th>Hausmann Test</th>\n",
       "    </tr>\n",
       "  </thead>\n",
       "  <tbody>\n",
       "    <tr>\n",
       "      <th>delta_pe</th>\n",
       "      <td>True ***\\n[204.757]</td>\n",
       "      <td>1.592</td>\n",
       "      <td>True ***\\n[97.742]</td>\n",
       "    </tr>\n",
       "    <tr>\n",
       "      <th>delta_pe_error</th>\n",
       "      <td>True ***\\n[573.451]</td>\n",
       "      <td>1.155</td>\n",
       "      <td>True ***\\n[886.928]</td>\n",
       "    </tr>\n",
       "    <tr>\n",
       "      <th>pi_perc</th>\n",
       "      <td>False \\n[1.413]</td>\n",
       "      <td>1.999</td>\n",
       "      <td>True ***\\n[14.876]</td>\n",
       "    </tr>\n",
       "    <tr>\n",
       "      <th>pi_perc1</th>\n",
       "      <td>False \\n[0.968]</td>\n",
       "      <td>2.001</td>\n",
       "      <td>True ***\\n[46.493]</td>\n",
       "    </tr>\n",
       "    <tr>\n",
       "      <th>pi_perc_error</th>\n",
       "      <td>False *\\n[2.022]</td>\n",
       "      <td>2.033</td>\n",
       "      <td>True ***\\n[36.303]</td>\n",
       "    </tr>\n",
       "  </tbody>\n",
       "</table>\n",
       "</div>"
      ],
      "text/plain": [
       "                 Breusch Pagan Test Durbin-Watson Test        Hausmann Test\n",
       "delta_pe        True ***\\n[204.757]              1.592   True ***\\n[97.742]\n",
       "delta_pe_error  True ***\\n[573.451]              1.155  True ***\\n[886.928]\n",
       "pi_perc             False \\n[1.413]              1.999   True ***\\n[14.876]\n",
       "pi_perc1            False \\n[0.968]              2.001   True ***\\n[46.493]\n",
       "pi_perc_error      False *\\n[2.022]              2.033   True ***\\n[36.303]"
      ]
     },
     "execution_count": 65,
     "metadata": {},
     "output_type": "execute_result"
    }
   ],
   "source": [
    "out"
   ]
  },
  {
   "cell_type": "code",
   "execution_count": null,
   "id": "e1d8e6af-ef02-45f4-af4a-fe907f37608a",
   "metadata": {},
   "outputs": [],
   "source": []
  }
 ],
 "metadata": {
  "kernelspec": {
   "display_name": "mamba_env_memoire2",
   "language": "python",
   "name": "mamba_env_memoire2"
  },
  "language_info": {
   "codemirror_mode": {
    "name": "ipython",
    "version": 3
   },
   "file_extension": ".py",
   "mimetype": "text/x-python",
   "name": "python",
   "nbconvert_exporter": "python",
   "pygments_lexer": "ipython3",
   "version": "3.11.7"
  }
 },
 "nbformat": 4,
 "nbformat_minor": 5
}
