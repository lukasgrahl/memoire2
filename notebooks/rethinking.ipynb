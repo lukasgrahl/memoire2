{
 "cells": [
  {
   "cell_type": "code",
   "execution_count": 1,
   "id": "138e1c82-545a-4be9-a6d1-d4965d113725",
   "metadata": {},
   "outputs": [],
   "source": [
    "%run init_notebook.py"
   ]
  },
  {
   "cell_type": "code",
   "execution_count": 64,
   "id": "f8258e97-d1e3-455e-a581-5743fc30b383",
   "metadata": {},
   "outputs": [],
   "source": [
    "import pymc as pm\n",
    "import arviz as az\n",
    "from src.pymc_modelling import *\n",
    "import scipy\n",
    "import pytensor.tensor as pt"
   ]
  },
  {
   "cell_type": "code",
   "execution_count": 3,
   "id": "a666bd7c-9801-4aad-bea5-1886d79a560f",
   "metadata": {},
   "outputs": [],
   "source": [
    "## lecture 12"
   ]
  },
  {
   "cell_type": "code",
   "execution_count": 15,
   "id": "44d01662-33c4-44bf-8179-0c4c077ce36a",
   "metadata": {},
   "outputs": [],
   "source": [
    "def vec_translate(a, my_dict):    \n",
    "    return np.vectorize(my_dict.__getitem__)(a)"
   ]
  },
  {
   "cell_type": "code",
   "execution_count": 16,
   "id": "93eefc68-1f5b-49f5-a60e-9a641e5301ee",
   "metadata": {},
   "outputs": [
    {
     "data": {
      "text/plain": [
       "array([0.1 , 0.3 , 0.3 , 0.1 , 0.3 , 0.5 , 0.1 , 0.1 , 0.1 , 0.1 , 0.1 ,\n",
       "       0.1 , 0.1 , 0.25, 0.3 , 0.3 , 0.1 , 0.3 , 0.1 , 0.3 , 0.5 , 0.1 ,\n",
       "       0.25, 0.5 , 0.25, 0.25, 0.5 , 0.3 , 0.25, 0.1 , 0.1 , 0.5 , 0.25,\n",
       "       0.5 , 0.1 , 0.25, 0.1 , 0.25, 0.5 , 0.1 , 0.25, 0.1 , 0.3 , 0.1 ,\n",
       "       0.1 , 0.3 , 0.3 , 0.5 , 0.1 , 0.1 , 0.1 , 0.1 , 0.3 , 0.1 , 0.3 ,\n",
       "       0.1 , 0.25, 0.1 , 0.1 , 0.5 , 0.25, 0.1 , 0.5 , 0.5 , 0.1 , 0.25,\n",
       "       0.1 , 0.5 , 0.25, 0.1 , 0.1 , 0.1 , 0.3 , 0.3 , 0.3 , 0.3 , 0.1 ,\n",
       "       0.1 , 0.5 , 0.25, 0.25, 0.1 , 0.1 , 0.25, 0.3 , 0.3 , 0.3 , 0.25,\n",
       "       0.25, 0.3 , 0.25, 0.3 , 0.1 , 0.1 , 0.1 , 0.25, 0.25, 0.5 , 0.3 ,\n",
       "       0.1 ])"
      ]
     },
     "execution_count": 16,
     "metadata": {},
     "output_type": "execute_result"
    }
   ],
   "source": []
  },
  {
   "cell_type": "code",
   "execution_count": 31,
   "id": "6ef23775-9a6e-48d9-9e9a-ae74165a1bf1",
   "metadata": {},
   "outputs": [],
   "source": [
    "col1 = np.random.randint(0, 5, 100)\n",
    "col2 = np.random.randn(100)"
   ]
  },
  {
   "cell_type": "code",
   "execution_count": 54,
   "id": "252e456b-34fd-4c8e-8c7d-493ce236bae4",
   "metadata": {},
   "outputs": [],
   "source": [
    "X = np.array([col1, col2,], ).T\n",
    "\n",
    "col1_beta_true = vec_translate(col1, {0: .1, 1: .1, 2: .5, 3: .3, 4: .25})\n",
    "beta_true = np.array([1, .3])\n",
    "sigma_true = .1\n",
    "alpha_true = .2\n",
    "\n",
    "X_true = np.array([col1_beta_true, col2],)\n",
    "y_true = alpha_true + beta_true @ X_true + scipy.stats.norm(0, sigma_true).rvs(len(X)) "
   ]
  },
  {
   "cell_type": "code",
   "execution_count": 58,
   "id": "d1426252-7f68-4d92-8b5e-73400ae90139",
   "metadata": {},
   "outputs": [
    {
     "name": "stderr",
     "output_type": "stream",
     "text": [
      "Sampling: [alpha, beta_2, sigma, y]\n",
      "C:\\Users\\LukasGrahl\\miniforge3\\envs\\mamba_env_memoire2\\Lib\\site-packages\\pymc\\sampling\\mcmc.py:273: UserWarning: Use of external NUTS sampler is still experimental\n",
      "  warnings.warn(\"Use of external NUTS sampler is still experimental\", UserWarning)\n"
     ]
    },
    {
     "name": "stdout",
     "output_type": "stream",
     "text": [
      "Compiling...\n",
      "Compilation time =  0:00:04.565126\n",
      "Sampling...\n"
     ]
    },
    {
     "data": {
      "application/vnd.jupyter.widget-view+json": {
       "model_id": "c1a6378a555c43cba954338c3fe94e6c",
       "version_major": 2,
       "version_minor": 0
      },
      "text/plain": [
       "  0%|          | 0/2000 [00:00<?, ?it/s]"
      ]
     },
     "metadata": {},
     "output_type": "display_data"
    },
    {
     "data": {
      "application/vnd.jupyter.widget-view+json": {
       "model_id": "aff74bb84fc0438b803bc019fe0c2a43",
       "version_major": 2,
       "version_minor": 0
      },
      "text/plain": [
       "  0%|          | 0/2000 [00:00<?, ?it/s]"
      ]
     },
     "metadata": {},
     "output_type": "display_data"
    },
    {
     "data": {
      "application/vnd.jupyter.widget-view+json": {
       "model_id": "b631c8dab4b04b63af8bca8d07facef4",
       "version_major": 2,
       "version_minor": 0
      },
      "text/plain": [
       "  0%|          | 0/2000 [00:00<?, ?it/s]"
      ]
     },
     "metadata": {},
     "output_type": "display_data"
    },
    {
     "data": {
      "application/vnd.jupyter.widget-view+json": {
       "model_id": "b109600bc2b944b98c066c7328732161",
       "version_major": 2,
       "version_minor": 0
      },
      "text/plain": [
       "  0%|          | 0/2000 [00:00<?, ?it/s]"
      ]
     },
     "metadata": {},
     "output_type": "display_data"
    },
    {
     "name": "stderr",
     "output_type": "stream",
     "text": [
      "Sampling: [y]\n"
     ]
    },
    {
     "name": "stdout",
     "output_type": "stream",
     "text": [
      "Sampling time =  0:00:08.851166\n",
      "Transforming variables...\n",
      "Transformation time =  0:00:00.029522\n"
     ]
    },
    {
     "data": {
      "text/html": [
       "\n",
       "<style>\n",
       "    /* Turns off some styling */\n",
       "    progress {\n",
       "        /* gets rid of default border in Firefox and Opera. */\n",
       "        border: none;\n",
       "        /* Needs to be in here for Safari polyfill so background images work as expected. */\n",
       "        background-size: auto;\n",
       "    }\n",
       "    progress:not([value]), progress:not([value])::-webkit-progress-bar {\n",
       "        background: repeating-linear-gradient(45deg, #7e7e7e, #7e7e7e 10px, #5c5c5c 10px, #5c5c5c 20px);\n",
       "    }\n",
       "    .progress-bar-interrupted, .progress-bar-interrupted::-webkit-progress-bar {\n",
       "        background: #F44336;\n",
       "    }\n",
       "</style>\n"
      ],
      "text/plain": [
       "<IPython.core.display.HTML object>"
      ]
     },
     "metadata": {},
     "output_type": "display_data"
    },
    {
     "data": {
      "text/html": [
       "\n",
       "    <div>\n",
       "      <progress value='4000' class='' max='4000' style='width:300px; height:20px; vertical-align: middle;'></progress>\n",
       "      100.00% [4000/4000 00:01&lt;00:00]\n",
       "    </div>\n",
       "    "
      ],
      "text/plain": [
       "<IPython.core.display.HTML object>"
      ]
     },
     "metadata": {},
     "output_type": "display_data"
    }
   ],
   "source": [
    "with pm.Model() as mod1:\n",
    "    \n",
    "    alpha = pm.Normal('alpha', 0 , 1)\n",
    "    beta_2 = pm.Normal('beta_2', 0, 1)\n",
    "    \n",
    "    sigma = pm.HalfNormal('sigma', 1)\n",
    "    \n",
    "    mu = pm.Deterministic('mu', alpha + beta_2 * X[:,1])\n",
    "    \n",
    "    y_ = pm.Normal('y', mu=mu, sigma=sigma, observed=y_true)\n",
    "    \n",
    "    prior1 = pm.sample_prior_predictive()\n",
    "    idata2 = pm.sample(nuts_sampler='numpyro')\n",
    "    post2 = pm.sample_posterior_predictive(idata)"
   ]
  },
  {
   "cell_type": "code",
   "execution_count": null,
   "id": "bc33e828-6b72-4bb8-a637-f6fc6cb47057",
   "metadata": {},
   "outputs": [
    {
     "name": "stderr",
     "output_type": "stream",
     "text": [
      "Sampling: [alpha, beta_1, beta_2, delta, sigma, y]\n"
     ]
    }
   ],
   "source": [
    "with pm.Model() as mod2:\n",
    "    C = pm.MutableData('riskaversion', X[:,0].astype(int))\n",
    "    \n",
    "    alpha = pm.Normal('alpha', 0 , 1)\n",
    "    beta_1 = pm.Normal('beta_1', 0, 1)\n",
    "    beta_2 = pm.Normal('beta_2', 0, 1)\n",
    "    \n",
    "    sigma = pm.HalfNormal('sigma', 1)\n",
    "    \n",
    "    delta = pm.Dirichlet('delta', np.repeat(0.0, 4), shape=4)\n",
    "    delta_j = pt.concatenate([pt.zeros(1), delta])\n",
    "    delta_j_cum = pt.cumsum(delta_j)\n",
    "    \n",
    "    mu = pm.Deterministic('mu', alpha + beta_1 * delta_j_cum[C] +  beta_2 * X[:,1])\n",
    "    \n",
    "    y_ = pm.Normal('y', mu=mu, sigma=sigma, observed=y_true)\n",
    "    \n",
    "    prior2 = pm.sample_prior_predictive()\n",
    "    idata2 = pm.sample(nuts_sampler='numpyro')\n",
    "    # post2 = pm.sample_posterior_predictive(idata)"
   ]
  },
  {
   "cell_type": "code",
   "execution_count": null,
   "id": "aa1a9622-eeee-46fe-a995-e5c447debb34",
   "metadata": {},
   "outputs": [],
   "source": []
  },
  {
   "cell_type": "code",
   "execution_count": null,
   "id": "af85a7e5-d4f3-488a-8394-d7cc6be4c1af",
   "metadata": {},
   "outputs": [],
   "source": []
  },
  {
   "cell_type": "code",
   "execution_count": null,
   "id": "193a9be8-5376-4215-93f5-aa372b63c79c",
   "metadata": {},
   "outputs": [],
   "source": []
  },
  {
   "cell_type": "code",
   "execution_count": null,
   "id": "1e036e96-e345-4c73-a84c-a3767cf47baa",
   "metadata": {},
   "outputs": [],
   "source": [
    "with pm.Model() as mod_categorical:\n",
    "    R = pm.MutableData('riskaversion', sub.riskaversion.factorize()[0])\n",
    "    \n",
    "    delta = pm.Dirichlet('delta',np.repeat(0.0, 10), shape=10)\n",
    "    delta_j = pt.concatenate([pt.zeros(1), delta])\n",
    "    delta_j_cum = pt.cumsum(delta_j)\n",
    "    \n",
    "    b_R = pm.Normal('b_risk', 0, 1, shape=1)\n",
    "    \n",
    "    y_hat = b_R * delta_j_cum[R]\n",
    "    \n",
    "    lkh = pm.Normal('y', mu=y_hat, sigma=.5, observed=sub[lst_dep_col].values[:,0])"
   ]
  }
 ],
 "metadata": {
  "kernelspec": {
   "display_name": "mamba_env_memoire2",
   "language": "python",
   "name": "mamba_env_memoire2"
  },
  "language_info": {
   "codemirror_mode": {
    "name": "ipython",
    "version": 3
   },
   "file_extension": ".py",
   "mimetype": "text/x-python",
   "name": "python",
   "nbconvert_exporter": "python",
   "pygments_lexer": "ipython3",
   "version": "3.11.7"
  }
 },
 "nbformat": 4,
 "nbformat_minor": 5
}
